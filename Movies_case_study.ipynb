{
 "cells": [
  {
   "cell_type": "markdown",
   "metadata": {},
   "source": [
    "# Import all require module"
   ]
  },
  {
   "cell_type": "code",
   "execution_count": 1,
   "metadata": {},
   "outputs": [],
   "source": [
    "#import all require module\n",
    "import pandas as pd\n",
    "import numpy as np\n",
    "import matplotlib.pyplot as plt\n",
    "import seaborn as sns\n",
    "import warnings\n",
    "warnings.filterwarnings('ignore')"
   ]
  },
  {
   "cell_type": "code",
   "execution_count": 2,
   "metadata": {},
   "outputs": [],
   "source": [
    "#import csv file in dataframe\n",
    "df=pd.read_csv('movies.csv')"
   ]
  },
  {
   "cell_type": "code",
   "execution_count": 3,
   "metadata": {},
   "outputs": [
    {
     "data": {
      "text/html": [
       "<div>\n",
       "<style scoped>\n",
       "    .dataframe tbody tr th:only-of-type {\n",
       "        vertical-align: middle;\n",
       "    }\n",
       "\n",
       "    .dataframe tbody tr th {\n",
       "        vertical-align: top;\n",
       "    }\n",
       "\n",
       "    .dataframe thead th {\n",
       "        text-align: right;\n",
       "    }\n",
       "</style>\n",
       "<table border=\"1\" class=\"dataframe\">\n",
       "  <thead>\n",
       "    <tr style=\"text-align: right;\">\n",
       "      <th></th>\n",
       "      <th>adult</th>\n",
       "      <th>belongs_to_collection</th>\n",
       "      <th>budget</th>\n",
       "      <th>genres</th>\n",
       "      <th>homepage</th>\n",
       "      <th>id</th>\n",
       "      <th>imdb_id</th>\n",
       "      <th>original_language</th>\n",
       "      <th>original_title</th>\n",
       "      <th>overview</th>\n",
       "      <th>...</th>\n",
       "      <th>release_date</th>\n",
       "      <th>revenue</th>\n",
       "      <th>runtime</th>\n",
       "      <th>spoken_languages</th>\n",
       "      <th>status</th>\n",
       "      <th>tagline</th>\n",
       "      <th>title</th>\n",
       "      <th>video</th>\n",
       "      <th>vote_average</th>\n",
       "      <th>vote_count</th>\n",
       "    </tr>\n",
       "  </thead>\n",
       "  <tbody>\n",
       "    <tr>\n",
       "      <th>0</th>\n",
       "      <td>False</td>\n",
       "      <td>{'id': 10194, 'name': 'Toy Story Collection', ...</td>\n",
       "      <td>30000000</td>\n",
       "      <td>[{'id': 16, 'name': 'Animation'}, {'id': 35, '...</td>\n",
       "      <td>http://toystory.disney.com/toy-story</td>\n",
       "      <td>862</td>\n",
       "      <td>tt0114709</td>\n",
       "      <td>en</td>\n",
       "      <td>Toy Story</td>\n",
       "      <td>Led by Woody, Andy's toys live happily in his ...</td>\n",
       "      <td>...</td>\n",
       "      <td>1995-10-30</td>\n",
       "      <td>373554033.0</td>\n",
       "      <td>81.0</td>\n",
       "      <td>[{'iso_639_1': 'en', 'name': 'English'}]</td>\n",
       "      <td>Released</td>\n",
       "      <td>NaN</td>\n",
       "      <td>Toy Story</td>\n",
       "      <td>False</td>\n",
       "      <td>7.7</td>\n",
       "      <td>5415.0</td>\n",
       "    </tr>\n",
       "    <tr>\n",
       "      <th>1</th>\n",
       "      <td>False</td>\n",
       "      <td>NaN</td>\n",
       "      <td>65000000</td>\n",
       "      <td>[{'id': 12, 'name': 'Adventure'}, {'id': 14, '...</td>\n",
       "      <td>NaN</td>\n",
       "      <td>8844</td>\n",
       "      <td>tt0113497</td>\n",
       "      <td>en</td>\n",
       "      <td>Jumanji</td>\n",
       "      <td>When siblings Judy and Peter discover an encha...</td>\n",
       "      <td>...</td>\n",
       "      <td>1995-12-15</td>\n",
       "      <td>262797249.0</td>\n",
       "      <td>104.0</td>\n",
       "      <td>[{'iso_639_1': 'en', 'name': 'English'}, {'iso...</td>\n",
       "      <td>Released</td>\n",
       "      <td>Roll the dice and unleash the excitement!</td>\n",
       "      <td>Jumanji</td>\n",
       "      <td>False</td>\n",
       "      <td>6.9</td>\n",
       "      <td>2413.0</td>\n",
       "    </tr>\n",
       "    <tr>\n",
       "      <th>2</th>\n",
       "      <td>False</td>\n",
       "      <td>{'id': 119050, 'name': 'Grumpy Old Men Collect...</td>\n",
       "      <td>0</td>\n",
       "      <td>[{'id': 10749, 'name': 'Romance'}, {'id': 35, ...</td>\n",
       "      <td>NaN</td>\n",
       "      <td>15602</td>\n",
       "      <td>tt0113228</td>\n",
       "      <td>en</td>\n",
       "      <td>Grumpier Old Men</td>\n",
       "      <td>A family wedding reignites the ancient feud be...</td>\n",
       "      <td>...</td>\n",
       "      <td>1995-12-22</td>\n",
       "      <td>0.0</td>\n",
       "      <td>101.0</td>\n",
       "      <td>[{'iso_639_1': 'en', 'name': 'English'}]</td>\n",
       "      <td>Released</td>\n",
       "      <td>Still Yelling. Still Fighting. Still Ready for...</td>\n",
       "      <td>Grumpier Old Men</td>\n",
       "      <td>False</td>\n",
       "      <td>6.5</td>\n",
       "      <td>92.0</td>\n",
       "    </tr>\n",
       "    <tr>\n",
       "      <th>3</th>\n",
       "      <td>False</td>\n",
       "      <td>NaN</td>\n",
       "      <td>16000000</td>\n",
       "      <td>[{'id': 35, 'name': 'Comedy'}, {'id': 18, 'nam...</td>\n",
       "      <td>NaN</td>\n",
       "      <td>31357</td>\n",
       "      <td>tt0114885</td>\n",
       "      <td>en</td>\n",
       "      <td>Waiting to Exhale</td>\n",
       "      <td>Cheated on, mistreated and stepped on, the wom...</td>\n",
       "      <td>...</td>\n",
       "      <td>1995-12-22</td>\n",
       "      <td>81452156.0</td>\n",
       "      <td>127.0</td>\n",
       "      <td>[{'iso_639_1': 'en', 'name': 'English'}]</td>\n",
       "      <td>Released</td>\n",
       "      <td>Friends are the people who let you be yourself...</td>\n",
       "      <td>Waiting to Exhale</td>\n",
       "      <td>False</td>\n",
       "      <td>6.1</td>\n",
       "      <td>34.0</td>\n",
       "    </tr>\n",
       "    <tr>\n",
       "      <th>4</th>\n",
       "      <td>False</td>\n",
       "      <td>{'id': 96871, 'name': 'Father of the Bride Col...</td>\n",
       "      <td>0</td>\n",
       "      <td>[{'id': 35, 'name': 'Comedy'}]</td>\n",
       "      <td>NaN</td>\n",
       "      <td>11862</td>\n",
       "      <td>tt0113041</td>\n",
       "      <td>en</td>\n",
       "      <td>Father of the Bride Part II</td>\n",
       "      <td>Just when George Banks has recovered from his ...</td>\n",
       "      <td>...</td>\n",
       "      <td>1995-02-10</td>\n",
       "      <td>76578911.0</td>\n",
       "      <td>106.0</td>\n",
       "      <td>[{'iso_639_1': 'en', 'name': 'English'}]</td>\n",
       "      <td>Released</td>\n",
       "      <td>Just When His World Is Back To Normal... He's ...</td>\n",
       "      <td>Father of the Bride Part II</td>\n",
       "      <td>False</td>\n",
       "      <td>5.7</td>\n",
       "      <td>173.0</td>\n",
       "    </tr>\n",
       "    <tr>\n",
       "      <th>...</th>\n",
       "      <td>...</td>\n",
       "      <td>...</td>\n",
       "      <td>...</td>\n",
       "      <td>...</td>\n",
       "      <td>...</td>\n",
       "      <td>...</td>\n",
       "      <td>...</td>\n",
       "      <td>...</td>\n",
       "      <td>...</td>\n",
       "      <td>...</td>\n",
       "      <td>...</td>\n",
       "      <td>...</td>\n",
       "      <td>...</td>\n",
       "      <td>...</td>\n",
       "      <td>...</td>\n",
       "      <td>...</td>\n",
       "      <td>...</td>\n",
       "      <td>...</td>\n",
       "      <td>...</td>\n",
       "      <td>...</td>\n",
       "      <td>...</td>\n",
       "    </tr>\n",
       "    <tr>\n",
       "      <th>45461</th>\n",
       "      <td>False</td>\n",
       "      <td>NaN</td>\n",
       "      <td>0</td>\n",
       "      <td>[{'id': 18, 'name': 'Drama'}, {'id': 10751, 'n...</td>\n",
       "      <td>http://www.imdb.com/title/tt6209470/</td>\n",
       "      <td>439050</td>\n",
       "      <td>tt6209470</td>\n",
       "      <td>fa</td>\n",
       "      <td>رگ خواب</td>\n",
       "      <td>Rising and falling between a man and woman.</td>\n",
       "      <td>...</td>\n",
       "      <td>NaN</td>\n",
       "      <td>0.0</td>\n",
       "      <td>90.0</td>\n",
       "      <td>[{'iso_639_1': 'fa', 'name': 'فارسی'}]</td>\n",
       "      <td>Released</td>\n",
       "      <td>Rising and falling between a man and woman</td>\n",
       "      <td>Subdue</td>\n",
       "      <td>False</td>\n",
       "      <td>4.0</td>\n",
       "      <td>1.0</td>\n",
       "    </tr>\n",
       "    <tr>\n",
       "      <th>45462</th>\n",
       "      <td>False</td>\n",
       "      <td>NaN</td>\n",
       "      <td>0</td>\n",
       "      <td>[{'id': 18, 'name': 'Drama'}]</td>\n",
       "      <td>NaN</td>\n",
       "      <td>111109</td>\n",
       "      <td>tt2028550</td>\n",
       "      <td>tl</td>\n",
       "      <td>Siglo ng Pagluluwal</td>\n",
       "      <td>An artist struggles to finish his work while a...</td>\n",
       "      <td>...</td>\n",
       "      <td>2011-11-17</td>\n",
       "      <td>0.0</td>\n",
       "      <td>360.0</td>\n",
       "      <td>[{'iso_639_1': 'tl', 'name': ''}]</td>\n",
       "      <td>Released</td>\n",
       "      <td>NaN</td>\n",
       "      <td>Century of Birthing</td>\n",
       "      <td>False</td>\n",
       "      <td>9.0</td>\n",
       "      <td>3.0</td>\n",
       "    </tr>\n",
       "    <tr>\n",
       "      <th>45463</th>\n",
       "      <td>False</td>\n",
       "      <td>NaN</td>\n",
       "      <td>0</td>\n",
       "      <td>[{'id': 28, 'name': 'Action'}, {'id': 18, 'nam...</td>\n",
       "      <td>NaN</td>\n",
       "      <td>67758</td>\n",
       "      <td>tt0303758</td>\n",
       "      <td>en</td>\n",
       "      <td>Betrayal</td>\n",
       "      <td>When one of her hits goes wrong, a professiona...</td>\n",
       "      <td>...</td>\n",
       "      <td>2003-08-01</td>\n",
       "      <td>0.0</td>\n",
       "      <td>90.0</td>\n",
       "      <td>[{'iso_639_1': 'en', 'name': 'English'}]</td>\n",
       "      <td>Released</td>\n",
       "      <td>A deadly game of wits.</td>\n",
       "      <td>Betrayal</td>\n",
       "      <td>False</td>\n",
       "      <td>3.8</td>\n",
       "      <td>6.0</td>\n",
       "    </tr>\n",
       "    <tr>\n",
       "      <th>45464</th>\n",
       "      <td>False</td>\n",
       "      <td>NaN</td>\n",
       "      <td>0</td>\n",
       "      <td>[]</td>\n",
       "      <td>NaN</td>\n",
       "      <td>227506</td>\n",
       "      <td>tt0008536</td>\n",
       "      <td>en</td>\n",
       "      <td>Satana likuyushchiy</td>\n",
       "      <td>In a small town live two brothers, one a minis...</td>\n",
       "      <td>...</td>\n",
       "      <td>1917-10-21</td>\n",
       "      <td>0.0</td>\n",
       "      <td>87.0</td>\n",
       "      <td>[]</td>\n",
       "      <td>Released</td>\n",
       "      <td>NaN</td>\n",
       "      <td>Satan Triumphant</td>\n",
       "      <td>False</td>\n",
       "      <td>0.0</td>\n",
       "      <td>0.0</td>\n",
       "    </tr>\n",
       "    <tr>\n",
       "      <th>45465</th>\n",
       "      <td>False</td>\n",
       "      <td>NaN</td>\n",
       "      <td>0</td>\n",
       "      <td>[]</td>\n",
       "      <td>NaN</td>\n",
       "      <td>461257</td>\n",
       "      <td>tt6980792</td>\n",
       "      <td>en</td>\n",
       "      <td>Queerama</td>\n",
       "      <td>50 years after decriminalisation of homosexual...</td>\n",
       "      <td>...</td>\n",
       "      <td>2017-06-09</td>\n",
       "      <td>0.0</td>\n",
       "      <td>75.0</td>\n",
       "      <td>[{'iso_639_1': 'en', 'name': 'English'}]</td>\n",
       "      <td>Released</td>\n",
       "      <td>NaN</td>\n",
       "      <td>Queerama</td>\n",
       "      <td>False</td>\n",
       "      <td>0.0</td>\n",
       "      <td>0.0</td>\n",
       "    </tr>\n",
       "  </tbody>\n",
       "</table>\n",
       "<p>45466 rows × 24 columns</p>\n",
       "</div>"
      ],
      "text/plain": [
       "       adult                              belongs_to_collection    budget  \\\n",
       "0      False  {'id': 10194, 'name': 'Toy Story Collection', ...  30000000   \n",
       "1      False                                                NaN  65000000   \n",
       "2      False  {'id': 119050, 'name': 'Grumpy Old Men Collect...         0   \n",
       "3      False                                                NaN  16000000   \n",
       "4      False  {'id': 96871, 'name': 'Father of the Bride Col...         0   \n",
       "...      ...                                                ...       ...   \n",
       "45461  False                                                NaN         0   \n",
       "45462  False                                                NaN         0   \n",
       "45463  False                                                NaN         0   \n",
       "45464  False                                                NaN         0   \n",
       "45465  False                                                NaN         0   \n",
       "\n",
       "                                                  genres  \\\n",
       "0      [{'id': 16, 'name': 'Animation'}, {'id': 35, '...   \n",
       "1      [{'id': 12, 'name': 'Adventure'}, {'id': 14, '...   \n",
       "2      [{'id': 10749, 'name': 'Romance'}, {'id': 35, ...   \n",
       "3      [{'id': 35, 'name': 'Comedy'}, {'id': 18, 'nam...   \n",
       "4                         [{'id': 35, 'name': 'Comedy'}]   \n",
       "...                                                  ...   \n",
       "45461  [{'id': 18, 'name': 'Drama'}, {'id': 10751, 'n...   \n",
       "45462                      [{'id': 18, 'name': 'Drama'}]   \n",
       "45463  [{'id': 28, 'name': 'Action'}, {'id': 18, 'nam...   \n",
       "45464                                                 []   \n",
       "45465                                                 []   \n",
       "\n",
       "                                   homepage      id    imdb_id  \\\n",
       "0      http://toystory.disney.com/toy-story     862  tt0114709   \n",
       "1                                       NaN    8844  tt0113497   \n",
       "2                                       NaN   15602  tt0113228   \n",
       "3                                       NaN   31357  tt0114885   \n",
       "4                                       NaN   11862  tt0113041   \n",
       "...                                     ...     ...        ...   \n",
       "45461  http://www.imdb.com/title/tt6209470/  439050  tt6209470   \n",
       "45462                                   NaN  111109  tt2028550   \n",
       "45463                                   NaN   67758  tt0303758   \n",
       "45464                                   NaN  227506  tt0008536   \n",
       "45465                                   NaN  461257  tt6980792   \n",
       "\n",
       "      original_language               original_title  \\\n",
       "0                    en                    Toy Story   \n",
       "1                    en                      Jumanji   \n",
       "2                    en             Grumpier Old Men   \n",
       "3                    en            Waiting to Exhale   \n",
       "4                    en  Father of the Bride Part II   \n",
       "...                 ...                          ...   \n",
       "45461                fa                      رگ خواب   \n",
       "45462                tl          Siglo ng Pagluluwal   \n",
       "45463                en                     Betrayal   \n",
       "45464                en          Satana likuyushchiy   \n",
       "45465                en                     Queerama   \n",
       "\n",
       "                                                overview  ... release_date  \\\n",
       "0      Led by Woody, Andy's toys live happily in his ...  ...   1995-10-30   \n",
       "1      When siblings Judy and Peter discover an encha...  ...   1995-12-15   \n",
       "2      A family wedding reignites the ancient feud be...  ...   1995-12-22   \n",
       "3      Cheated on, mistreated and stepped on, the wom...  ...   1995-12-22   \n",
       "4      Just when George Banks has recovered from his ...  ...   1995-02-10   \n",
       "...                                                  ...  ...          ...   \n",
       "45461        Rising and falling between a man and woman.  ...          NaN   \n",
       "45462  An artist struggles to finish his work while a...  ...   2011-11-17   \n",
       "45463  When one of her hits goes wrong, a professiona...  ...   2003-08-01   \n",
       "45464  In a small town live two brothers, one a minis...  ...   1917-10-21   \n",
       "45465  50 years after decriminalisation of homosexual...  ...   2017-06-09   \n",
       "\n",
       "           revenue runtime                                   spoken_languages  \\\n",
       "0      373554033.0    81.0           [{'iso_639_1': 'en', 'name': 'English'}]   \n",
       "1      262797249.0   104.0  [{'iso_639_1': 'en', 'name': 'English'}, {'iso...   \n",
       "2              0.0   101.0           [{'iso_639_1': 'en', 'name': 'English'}]   \n",
       "3       81452156.0   127.0           [{'iso_639_1': 'en', 'name': 'English'}]   \n",
       "4       76578911.0   106.0           [{'iso_639_1': 'en', 'name': 'English'}]   \n",
       "...            ...     ...                                                ...   \n",
       "45461          0.0    90.0             [{'iso_639_1': 'fa', 'name': 'فارسی'}]   \n",
       "45462          0.0   360.0                  [{'iso_639_1': 'tl', 'name': ''}]   \n",
       "45463          0.0    90.0           [{'iso_639_1': 'en', 'name': 'English'}]   \n",
       "45464          0.0    87.0                                                 []   \n",
       "45465          0.0    75.0           [{'iso_639_1': 'en', 'name': 'English'}]   \n",
       "\n",
       "         status                                            tagline  \\\n",
       "0      Released                                                NaN   \n",
       "1      Released          Roll the dice and unleash the excitement!   \n",
       "2      Released  Still Yelling. Still Fighting. Still Ready for...   \n",
       "3      Released  Friends are the people who let you be yourself...   \n",
       "4      Released  Just When His World Is Back To Normal... He's ...   \n",
       "...         ...                                                ...   \n",
       "45461  Released         Rising and falling between a man and woman   \n",
       "45462  Released                                                NaN   \n",
       "45463  Released                             A deadly game of wits.   \n",
       "45464  Released                                                NaN   \n",
       "45465  Released                                                NaN   \n",
       "\n",
       "                             title  video vote_average vote_count  \n",
       "0                        Toy Story  False          7.7     5415.0  \n",
       "1                          Jumanji  False          6.9     2413.0  \n",
       "2                 Grumpier Old Men  False          6.5       92.0  \n",
       "3                Waiting to Exhale  False          6.1       34.0  \n",
       "4      Father of the Bride Part II  False          5.7      173.0  \n",
       "...                            ...    ...          ...        ...  \n",
       "45461                       Subdue  False          4.0        1.0  \n",
       "45462          Century of Birthing  False          9.0        3.0  \n",
       "45463                     Betrayal  False          3.8        6.0  \n",
       "45464             Satan Triumphant  False          0.0        0.0  \n",
       "45465                     Queerama  False          0.0        0.0  \n",
       "\n",
       "[45466 rows x 24 columns]"
      ]
     },
     "execution_count": 3,
     "metadata": {},
     "output_type": "execute_result"
    }
   ],
   "source": [
    "df"
   ]
  },
  {
   "cell_type": "code",
   "execution_count": 4,
   "metadata": {},
   "outputs": [
    {
     "name": "stdout",
     "output_type": "stream",
     "text": [
      "<class 'pandas.core.frame.DataFrame'>\n",
      "RangeIndex: 45466 entries, 0 to 45465\n",
      "Data columns (total 24 columns):\n",
      " #   Column                 Non-Null Count  Dtype  \n",
      "---  ------                 --------------  -----  \n",
      " 0   adult                  45466 non-null  object \n",
      " 1   belongs_to_collection  4494 non-null   object \n",
      " 2   budget                 45466 non-null  object \n",
      " 3   genres                 45466 non-null  object \n",
      " 4   homepage               7782 non-null   object \n",
      " 5   id                     45466 non-null  object \n",
      " 6   imdb_id                45449 non-null  object \n",
      " 7   original_language      45455 non-null  object \n",
      " 8   original_title         45466 non-null  object \n",
      " 9   overview               44512 non-null  object \n",
      " 10  popularity             45461 non-null  object \n",
      " 11  poster_path            45080 non-null  object \n",
      " 12  production_companies   45463 non-null  object \n",
      " 13  production_countries   45463 non-null  object \n",
      " 14  release_date           45379 non-null  object \n",
      " 15  revenue                45460 non-null  float64\n",
      " 16  runtime                45203 non-null  float64\n",
      " 17  spoken_languages       45460 non-null  object \n",
      " 18  status                 45379 non-null  object \n",
      " 19  tagline                20412 non-null  object \n",
      " 20  title                  45460 non-null  object \n",
      " 21  video                  45460 non-null  object \n",
      " 22  vote_average           45460 non-null  float64\n",
      " 23  vote_count             45460 non-null  float64\n",
      "dtypes: float64(4), object(20)\n",
      "memory usage: 8.3+ MB\n"
     ]
    }
   ],
   "source": [
    "df.info()"
   ]
  },
  {
   "cell_type": "code",
   "execution_count": 5,
   "metadata": {},
   "outputs": [],
   "source": [
    "#set id in df\n",
    "df.insert(0, 'ID', range(1, 1 + len(df)))\n",
    "df.set_index(\"ID\",inplace=True)"
   ]
  },
  {
   "cell_type": "code",
   "execution_count": 6,
   "metadata": {},
   "outputs": [
    {
     "data": {
      "text/html": [
       "<div>\n",
       "<style scoped>\n",
       "    .dataframe tbody tr th:only-of-type {\n",
       "        vertical-align: middle;\n",
       "    }\n",
       "\n",
       "    .dataframe tbody tr th {\n",
       "        vertical-align: top;\n",
       "    }\n",
       "\n",
       "    .dataframe thead th {\n",
       "        text-align: right;\n",
       "    }\n",
       "</style>\n",
       "<table border=\"1\" class=\"dataframe\">\n",
       "  <thead>\n",
       "    <tr style=\"text-align: right;\">\n",
       "      <th></th>\n",
       "      <th>adult</th>\n",
       "      <th>belongs_to_collection</th>\n",
       "      <th>budget</th>\n",
       "      <th>genres</th>\n",
       "      <th>homepage</th>\n",
       "      <th>id</th>\n",
       "      <th>imdb_id</th>\n",
       "      <th>original_language</th>\n",
       "      <th>original_title</th>\n",
       "      <th>overview</th>\n",
       "      <th>...</th>\n",
       "      <th>release_date</th>\n",
       "      <th>revenue</th>\n",
       "      <th>runtime</th>\n",
       "      <th>spoken_languages</th>\n",
       "      <th>status</th>\n",
       "      <th>tagline</th>\n",
       "      <th>title</th>\n",
       "      <th>video</th>\n",
       "      <th>vote_average</th>\n",
       "      <th>vote_count</th>\n",
       "    </tr>\n",
       "    <tr>\n",
       "      <th>ID</th>\n",
       "      <th></th>\n",
       "      <th></th>\n",
       "      <th></th>\n",
       "      <th></th>\n",
       "      <th></th>\n",
       "      <th></th>\n",
       "      <th></th>\n",
       "      <th></th>\n",
       "      <th></th>\n",
       "      <th></th>\n",
       "      <th></th>\n",
       "      <th></th>\n",
       "      <th></th>\n",
       "      <th></th>\n",
       "      <th></th>\n",
       "      <th></th>\n",
       "      <th></th>\n",
       "      <th></th>\n",
       "      <th></th>\n",
       "      <th></th>\n",
       "      <th></th>\n",
       "    </tr>\n",
       "  </thead>\n",
       "  <tbody>\n",
       "    <tr>\n",
       "      <th>1</th>\n",
       "      <td>False</td>\n",
       "      <td>{'id': 10194, 'name': 'Toy Story Collection', ...</td>\n",
       "      <td>30000000</td>\n",
       "      <td>[{'id': 16, 'name': 'Animation'}, {'id': 35, '...</td>\n",
       "      <td>http://toystory.disney.com/toy-story</td>\n",
       "      <td>862</td>\n",
       "      <td>tt0114709</td>\n",
       "      <td>en</td>\n",
       "      <td>Toy Story</td>\n",
       "      <td>Led by Woody, Andy's toys live happily in his ...</td>\n",
       "      <td>...</td>\n",
       "      <td>1995-10-30</td>\n",
       "      <td>373554033.0</td>\n",
       "      <td>81.0</td>\n",
       "      <td>[{'iso_639_1': 'en', 'name': 'English'}]</td>\n",
       "      <td>Released</td>\n",
       "      <td>NaN</td>\n",
       "      <td>Toy Story</td>\n",
       "      <td>False</td>\n",
       "      <td>7.7</td>\n",
       "      <td>5415.0</td>\n",
       "    </tr>\n",
       "    <tr>\n",
       "      <th>2</th>\n",
       "      <td>False</td>\n",
       "      <td>NaN</td>\n",
       "      <td>65000000</td>\n",
       "      <td>[{'id': 12, 'name': 'Adventure'}, {'id': 14, '...</td>\n",
       "      <td>NaN</td>\n",
       "      <td>8844</td>\n",
       "      <td>tt0113497</td>\n",
       "      <td>en</td>\n",
       "      <td>Jumanji</td>\n",
       "      <td>When siblings Judy and Peter discover an encha...</td>\n",
       "      <td>...</td>\n",
       "      <td>1995-12-15</td>\n",
       "      <td>262797249.0</td>\n",
       "      <td>104.0</td>\n",
       "      <td>[{'iso_639_1': 'en', 'name': 'English'}, {'iso...</td>\n",
       "      <td>Released</td>\n",
       "      <td>Roll the dice and unleash the excitement!</td>\n",
       "      <td>Jumanji</td>\n",
       "      <td>False</td>\n",
       "      <td>6.9</td>\n",
       "      <td>2413.0</td>\n",
       "    </tr>\n",
       "    <tr>\n",
       "      <th>3</th>\n",
       "      <td>False</td>\n",
       "      <td>{'id': 119050, 'name': 'Grumpy Old Men Collect...</td>\n",
       "      <td>0</td>\n",
       "      <td>[{'id': 10749, 'name': 'Romance'}, {'id': 35, ...</td>\n",
       "      <td>NaN</td>\n",
       "      <td>15602</td>\n",
       "      <td>tt0113228</td>\n",
       "      <td>en</td>\n",
       "      <td>Grumpier Old Men</td>\n",
       "      <td>A family wedding reignites the ancient feud be...</td>\n",
       "      <td>...</td>\n",
       "      <td>1995-12-22</td>\n",
       "      <td>0.0</td>\n",
       "      <td>101.0</td>\n",
       "      <td>[{'iso_639_1': 'en', 'name': 'English'}]</td>\n",
       "      <td>Released</td>\n",
       "      <td>Still Yelling. Still Fighting. Still Ready for...</td>\n",
       "      <td>Grumpier Old Men</td>\n",
       "      <td>False</td>\n",
       "      <td>6.5</td>\n",
       "      <td>92.0</td>\n",
       "    </tr>\n",
       "    <tr>\n",
       "      <th>4</th>\n",
       "      <td>False</td>\n",
       "      <td>NaN</td>\n",
       "      <td>16000000</td>\n",
       "      <td>[{'id': 35, 'name': 'Comedy'}, {'id': 18, 'nam...</td>\n",
       "      <td>NaN</td>\n",
       "      <td>31357</td>\n",
       "      <td>tt0114885</td>\n",
       "      <td>en</td>\n",
       "      <td>Waiting to Exhale</td>\n",
       "      <td>Cheated on, mistreated and stepped on, the wom...</td>\n",
       "      <td>...</td>\n",
       "      <td>1995-12-22</td>\n",
       "      <td>81452156.0</td>\n",
       "      <td>127.0</td>\n",
       "      <td>[{'iso_639_1': 'en', 'name': 'English'}]</td>\n",
       "      <td>Released</td>\n",
       "      <td>Friends are the people who let you be yourself...</td>\n",
       "      <td>Waiting to Exhale</td>\n",
       "      <td>False</td>\n",
       "      <td>6.1</td>\n",
       "      <td>34.0</td>\n",
       "    </tr>\n",
       "    <tr>\n",
       "      <th>5</th>\n",
       "      <td>False</td>\n",
       "      <td>{'id': 96871, 'name': 'Father of the Bride Col...</td>\n",
       "      <td>0</td>\n",
       "      <td>[{'id': 35, 'name': 'Comedy'}]</td>\n",
       "      <td>NaN</td>\n",
       "      <td>11862</td>\n",
       "      <td>tt0113041</td>\n",
       "      <td>en</td>\n",
       "      <td>Father of the Bride Part II</td>\n",
       "      <td>Just when George Banks has recovered from his ...</td>\n",
       "      <td>...</td>\n",
       "      <td>1995-02-10</td>\n",
       "      <td>76578911.0</td>\n",
       "      <td>106.0</td>\n",
       "      <td>[{'iso_639_1': 'en', 'name': 'English'}]</td>\n",
       "      <td>Released</td>\n",
       "      <td>Just When His World Is Back To Normal... He's ...</td>\n",
       "      <td>Father of the Bride Part II</td>\n",
       "      <td>False</td>\n",
       "      <td>5.7</td>\n",
       "      <td>173.0</td>\n",
       "    </tr>\n",
       "    <tr>\n",
       "      <th>...</th>\n",
       "      <td>...</td>\n",
       "      <td>...</td>\n",
       "      <td>...</td>\n",
       "      <td>...</td>\n",
       "      <td>...</td>\n",
       "      <td>...</td>\n",
       "      <td>...</td>\n",
       "      <td>...</td>\n",
       "      <td>...</td>\n",
       "      <td>...</td>\n",
       "      <td>...</td>\n",
       "      <td>...</td>\n",
       "      <td>...</td>\n",
       "      <td>...</td>\n",
       "      <td>...</td>\n",
       "      <td>...</td>\n",
       "      <td>...</td>\n",
       "      <td>...</td>\n",
       "      <td>...</td>\n",
       "      <td>...</td>\n",
       "      <td>...</td>\n",
       "    </tr>\n",
       "    <tr>\n",
       "      <th>45462</th>\n",
       "      <td>False</td>\n",
       "      <td>NaN</td>\n",
       "      <td>0</td>\n",
       "      <td>[{'id': 18, 'name': 'Drama'}, {'id': 10751, 'n...</td>\n",
       "      <td>http://www.imdb.com/title/tt6209470/</td>\n",
       "      <td>439050</td>\n",
       "      <td>tt6209470</td>\n",
       "      <td>fa</td>\n",
       "      <td>رگ خواب</td>\n",
       "      <td>Rising and falling between a man and woman.</td>\n",
       "      <td>...</td>\n",
       "      <td>NaN</td>\n",
       "      <td>0.0</td>\n",
       "      <td>90.0</td>\n",
       "      <td>[{'iso_639_1': 'fa', 'name': 'فارسی'}]</td>\n",
       "      <td>Released</td>\n",
       "      <td>Rising and falling between a man and woman</td>\n",
       "      <td>Subdue</td>\n",
       "      <td>False</td>\n",
       "      <td>4.0</td>\n",
       "      <td>1.0</td>\n",
       "    </tr>\n",
       "    <tr>\n",
       "      <th>45463</th>\n",
       "      <td>False</td>\n",
       "      <td>NaN</td>\n",
       "      <td>0</td>\n",
       "      <td>[{'id': 18, 'name': 'Drama'}]</td>\n",
       "      <td>NaN</td>\n",
       "      <td>111109</td>\n",
       "      <td>tt2028550</td>\n",
       "      <td>tl</td>\n",
       "      <td>Siglo ng Pagluluwal</td>\n",
       "      <td>An artist struggles to finish his work while a...</td>\n",
       "      <td>...</td>\n",
       "      <td>2011-11-17</td>\n",
       "      <td>0.0</td>\n",
       "      <td>360.0</td>\n",
       "      <td>[{'iso_639_1': 'tl', 'name': ''}]</td>\n",
       "      <td>Released</td>\n",
       "      <td>NaN</td>\n",
       "      <td>Century of Birthing</td>\n",
       "      <td>False</td>\n",
       "      <td>9.0</td>\n",
       "      <td>3.0</td>\n",
       "    </tr>\n",
       "    <tr>\n",
       "      <th>45464</th>\n",
       "      <td>False</td>\n",
       "      <td>NaN</td>\n",
       "      <td>0</td>\n",
       "      <td>[{'id': 28, 'name': 'Action'}, {'id': 18, 'nam...</td>\n",
       "      <td>NaN</td>\n",
       "      <td>67758</td>\n",
       "      <td>tt0303758</td>\n",
       "      <td>en</td>\n",
       "      <td>Betrayal</td>\n",
       "      <td>When one of her hits goes wrong, a professiona...</td>\n",
       "      <td>...</td>\n",
       "      <td>2003-08-01</td>\n",
       "      <td>0.0</td>\n",
       "      <td>90.0</td>\n",
       "      <td>[{'iso_639_1': 'en', 'name': 'English'}]</td>\n",
       "      <td>Released</td>\n",
       "      <td>A deadly game of wits.</td>\n",
       "      <td>Betrayal</td>\n",
       "      <td>False</td>\n",
       "      <td>3.8</td>\n",
       "      <td>6.0</td>\n",
       "    </tr>\n",
       "    <tr>\n",
       "      <th>45465</th>\n",
       "      <td>False</td>\n",
       "      <td>NaN</td>\n",
       "      <td>0</td>\n",
       "      <td>[]</td>\n",
       "      <td>NaN</td>\n",
       "      <td>227506</td>\n",
       "      <td>tt0008536</td>\n",
       "      <td>en</td>\n",
       "      <td>Satana likuyushchiy</td>\n",
       "      <td>In a small town live two brothers, one a minis...</td>\n",
       "      <td>...</td>\n",
       "      <td>1917-10-21</td>\n",
       "      <td>0.0</td>\n",
       "      <td>87.0</td>\n",
       "      <td>[]</td>\n",
       "      <td>Released</td>\n",
       "      <td>NaN</td>\n",
       "      <td>Satan Triumphant</td>\n",
       "      <td>False</td>\n",
       "      <td>0.0</td>\n",
       "      <td>0.0</td>\n",
       "    </tr>\n",
       "    <tr>\n",
       "      <th>45466</th>\n",
       "      <td>False</td>\n",
       "      <td>NaN</td>\n",
       "      <td>0</td>\n",
       "      <td>[]</td>\n",
       "      <td>NaN</td>\n",
       "      <td>461257</td>\n",
       "      <td>tt6980792</td>\n",
       "      <td>en</td>\n",
       "      <td>Queerama</td>\n",
       "      <td>50 years after decriminalisation of homosexual...</td>\n",
       "      <td>...</td>\n",
       "      <td>2017-06-09</td>\n",
       "      <td>0.0</td>\n",
       "      <td>75.0</td>\n",
       "      <td>[{'iso_639_1': 'en', 'name': 'English'}]</td>\n",
       "      <td>Released</td>\n",
       "      <td>NaN</td>\n",
       "      <td>Queerama</td>\n",
       "      <td>False</td>\n",
       "      <td>0.0</td>\n",
       "      <td>0.0</td>\n",
       "    </tr>\n",
       "  </tbody>\n",
       "</table>\n",
       "<p>45466 rows × 24 columns</p>\n",
       "</div>"
      ],
      "text/plain": [
       "       adult                              belongs_to_collection    budget  \\\n",
       "ID                                                                          \n",
       "1      False  {'id': 10194, 'name': 'Toy Story Collection', ...  30000000   \n",
       "2      False                                                NaN  65000000   \n",
       "3      False  {'id': 119050, 'name': 'Grumpy Old Men Collect...         0   \n",
       "4      False                                                NaN  16000000   \n",
       "5      False  {'id': 96871, 'name': 'Father of the Bride Col...         0   \n",
       "...      ...                                                ...       ...   \n",
       "45462  False                                                NaN         0   \n",
       "45463  False                                                NaN         0   \n",
       "45464  False                                                NaN         0   \n",
       "45465  False                                                NaN         0   \n",
       "45466  False                                                NaN         0   \n",
       "\n",
       "                                                  genres  \\\n",
       "ID                                                         \n",
       "1      [{'id': 16, 'name': 'Animation'}, {'id': 35, '...   \n",
       "2      [{'id': 12, 'name': 'Adventure'}, {'id': 14, '...   \n",
       "3      [{'id': 10749, 'name': 'Romance'}, {'id': 35, ...   \n",
       "4      [{'id': 35, 'name': 'Comedy'}, {'id': 18, 'nam...   \n",
       "5                         [{'id': 35, 'name': 'Comedy'}]   \n",
       "...                                                  ...   \n",
       "45462  [{'id': 18, 'name': 'Drama'}, {'id': 10751, 'n...   \n",
       "45463                      [{'id': 18, 'name': 'Drama'}]   \n",
       "45464  [{'id': 28, 'name': 'Action'}, {'id': 18, 'nam...   \n",
       "45465                                                 []   \n",
       "45466                                                 []   \n",
       "\n",
       "                                   homepage      id    imdb_id  \\\n",
       "ID                                                               \n",
       "1      http://toystory.disney.com/toy-story     862  tt0114709   \n",
       "2                                       NaN    8844  tt0113497   \n",
       "3                                       NaN   15602  tt0113228   \n",
       "4                                       NaN   31357  tt0114885   \n",
       "5                                       NaN   11862  tt0113041   \n",
       "...                                     ...     ...        ...   \n",
       "45462  http://www.imdb.com/title/tt6209470/  439050  tt6209470   \n",
       "45463                                   NaN  111109  tt2028550   \n",
       "45464                                   NaN   67758  tt0303758   \n",
       "45465                                   NaN  227506  tt0008536   \n",
       "45466                                   NaN  461257  tt6980792   \n",
       "\n",
       "      original_language               original_title  \\\n",
       "ID                                                     \n",
       "1                    en                    Toy Story   \n",
       "2                    en                      Jumanji   \n",
       "3                    en             Grumpier Old Men   \n",
       "4                    en            Waiting to Exhale   \n",
       "5                    en  Father of the Bride Part II   \n",
       "...                 ...                          ...   \n",
       "45462                fa                      رگ خواب   \n",
       "45463                tl          Siglo ng Pagluluwal   \n",
       "45464                en                     Betrayal   \n",
       "45465                en          Satana likuyushchiy   \n",
       "45466                en                     Queerama   \n",
       "\n",
       "                                                overview  ... release_date  \\\n",
       "ID                                                        ...                \n",
       "1      Led by Woody, Andy's toys live happily in his ...  ...   1995-10-30   \n",
       "2      When siblings Judy and Peter discover an encha...  ...   1995-12-15   \n",
       "3      A family wedding reignites the ancient feud be...  ...   1995-12-22   \n",
       "4      Cheated on, mistreated and stepped on, the wom...  ...   1995-12-22   \n",
       "5      Just when George Banks has recovered from his ...  ...   1995-02-10   \n",
       "...                                                  ...  ...          ...   \n",
       "45462        Rising and falling between a man and woman.  ...          NaN   \n",
       "45463  An artist struggles to finish his work while a...  ...   2011-11-17   \n",
       "45464  When one of her hits goes wrong, a professiona...  ...   2003-08-01   \n",
       "45465  In a small town live two brothers, one a minis...  ...   1917-10-21   \n",
       "45466  50 years after decriminalisation of homosexual...  ...   2017-06-09   \n",
       "\n",
       "           revenue runtime                                   spoken_languages  \\\n",
       "ID                                                                              \n",
       "1      373554033.0    81.0           [{'iso_639_1': 'en', 'name': 'English'}]   \n",
       "2      262797249.0   104.0  [{'iso_639_1': 'en', 'name': 'English'}, {'iso...   \n",
       "3              0.0   101.0           [{'iso_639_1': 'en', 'name': 'English'}]   \n",
       "4       81452156.0   127.0           [{'iso_639_1': 'en', 'name': 'English'}]   \n",
       "5       76578911.0   106.0           [{'iso_639_1': 'en', 'name': 'English'}]   \n",
       "...            ...     ...                                                ...   \n",
       "45462          0.0    90.0             [{'iso_639_1': 'fa', 'name': 'فارسی'}]   \n",
       "45463          0.0   360.0                  [{'iso_639_1': 'tl', 'name': ''}]   \n",
       "45464          0.0    90.0           [{'iso_639_1': 'en', 'name': 'English'}]   \n",
       "45465          0.0    87.0                                                 []   \n",
       "45466          0.0    75.0           [{'iso_639_1': 'en', 'name': 'English'}]   \n",
       "\n",
       "         status                                            tagline  \\\n",
       "ID                                                                   \n",
       "1      Released                                                NaN   \n",
       "2      Released          Roll the dice and unleash the excitement!   \n",
       "3      Released  Still Yelling. Still Fighting. Still Ready for...   \n",
       "4      Released  Friends are the people who let you be yourself...   \n",
       "5      Released  Just When His World Is Back To Normal... He's ...   \n",
       "...         ...                                                ...   \n",
       "45462  Released         Rising and falling between a man and woman   \n",
       "45463  Released                                                NaN   \n",
       "45464  Released                             A deadly game of wits.   \n",
       "45465  Released                                                NaN   \n",
       "45466  Released                                                NaN   \n",
       "\n",
       "                             title  video vote_average vote_count  \n",
       "ID                                                                 \n",
       "1                        Toy Story  False          7.7     5415.0  \n",
       "2                          Jumanji  False          6.9     2413.0  \n",
       "3                 Grumpier Old Men  False          6.5       92.0  \n",
       "4                Waiting to Exhale  False          6.1       34.0  \n",
       "5      Father of the Bride Part II  False          5.7      173.0  \n",
       "...                            ...    ...          ...        ...  \n",
       "45462                       Subdue  False          4.0        1.0  \n",
       "45463          Century of Birthing  False          9.0        3.0  \n",
       "45464                     Betrayal  False          3.8        6.0  \n",
       "45465             Satan Triumphant  False          0.0        0.0  \n",
       "45466                     Queerama  False          0.0        0.0  \n",
       "\n",
       "[45466 rows x 24 columns]"
      ]
     },
     "execution_count": 6,
     "metadata": {},
     "output_type": "execute_result"
    }
   ],
   "source": [
    "df"
   ]
  },
  {
   "cell_type": "code",
   "execution_count": 7,
   "metadata": {},
   "outputs": [
    {
     "data": {
      "text/plain": [
       "adult                        0\n",
       "belongs_to_collection    40972\n",
       "budget                       0\n",
       "genres                       0\n",
       "homepage                 37684\n",
       "id                           0\n",
       "imdb_id                     17\n",
       "original_language           11\n",
       "original_title               0\n",
       "overview                   954\n",
       "popularity                   5\n",
       "poster_path                386\n",
       "production_companies         3\n",
       "production_countries         3\n",
       "release_date                87\n",
       "revenue                      6\n",
       "runtime                    263\n",
       "spoken_languages             6\n",
       "status                      87\n",
       "tagline                  25054\n",
       "title                        6\n",
       "video                        6\n",
       "vote_average                 6\n",
       "vote_count                   6\n",
       "dtype: int64"
      ]
     },
     "execution_count": 7,
     "metadata": {},
     "output_type": "execute_result"
    }
   ],
   "source": [
    "#measure the nan(null) values in df\n",
    "df.isnull().sum()"
   ]
  },
  {
   "cell_type": "code",
   "execution_count": 8,
   "metadata": {},
   "outputs": [
    {
     "name": "stdout",
     "output_type": "stream",
     "text": [
      "adult                     0.000000\n",
      "belongs_to_collection    90.115691\n",
      "budget                    0.000000\n",
      "genres                    0.000000\n",
      "homepage                 82.883913\n",
      "id                        0.000000\n",
      "imdb_id                   0.037391\n",
      "original_language         0.024194\n",
      "original_title            0.000000\n",
      "overview                  2.098271\n",
      "popularity                0.010997\n",
      "poster_path               0.848986\n",
      "production_companies      0.006598\n",
      "production_countries      0.006598\n",
      "release_date              0.191352\n",
      "revenue                   0.013197\n",
      "runtime                   0.578454\n",
      "spoken_languages          0.013197\n",
      "status                    0.191352\n",
      "tagline                  55.104914\n",
      "title                     0.013197\n",
      "video                     0.013197\n",
      "vote_average              0.013197\n",
      "vote_count                0.013197\n",
      "dtype: float64\n"
     ]
    }
   ],
   "source": [
    "#percentage of nan(null) values in df\n",
    "nullper=(df.isnull().sum()/len(df))*100\n",
    "print(nullper)"
   ]
  },
  {
   "cell_type": "code",
   "execution_count": 9,
   "metadata": {},
   "outputs": [],
   "source": [
    "#remove belongs_to_collection and homepage because of more than 70% of data is null values \n",
    "df.drop([\"belongs_to_collection\"],axis=1,inplace=True)\n",
    "df.drop([\"homepage\"],axis=1,inplace=True)"
   ]
  },
  {
   "cell_type": "code",
   "execution_count": 10,
   "metadata": {},
   "outputs": [],
   "source": [
    "#remove genres,production_companies,production_countries,spoken_languages,release_date,poster_path because it is not important in df\n",
    "df.drop([\"genres\"],axis=1,inplace=True)\n",
    "df.drop([\"production_companies\"],axis=1,inplace=True)\n",
    "df.drop([\"production_countries\"],axis=1,inplace=True)\n",
    "df.drop([\"spoken_languages\"],axis=1,inplace=True)\n",
    "df.drop([\"release_date\"],axis=1,inplace=True)\n",
    "df.drop([\"poster_path\"],axis=1,inplace=True)"
   ]
  },
  {
   "cell_type": "code",
   "execution_count": 11,
   "metadata": {},
   "outputs": [
    {
     "data": {
      "text/html": [
       "<div>\n",
       "<style scoped>\n",
       "    .dataframe tbody tr th:only-of-type {\n",
       "        vertical-align: middle;\n",
       "    }\n",
       "\n",
       "    .dataframe tbody tr th {\n",
       "        vertical-align: top;\n",
       "    }\n",
       "\n",
       "    .dataframe thead th {\n",
       "        text-align: right;\n",
       "    }\n",
       "</style>\n",
       "<table border=\"1\" class=\"dataframe\">\n",
       "  <thead>\n",
       "    <tr style=\"text-align: right;\">\n",
       "      <th></th>\n",
       "      <th>adult</th>\n",
       "      <th>budget</th>\n",
       "      <th>id</th>\n",
       "      <th>imdb_id</th>\n",
       "      <th>original_language</th>\n",
       "      <th>original_title</th>\n",
       "      <th>overview</th>\n",
       "      <th>popularity</th>\n",
       "      <th>revenue</th>\n",
       "      <th>runtime</th>\n",
       "      <th>status</th>\n",
       "      <th>tagline</th>\n",
       "      <th>title</th>\n",
       "      <th>video</th>\n",
       "      <th>vote_average</th>\n",
       "      <th>vote_count</th>\n",
       "    </tr>\n",
       "    <tr>\n",
       "      <th>ID</th>\n",
       "      <th></th>\n",
       "      <th></th>\n",
       "      <th></th>\n",
       "      <th></th>\n",
       "      <th></th>\n",
       "      <th></th>\n",
       "      <th></th>\n",
       "      <th></th>\n",
       "      <th></th>\n",
       "      <th></th>\n",
       "      <th></th>\n",
       "      <th></th>\n",
       "      <th></th>\n",
       "      <th></th>\n",
       "      <th></th>\n",
       "      <th></th>\n",
       "    </tr>\n",
       "  </thead>\n",
       "  <tbody>\n",
       "    <tr>\n",
       "      <th>1</th>\n",
       "      <td>False</td>\n",
       "      <td>30000000</td>\n",
       "      <td>862</td>\n",
       "      <td>tt0114709</td>\n",
       "      <td>en</td>\n",
       "      <td>Toy Story</td>\n",
       "      <td>Led by Woody, Andy's toys live happily in his ...</td>\n",
       "      <td>21.9469</td>\n",
       "      <td>373554033.0</td>\n",
       "      <td>81.0</td>\n",
       "      <td>Released</td>\n",
       "      <td>NaN</td>\n",
       "      <td>Toy Story</td>\n",
       "      <td>False</td>\n",
       "      <td>7.7</td>\n",
       "      <td>5415.0</td>\n",
       "    </tr>\n",
       "    <tr>\n",
       "      <th>2</th>\n",
       "      <td>False</td>\n",
       "      <td>65000000</td>\n",
       "      <td>8844</td>\n",
       "      <td>tt0113497</td>\n",
       "      <td>en</td>\n",
       "      <td>Jumanji</td>\n",
       "      <td>When siblings Judy and Peter discover an encha...</td>\n",
       "      <td>17.0155</td>\n",
       "      <td>262797249.0</td>\n",
       "      <td>104.0</td>\n",
       "      <td>Released</td>\n",
       "      <td>Roll the dice and unleash the excitement!</td>\n",
       "      <td>Jumanji</td>\n",
       "      <td>False</td>\n",
       "      <td>6.9</td>\n",
       "      <td>2413.0</td>\n",
       "    </tr>\n",
       "    <tr>\n",
       "      <th>3</th>\n",
       "      <td>False</td>\n",
       "      <td>0</td>\n",
       "      <td>15602</td>\n",
       "      <td>tt0113228</td>\n",
       "      <td>en</td>\n",
       "      <td>Grumpier Old Men</td>\n",
       "      <td>A family wedding reignites the ancient feud be...</td>\n",
       "      <td>11.7129</td>\n",
       "      <td>0.0</td>\n",
       "      <td>101.0</td>\n",
       "      <td>Released</td>\n",
       "      <td>Still Yelling. Still Fighting. Still Ready for...</td>\n",
       "      <td>Grumpier Old Men</td>\n",
       "      <td>False</td>\n",
       "      <td>6.5</td>\n",
       "      <td>92.0</td>\n",
       "    </tr>\n",
       "    <tr>\n",
       "      <th>4</th>\n",
       "      <td>False</td>\n",
       "      <td>16000000</td>\n",
       "      <td>31357</td>\n",
       "      <td>tt0114885</td>\n",
       "      <td>en</td>\n",
       "      <td>Waiting to Exhale</td>\n",
       "      <td>Cheated on, mistreated and stepped on, the wom...</td>\n",
       "      <td>3.85949</td>\n",
       "      <td>81452156.0</td>\n",
       "      <td>127.0</td>\n",
       "      <td>Released</td>\n",
       "      <td>Friends are the people who let you be yourself...</td>\n",
       "      <td>Waiting to Exhale</td>\n",
       "      <td>False</td>\n",
       "      <td>6.1</td>\n",
       "      <td>34.0</td>\n",
       "    </tr>\n",
       "    <tr>\n",
       "      <th>5</th>\n",
       "      <td>False</td>\n",
       "      <td>0</td>\n",
       "      <td>11862</td>\n",
       "      <td>tt0113041</td>\n",
       "      <td>en</td>\n",
       "      <td>Father of the Bride Part II</td>\n",
       "      <td>Just when George Banks has recovered from his ...</td>\n",
       "      <td>8.38752</td>\n",
       "      <td>76578911.0</td>\n",
       "      <td>106.0</td>\n",
       "      <td>Released</td>\n",
       "      <td>Just When His World Is Back To Normal... He's ...</td>\n",
       "      <td>Father of the Bride Part II</td>\n",
       "      <td>False</td>\n",
       "      <td>5.7</td>\n",
       "      <td>173.0</td>\n",
       "    </tr>\n",
       "    <tr>\n",
       "      <th>...</th>\n",
       "      <td>...</td>\n",
       "      <td>...</td>\n",
       "      <td>...</td>\n",
       "      <td>...</td>\n",
       "      <td>...</td>\n",
       "      <td>...</td>\n",
       "      <td>...</td>\n",
       "      <td>...</td>\n",
       "      <td>...</td>\n",
       "      <td>...</td>\n",
       "      <td>...</td>\n",
       "      <td>...</td>\n",
       "      <td>...</td>\n",
       "      <td>...</td>\n",
       "      <td>...</td>\n",
       "      <td>...</td>\n",
       "    </tr>\n",
       "    <tr>\n",
       "      <th>45462</th>\n",
       "      <td>False</td>\n",
       "      <td>0</td>\n",
       "      <td>439050</td>\n",
       "      <td>tt6209470</td>\n",
       "      <td>fa</td>\n",
       "      <td>رگ خواب</td>\n",
       "      <td>Rising and falling between a man and woman.</td>\n",
       "      <td>0.072051</td>\n",
       "      <td>0.0</td>\n",
       "      <td>90.0</td>\n",
       "      <td>Released</td>\n",
       "      <td>Rising and falling between a man and woman</td>\n",
       "      <td>Subdue</td>\n",
       "      <td>False</td>\n",
       "      <td>4.0</td>\n",
       "      <td>1.0</td>\n",
       "    </tr>\n",
       "    <tr>\n",
       "      <th>45463</th>\n",
       "      <td>False</td>\n",
       "      <td>0</td>\n",
       "      <td>111109</td>\n",
       "      <td>tt2028550</td>\n",
       "      <td>tl</td>\n",
       "      <td>Siglo ng Pagluluwal</td>\n",
       "      <td>An artist struggles to finish his work while a...</td>\n",
       "      <td>0.178241</td>\n",
       "      <td>0.0</td>\n",
       "      <td>360.0</td>\n",
       "      <td>Released</td>\n",
       "      <td>NaN</td>\n",
       "      <td>Century of Birthing</td>\n",
       "      <td>False</td>\n",
       "      <td>9.0</td>\n",
       "      <td>3.0</td>\n",
       "    </tr>\n",
       "    <tr>\n",
       "      <th>45464</th>\n",
       "      <td>False</td>\n",
       "      <td>0</td>\n",
       "      <td>67758</td>\n",
       "      <td>tt0303758</td>\n",
       "      <td>en</td>\n",
       "      <td>Betrayal</td>\n",
       "      <td>When one of her hits goes wrong, a professiona...</td>\n",
       "      <td>0.903007</td>\n",
       "      <td>0.0</td>\n",
       "      <td>90.0</td>\n",
       "      <td>Released</td>\n",
       "      <td>A deadly game of wits.</td>\n",
       "      <td>Betrayal</td>\n",
       "      <td>False</td>\n",
       "      <td>3.8</td>\n",
       "      <td>6.0</td>\n",
       "    </tr>\n",
       "    <tr>\n",
       "      <th>45465</th>\n",
       "      <td>False</td>\n",
       "      <td>0</td>\n",
       "      <td>227506</td>\n",
       "      <td>tt0008536</td>\n",
       "      <td>en</td>\n",
       "      <td>Satana likuyushchiy</td>\n",
       "      <td>In a small town live two brothers, one a minis...</td>\n",
       "      <td>0.003503</td>\n",
       "      <td>0.0</td>\n",
       "      <td>87.0</td>\n",
       "      <td>Released</td>\n",
       "      <td>NaN</td>\n",
       "      <td>Satan Triumphant</td>\n",
       "      <td>False</td>\n",
       "      <td>0.0</td>\n",
       "      <td>0.0</td>\n",
       "    </tr>\n",
       "    <tr>\n",
       "      <th>45466</th>\n",
       "      <td>False</td>\n",
       "      <td>0</td>\n",
       "      <td>461257</td>\n",
       "      <td>tt6980792</td>\n",
       "      <td>en</td>\n",
       "      <td>Queerama</td>\n",
       "      <td>50 years after decriminalisation of homosexual...</td>\n",
       "      <td>0.163015</td>\n",
       "      <td>0.0</td>\n",
       "      <td>75.0</td>\n",
       "      <td>Released</td>\n",
       "      <td>NaN</td>\n",
       "      <td>Queerama</td>\n",
       "      <td>False</td>\n",
       "      <td>0.0</td>\n",
       "      <td>0.0</td>\n",
       "    </tr>\n",
       "  </tbody>\n",
       "</table>\n",
       "<p>45466 rows × 16 columns</p>\n",
       "</div>"
      ],
      "text/plain": [
       "       adult    budget      id    imdb_id original_language  \\\n",
       "ID                                                            \n",
       "1      False  30000000     862  tt0114709                en   \n",
       "2      False  65000000    8844  tt0113497                en   \n",
       "3      False         0   15602  tt0113228                en   \n",
       "4      False  16000000   31357  tt0114885                en   \n",
       "5      False         0   11862  tt0113041                en   \n",
       "...      ...       ...     ...        ...               ...   \n",
       "45462  False         0  439050  tt6209470                fa   \n",
       "45463  False         0  111109  tt2028550                tl   \n",
       "45464  False         0   67758  tt0303758                en   \n",
       "45465  False         0  227506  tt0008536                en   \n",
       "45466  False         0  461257  tt6980792                en   \n",
       "\n",
       "                    original_title  \\\n",
       "ID                                   \n",
       "1                        Toy Story   \n",
       "2                          Jumanji   \n",
       "3                 Grumpier Old Men   \n",
       "4                Waiting to Exhale   \n",
       "5      Father of the Bride Part II   \n",
       "...                            ...   \n",
       "45462                      رگ خواب   \n",
       "45463          Siglo ng Pagluluwal   \n",
       "45464                     Betrayal   \n",
       "45465          Satana likuyushchiy   \n",
       "45466                     Queerama   \n",
       "\n",
       "                                                overview popularity  \\\n",
       "ID                                                                    \n",
       "1      Led by Woody, Andy's toys live happily in his ...    21.9469   \n",
       "2      When siblings Judy and Peter discover an encha...    17.0155   \n",
       "3      A family wedding reignites the ancient feud be...    11.7129   \n",
       "4      Cheated on, mistreated and stepped on, the wom...    3.85949   \n",
       "5      Just when George Banks has recovered from his ...    8.38752   \n",
       "...                                                  ...        ...   \n",
       "45462        Rising and falling between a man and woman.   0.072051   \n",
       "45463  An artist struggles to finish his work while a...   0.178241   \n",
       "45464  When one of her hits goes wrong, a professiona...   0.903007   \n",
       "45465  In a small town live two brothers, one a minis...   0.003503   \n",
       "45466  50 years after decriminalisation of homosexual...   0.163015   \n",
       "\n",
       "           revenue  runtime    status  \\\n",
       "ID                                      \n",
       "1      373554033.0     81.0  Released   \n",
       "2      262797249.0    104.0  Released   \n",
       "3              0.0    101.0  Released   \n",
       "4       81452156.0    127.0  Released   \n",
       "5       76578911.0    106.0  Released   \n",
       "...            ...      ...       ...   \n",
       "45462          0.0     90.0  Released   \n",
       "45463          0.0    360.0  Released   \n",
       "45464          0.0     90.0  Released   \n",
       "45465          0.0     87.0  Released   \n",
       "45466          0.0     75.0  Released   \n",
       "\n",
       "                                                 tagline  \\\n",
       "ID                                                         \n",
       "1                                                    NaN   \n",
       "2              Roll the dice and unleash the excitement!   \n",
       "3      Still Yelling. Still Fighting. Still Ready for...   \n",
       "4      Friends are the people who let you be yourself...   \n",
       "5      Just When His World Is Back To Normal... He's ...   \n",
       "...                                                  ...   \n",
       "45462         Rising and falling between a man and woman   \n",
       "45463                                                NaN   \n",
       "45464                             A deadly game of wits.   \n",
       "45465                                                NaN   \n",
       "45466                                                NaN   \n",
       "\n",
       "                             title  video  vote_average  vote_count  \n",
       "ID                                                                   \n",
       "1                        Toy Story  False           7.7      5415.0  \n",
       "2                          Jumanji  False           6.9      2413.0  \n",
       "3                 Grumpier Old Men  False           6.5        92.0  \n",
       "4                Waiting to Exhale  False           6.1        34.0  \n",
       "5      Father of the Bride Part II  False           5.7       173.0  \n",
       "...                            ...    ...           ...         ...  \n",
       "45462                       Subdue  False           4.0         1.0  \n",
       "45463          Century of Birthing  False           9.0         3.0  \n",
       "45464                     Betrayal  False           3.8         6.0  \n",
       "45465             Satan Triumphant  False           0.0         0.0  \n",
       "45466                     Queerama  False           0.0         0.0  \n",
       "\n",
       "[45466 rows x 16 columns]"
      ]
     },
     "execution_count": 11,
     "metadata": {},
     "output_type": "execute_result"
    }
   ],
   "source": [
    "df"
   ]
  },
  {
   "cell_type": "code",
   "execution_count": 12,
   "metadata": {},
   "outputs": [],
   "source": [
    "#remove \"tt\" from imdb_id \n",
    "df['imdb_id']=pd.to_numeric(df['imdb_id'].str.replace('tt','').str.replace(',', ''), errors='coerce')"
   ]
  },
  {
   "cell_type": "code",
   "execution_count": 13,
   "metadata": {},
   "outputs": [
    {
     "data": {
      "text/html": [
       "<div>\n",
       "<style scoped>\n",
       "    .dataframe tbody tr th:only-of-type {\n",
       "        vertical-align: middle;\n",
       "    }\n",
       "\n",
       "    .dataframe tbody tr th {\n",
       "        vertical-align: top;\n",
       "    }\n",
       "\n",
       "    .dataframe thead th {\n",
       "        text-align: right;\n",
       "    }\n",
       "</style>\n",
       "<table border=\"1\" class=\"dataframe\">\n",
       "  <thead>\n",
       "    <tr style=\"text-align: right;\">\n",
       "      <th></th>\n",
       "      <th>adult</th>\n",
       "      <th>budget</th>\n",
       "      <th>id</th>\n",
       "      <th>imdb_id</th>\n",
       "      <th>original_language</th>\n",
       "      <th>original_title</th>\n",
       "      <th>overview</th>\n",
       "      <th>popularity</th>\n",
       "      <th>revenue</th>\n",
       "      <th>runtime</th>\n",
       "      <th>status</th>\n",
       "      <th>tagline</th>\n",
       "      <th>title</th>\n",
       "      <th>video</th>\n",
       "      <th>vote_average</th>\n",
       "      <th>vote_count</th>\n",
       "    </tr>\n",
       "    <tr>\n",
       "      <th>ID</th>\n",
       "      <th></th>\n",
       "      <th></th>\n",
       "      <th></th>\n",
       "      <th></th>\n",
       "      <th></th>\n",
       "      <th></th>\n",
       "      <th></th>\n",
       "      <th></th>\n",
       "      <th></th>\n",
       "      <th></th>\n",
       "      <th></th>\n",
       "      <th></th>\n",
       "      <th></th>\n",
       "      <th></th>\n",
       "      <th></th>\n",
       "      <th></th>\n",
       "    </tr>\n",
       "  </thead>\n",
       "  <tbody>\n",
       "    <tr>\n",
       "      <th>1</th>\n",
       "      <td>False</td>\n",
       "      <td>30000000</td>\n",
       "      <td>862</td>\n",
       "      <td>114709.0</td>\n",
       "      <td>en</td>\n",
       "      <td>Toy Story</td>\n",
       "      <td>Led by Woody, Andy's toys live happily in his ...</td>\n",
       "      <td>21.9469</td>\n",
       "      <td>373554033.0</td>\n",
       "      <td>81.0</td>\n",
       "      <td>Released</td>\n",
       "      <td>NaN</td>\n",
       "      <td>Toy Story</td>\n",
       "      <td>False</td>\n",
       "      <td>7.7</td>\n",
       "      <td>5415.0</td>\n",
       "    </tr>\n",
       "    <tr>\n",
       "      <th>2</th>\n",
       "      <td>False</td>\n",
       "      <td>65000000</td>\n",
       "      <td>8844</td>\n",
       "      <td>113497.0</td>\n",
       "      <td>en</td>\n",
       "      <td>Jumanji</td>\n",
       "      <td>When siblings Judy and Peter discover an encha...</td>\n",
       "      <td>17.0155</td>\n",
       "      <td>262797249.0</td>\n",
       "      <td>104.0</td>\n",
       "      <td>Released</td>\n",
       "      <td>Roll the dice and unleash the excitement!</td>\n",
       "      <td>Jumanji</td>\n",
       "      <td>False</td>\n",
       "      <td>6.9</td>\n",
       "      <td>2413.0</td>\n",
       "    </tr>\n",
       "    <tr>\n",
       "      <th>3</th>\n",
       "      <td>False</td>\n",
       "      <td>0</td>\n",
       "      <td>15602</td>\n",
       "      <td>113228.0</td>\n",
       "      <td>en</td>\n",
       "      <td>Grumpier Old Men</td>\n",
       "      <td>A family wedding reignites the ancient feud be...</td>\n",
       "      <td>11.7129</td>\n",
       "      <td>0.0</td>\n",
       "      <td>101.0</td>\n",
       "      <td>Released</td>\n",
       "      <td>Still Yelling. Still Fighting. Still Ready for...</td>\n",
       "      <td>Grumpier Old Men</td>\n",
       "      <td>False</td>\n",
       "      <td>6.5</td>\n",
       "      <td>92.0</td>\n",
       "    </tr>\n",
       "    <tr>\n",
       "      <th>4</th>\n",
       "      <td>False</td>\n",
       "      <td>16000000</td>\n",
       "      <td>31357</td>\n",
       "      <td>114885.0</td>\n",
       "      <td>en</td>\n",
       "      <td>Waiting to Exhale</td>\n",
       "      <td>Cheated on, mistreated and stepped on, the wom...</td>\n",
       "      <td>3.85949</td>\n",
       "      <td>81452156.0</td>\n",
       "      <td>127.0</td>\n",
       "      <td>Released</td>\n",
       "      <td>Friends are the people who let you be yourself...</td>\n",
       "      <td>Waiting to Exhale</td>\n",
       "      <td>False</td>\n",
       "      <td>6.1</td>\n",
       "      <td>34.0</td>\n",
       "    </tr>\n",
       "    <tr>\n",
       "      <th>5</th>\n",
       "      <td>False</td>\n",
       "      <td>0</td>\n",
       "      <td>11862</td>\n",
       "      <td>113041.0</td>\n",
       "      <td>en</td>\n",
       "      <td>Father of the Bride Part II</td>\n",
       "      <td>Just when George Banks has recovered from his ...</td>\n",
       "      <td>8.38752</td>\n",
       "      <td>76578911.0</td>\n",
       "      <td>106.0</td>\n",
       "      <td>Released</td>\n",
       "      <td>Just When His World Is Back To Normal... He's ...</td>\n",
       "      <td>Father of the Bride Part II</td>\n",
       "      <td>False</td>\n",
       "      <td>5.7</td>\n",
       "      <td>173.0</td>\n",
       "    </tr>\n",
       "    <tr>\n",
       "      <th>...</th>\n",
       "      <td>...</td>\n",
       "      <td>...</td>\n",
       "      <td>...</td>\n",
       "      <td>...</td>\n",
       "      <td>...</td>\n",
       "      <td>...</td>\n",
       "      <td>...</td>\n",
       "      <td>...</td>\n",
       "      <td>...</td>\n",
       "      <td>...</td>\n",
       "      <td>...</td>\n",
       "      <td>...</td>\n",
       "      <td>...</td>\n",
       "      <td>...</td>\n",
       "      <td>...</td>\n",
       "      <td>...</td>\n",
       "    </tr>\n",
       "    <tr>\n",
       "      <th>45462</th>\n",
       "      <td>False</td>\n",
       "      <td>0</td>\n",
       "      <td>439050</td>\n",
       "      <td>6209470.0</td>\n",
       "      <td>fa</td>\n",
       "      <td>رگ خواب</td>\n",
       "      <td>Rising and falling between a man and woman.</td>\n",
       "      <td>0.072051</td>\n",
       "      <td>0.0</td>\n",
       "      <td>90.0</td>\n",
       "      <td>Released</td>\n",
       "      <td>Rising and falling between a man and woman</td>\n",
       "      <td>Subdue</td>\n",
       "      <td>False</td>\n",
       "      <td>4.0</td>\n",
       "      <td>1.0</td>\n",
       "    </tr>\n",
       "    <tr>\n",
       "      <th>45463</th>\n",
       "      <td>False</td>\n",
       "      <td>0</td>\n",
       "      <td>111109</td>\n",
       "      <td>2028550.0</td>\n",
       "      <td>tl</td>\n",
       "      <td>Siglo ng Pagluluwal</td>\n",
       "      <td>An artist struggles to finish his work while a...</td>\n",
       "      <td>0.178241</td>\n",
       "      <td>0.0</td>\n",
       "      <td>360.0</td>\n",
       "      <td>Released</td>\n",
       "      <td>NaN</td>\n",
       "      <td>Century of Birthing</td>\n",
       "      <td>False</td>\n",
       "      <td>9.0</td>\n",
       "      <td>3.0</td>\n",
       "    </tr>\n",
       "    <tr>\n",
       "      <th>45464</th>\n",
       "      <td>False</td>\n",
       "      <td>0</td>\n",
       "      <td>67758</td>\n",
       "      <td>303758.0</td>\n",
       "      <td>en</td>\n",
       "      <td>Betrayal</td>\n",
       "      <td>When one of her hits goes wrong, a professiona...</td>\n",
       "      <td>0.903007</td>\n",
       "      <td>0.0</td>\n",
       "      <td>90.0</td>\n",
       "      <td>Released</td>\n",
       "      <td>A deadly game of wits.</td>\n",
       "      <td>Betrayal</td>\n",
       "      <td>False</td>\n",
       "      <td>3.8</td>\n",
       "      <td>6.0</td>\n",
       "    </tr>\n",
       "    <tr>\n",
       "      <th>45465</th>\n",
       "      <td>False</td>\n",
       "      <td>0</td>\n",
       "      <td>227506</td>\n",
       "      <td>8536.0</td>\n",
       "      <td>en</td>\n",
       "      <td>Satana likuyushchiy</td>\n",
       "      <td>In a small town live two brothers, one a minis...</td>\n",
       "      <td>0.003503</td>\n",
       "      <td>0.0</td>\n",
       "      <td>87.0</td>\n",
       "      <td>Released</td>\n",
       "      <td>NaN</td>\n",
       "      <td>Satan Triumphant</td>\n",
       "      <td>False</td>\n",
       "      <td>0.0</td>\n",
       "      <td>0.0</td>\n",
       "    </tr>\n",
       "    <tr>\n",
       "      <th>45466</th>\n",
       "      <td>False</td>\n",
       "      <td>0</td>\n",
       "      <td>461257</td>\n",
       "      <td>6980792.0</td>\n",
       "      <td>en</td>\n",
       "      <td>Queerama</td>\n",
       "      <td>50 years after decriminalisation of homosexual...</td>\n",
       "      <td>0.163015</td>\n",
       "      <td>0.0</td>\n",
       "      <td>75.0</td>\n",
       "      <td>Released</td>\n",
       "      <td>NaN</td>\n",
       "      <td>Queerama</td>\n",
       "      <td>False</td>\n",
       "      <td>0.0</td>\n",
       "      <td>0.0</td>\n",
       "    </tr>\n",
       "  </tbody>\n",
       "</table>\n",
       "<p>45466 rows × 16 columns</p>\n",
       "</div>"
      ],
      "text/plain": [
       "       adult    budget      id    imdb_id original_language  \\\n",
       "ID                                                            \n",
       "1      False  30000000     862   114709.0                en   \n",
       "2      False  65000000    8844   113497.0                en   \n",
       "3      False         0   15602   113228.0                en   \n",
       "4      False  16000000   31357   114885.0                en   \n",
       "5      False         0   11862   113041.0                en   \n",
       "...      ...       ...     ...        ...               ...   \n",
       "45462  False         0  439050  6209470.0                fa   \n",
       "45463  False         0  111109  2028550.0                tl   \n",
       "45464  False         0   67758   303758.0                en   \n",
       "45465  False         0  227506     8536.0                en   \n",
       "45466  False         0  461257  6980792.0                en   \n",
       "\n",
       "                    original_title  \\\n",
       "ID                                   \n",
       "1                        Toy Story   \n",
       "2                          Jumanji   \n",
       "3                 Grumpier Old Men   \n",
       "4                Waiting to Exhale   \n",
       "5      Father of the Bride Part II   \n",
       "...                            ...   \n",
       "45462                      رگ خواب   \n",
       "45463          Siglo ng Pagluluwal   \n",
       "45464                     Betrayal   \n",
       "45465          Satana likuyushchiy   \n",
       "45466                     Queerama   \n",
       "\n",
       "                                                overview popularity  \\\n",
       "ID                                                                    \n",
       "1      Led by Woody, Andy's toys live happily in his ...    21.9469   \n",
       "2      When siblings Judy and Peter discover an encha...    17.0155   \n",
       "3      A family wedding reignites the ancient feud be...    11.7129   \n",
       "4      Cheated on, mistreated and stepped on, the wom...    3.85949   \n",
       "5      Just when George Banks has recovered from his ...    8.38752   \n",
       "...                                                  ...        ...   \n",
       "45462        Rising and falling between a man and woman.   0.072051   \n",
       "45463  An artist struggles to finish his work while a...   0.178241   \n",
       "45464  When one of her hits goes wrong, a professiona...   0.903007   \n",
       "45465  In a small town live two brothers, one a minis...   0.003503   \n",
       "45466  50 years after decriminalisation of homosexual...   0.163015   \n",
       "\n",
       "           revenue  runtime    status  \\\n",
       "ID                                      \n",
       "1      373554033.0     81.0  Released   \n",
       "2      262797249.0    104.0  Released   \n",
       "3              0.0    101.0  Released   \n",
       "4       81452156.0    127.0  Released   \n",
       "5       76578911.0    106.0  Released   \n",
       "...            ...      ...       ...   \n",
       "45462          0.0     90.0  Released   \n",
       "45463          0.0    360.0  Released   \n",
       "45464          0.0     90.0  Released   \n",
       "45465          0.0     87.0  Released   \n",
       "45466          0.0     75.0  Released   \n",
       "\n",
       "                                                 tagline  \\\n",
       "ID                                                         \n",
       "1                                                    NaN   \n",
       "2              Roll the dice and unleash the excitement!   \n",
       "3      Still Yelling. Still Fighting. Still Ready for...   \n",
       "4      Friends are the people who let you be yourself...   \n",
       "5      Just When His World Is Back To Normal... He's ...   \n",
       "...                                                  ...   \n",
       "45462         Rising and falling between a man and woman   \n",
       "45463                                                NaN   \n",
       "45464                             A deadly game of wits.   \n",
       "45465                                                NaN   \n",
       "45466                                                NaN   \n",
       "\n",
       "                             title  video  vote_average  vote_count  \n",
       "ID                                                                   \n",
       "1                        Toy Story  False           7.7      5415.0  \n",
       "2                          Jumanji  False           6.9      2413.0  \n",
       "3                 Grumpier Old Men  False           6.5        92.0  \n",
       "4                Waiting to Exhale  False           6.1        34.0  \n",
       "5      Father of the Bride Part II  False           5.7       173.0  \n",
       "...                            ...    ...           ...         ...  \n",
       "45462                       Subdue  False           4.0         1.0  \n",
       "45463          Century of Birthing  False           9.0         3.0  \n",
       "45464                     Betrayal  False           3.8         6.0  \n",
       "45465             Satan Triumphant  False           0.0         0.0  \n",
       "45466                     Queerama  False           0.0         0.0  \n",
       "\n",
       "[45466 rows x 16 columns]"
      ]
     },
     "execution_count": 13,
     "metadata": {},
     "output_type": "execute_result"
    }
   ],
   "source": [
    "df"
   ]
  },
  {
   "cell_type": "code",
   "execution_count": 14,
   "metadata": {},
   "outputs": [],
   "source": [
    "# change id datatype object to float64\n",
    "df['id']=pd.to_numeric(df['id'],errors='coerce')"
   ]
  },
  {
   "cell_type": "code",
   "execution_count": 15,
   "metadata": {},
   "outputs": [],
   "source": [
    "#chnage budget datatype object to float64\n",
    "df['budget']=pd.to_numeric(df['budget'],errors='coerce')"
   ]
  },
  {
   "cell_type": "code",
   "execution_count": 16,
   "metadata": {},
   "outputs": [],
   "source": [
    "#chnage popularity datatype object to float64\n",
    "df['popularity']=pd.to_numeric(df['popularity'],errors='coerce')"
   ]
  },
  {
   "cell_type": "code",
   "execution_count": 17,
   "metadata": {},
   "outputs": [],
   "source": [
    "#df.drop([\"tagline\"],axis=1,inplace=True)"
   ]
  },
  {
   "cell_type": "code",
   "execution_count": 18,
   "metadata": {},
   "outputs": [
    {
     "name": "stdout",
     "output_type": "stream",
     "text": [
      "<class 'pandas.core.frame.DataFrame'>\n",
      "Int64Index: 45466 entries, 1 to 45466\n",
      "Data columns (total 16 columns):\n",
      " #   Column             Non-Null Count  Dtype  \n",
      "---  ------             --------------  -----  \n",
      " 0   adult              45466 non-null  object \n",
      " 1   budget             45463 non-null  float64\n",
      " 2   id                 45463 non-null  float64\n",
      " 3   imdb_id            45449 non-null  float64\n",
      " 4   original_language  45455 non-null  object \n",
      " 5   original_title     45466 non-null  object \n",
      " 6   overview           44512 non-null  object \n",
      " 7   popularity         45460 non-null  float64\n",
      " 8   revenue            45460 non-null  float64\n",
      " 9   runtime            45203 non-null  float64\n",
      " 10  status             45379 non-null  object \n",
      " 11  tagline            20412 non-null  object \n",
      " 12  title              45460 non-null  object \n",
      " 13  video              45460 non-null  object \n",
      " 14  vote_average       45460 non-null  float64\n",
      " 15  vote_count         45460 non-null  float64\n",
      "dtypes: float64(8), object(8)\n",
      "memory usage: 5.9+ MB\n"
     ]
    }
   ],
   "source": [
    "df.info()"
   ]
  },
  {
   "cell_type": "code",
   "execution_count": 19,
   "metadata": {},
   "outputs": [
    {
     "data": {
      "text/plain": [
       "adult                    0\n",
       "budget                   0\n",
       "id                       3\n",
       "imdb_id                  0\n",
       "original_language       11\n",
       "original_title           0\n",
       "overview               954\n",
       "popularity               0\n",
       "revenue                  0\n",
       "runtime                  0\n",
       "status                  87\n",
       "tagline              25054\n",
       "title                    6\n",
       "video                    6\n",
       "vote_average             0\n",
       "vote_count               0\n",
       "dtype: int64"
      ]
     },
     "execution_count": 19,
     "metadata": {},
     "output_type": "execute_result"
    }
   ],
   "source": [
    "# missing value treatment in imdb_id,popularity,revenue,runtime,vote_average,vote_count,budget\n",
    "df['imdb_id']=df['imdb_id'].fillna(df['imdb_id'].mean())\n",
    "df['popularity']=df['popularity'].fillna(df['popularity'].mean())\n",
    "df['revenue']=df['revenue'].fillna(df['revenue'].mean())\n",
    "df['runtime']=df['runtime'].fillna(df['runtime'].mean())\n",
    "df['vote_average']=df['vote_average'].fillna(df['vote_average'].mean())\n",
    "df['vote_count']=df['vote_count'].fillna(df['vote_count'].mean())\n",
    "df['budget']=df['budget'].fillna(df['budget'].mean())\n",
    "df.isnull().sum()"
   ]
  },
  {
   "cell_type": "code",
   "execution_count": 20,
   "metadata": {},
   "outputs": [
    {
     "data": {
      "text/plain": [
       "\"\\ndf['spoken_languages']=df['spoken_languages'].fillna(df['spoken_languages'].mean())\\ndf['status']=df['status'].fillna(df['status'].mean())\\ndf['tagline']=df['tagline'].fillna(df['tagline'].mean())\\ndf['title']=df['title'].fillna(df['title'].mean())\\ndf['video']=df['video'].fillna(df['video'].mean())\\ndf['poster_path']=df['poster_path'].fillna(df['poster_path'].mean())\\ndf['production_companies']=df['production_companies'].fillna(df['production_companies'].mean())\\ndf['production_countries']=df['production_countries'].fillna(df['production_countries'].mean())\\ndf['original_language']=df['original_language'].fillna(df['original_language'].mean())\\ndf['overview']=df['overview'].fillna(df['overview'].mean())\\n\""
      ]
     },
     "execution_count": 20,
     "metadata": {},
     "output_type": "execute_result"
    }
   ],
   "source": [
    "'''\n",
    "df['spoken_languages']=df['spoken_languages'].fillna(df['spoken_languages'].mean())\n",
    "df['status']=df['status'].fillna(df['status'].mean())\n",
    "df['tagline']=df['tagline'].fillna(df['tagline'].mean())\n",
    "df['title']=df['title'].fillna(df['title'].mean())\n",
    "df['video']=df['video'].fillna(df['video'].mean())\n",
    "df['poster_path']=df['poster_path'].fillna(df['poster_path'].mean())\n",
    "df['production_companies']=df['production_companies'].fillna(df['production_companies'].mean())\n",
    "df['production_countries']=df['production_countries'].fillna(df['production_countries'].mean())\n",
    "df['original_language']=df['original_language'].fillna(df['original_language'].mean())\n",
    "df['overview']=df['overview'].fillna(df['overview'].mean())\n",
    "'''"
   ]
  },
  {
   "cell_type": "code",
   "execution_count": 21,
   "metadata": {},
   "outputs": [
    {
     "data": {
      "text/html": [
       "<div>\n",
       "<style scoped>\n",
       "    .dataframe tbody tr th:only-of-type {\n",
       "        vertical-align: middle;\n",
       "    }\n",
       "\n",
       "    .dataframe tbody tr th {\n",
       "        vertical-align: top;\n",
       "    }\n",
       "\n",
       "    .dataframe thead th {\n",
       "        text-align: right;\n",
       "    }\n",
       "</style>\n",
       "<table border=\"1\" class=\"dataframe\">\n",
       "  <thead>\n",
       "    <tr style=\"text-align: right;\">\n",
       "      <th></th>\n",
       "      <th>adult</th>\n",
       "      <th>budget</th>\n",
       "      <th>id</th>\n",
       "      <th>imdb_id</th>\n",
       "      <th>original_language</th>\n",
       "      <th>original_title</th>\n",
       "      <th>overview</th>\n",
       "      <th>popularity</th>\n",
       "      <th>revenue</th>\n",
       "      <th>runtime</th>\n",
       "      <th>status</th>\n",
       "      <th>tagline</th>\n",
       "      <th>title</th>\n",
       "      <th>video</th>\n",
       "      <th>vote_average</th>\n",
       "      <th>vote_count</th>\n",
       "    </tr>\n",
       "    <tr>\n",
       "      <th>ID</th>\n",
       "      <th></th>\n",
       "      <th></th>\n",
       "      <th></th>\n",
       "      <th></th>\n",
       "      <th></th>\n",
       "      <th></th>\n",
       "      <th></th>\n",
       "      <th></th>\n",
       "      <th></th>\n",
       "      <th></th>\n",
       "      <th></th>\n",
       "      <th></th>\n",
       "      <th></th>\n",
       "      <th></th>\n",
       "      <th></th>\n",
       "      <th></th>\n",
       "    </tr>\n",
       "  </thead>\n",
       "  <tbody>\n",
       "    <tr>\n",
       "      <th>1</th>\n",
       "      <td>False</td>\n",
       "      <td>30000000.0</td>\n",
       "      <td>862.0</td>\n",
       "      <td>114709.0</td>\n",
       "      <td>en</td>\n",
       "      <td>Toy Story</td>\n",
       "      <td>Led by Woody, Andy's toys live happily in his ...</td>\n",
       "      <td>21.946943</td>\n",
       "      <td>373554033.0</td>\n",
       "      <td>81.0</td>\n",
       "      <td>Released</td>\n",
       "      <td>NaN</td>\n",
       "      <td>Toy Story</td>\n",
       "      <td>False</td>\n",
       "      <td>7.7</td>\n",
       "      <td>5415.0</td>\n",
       "    </tr>\n",
       "    <tr>\n",
       "      <th>2</th>\n",
       "      <td>False</td>\n",
       "      <td>65000000.0</td>\n",
       "      <td>8844.0</td>\n",
       "      <td>113497.0</td>\n",
       "      <td>en</td>\n",
       "      <td>Jumanji</td>\n",
       "      <td>When siblings Judy and Peter discover an encha...</td>\n",
       "      <td>17.015539</td>\n",
       "      <td>262797249.0</td>\n",
       "      <td>104.0</td>\n",
       "      <td>Released</td>\n",
       "      <td>Roll the dice and unleash the excitement!</td>\n",
       "      <td>Jumanji</td>\n",
       "      <td>False</td>\n",
       "      <td>6.9</td>\n",
       "      <td>2413.0</td>\n",
       "    </tr>\n",
       "    <tr>\n",
       "      <th>3</th>\n",
       "      <td>False</td>\n",
       "      <td>0.0</td>\n",
       "      <td>15602.0</td>\n",
       "      <td>113228.0</td>\n",
       "      <td>en</td>\n",
       "      <td>Grumpier Old Men</td>\n",
       "      <td>A family wedding reignites the ancient feud be...</td>\n",
       "      <td>11.712900</td>\n",
       "      <td>0.0</td>\n",
       "      <td>101.0</td>\n",
       "      <td>Released</td>\n",
       "      <td>Still Yelling. Still Fighting. Still Ready for...</td>\n",
       "      <td>Grumpier Old Men</td>\n",
       "      <td>False</td>\n",
       "      <td>6.5</td>\n",
       "      <td>92.0</td>\n",
       "    </tr>\n",
       "    <tr>\n",
       "      <th>4</th>\n",
       "      <td>False</td>\n",
       "      <td>16000000.0</td>\n",
       "      <td>31357.0</td>\n",
       "      <td>114885.0</td>\n",
       "      <td>en</td>\n",
       "      <td>Waiting to Exhale</td>\n",
       "      <td>Cheated on, mistreated and stepped on, the wom...</td>\n",
       "      <td>3.859495</td>\n",
       "      <td>81452156.0</td>\n",
       "      <td>127.0</td>\n",
       "      <td>Released</td>\n",
       "      <td>Friends are the people who let you be yourself...</td>\n",
       "      <td>Waiting to Exhale</td>\n",
       "      <td>False</td>\n",
       "      <td>6.1</td>\n",
       "      <td>34.0</td>\n",
       "    </tr>\n",
       "    <tr>\n",
       "      <th>5</th>\n",
       "      <td>False</td>\n",
       "      <td>0.0</td>\n",
       "      <td>11862.0</td>\n",
       "      <td>113041.0</td>\n",
       "      <td>en</td>\n",
       "      <td>Father of the Bride Part II</td>\n",
       "      <td>Just when George Banks has recovered from his ...</td>\n",
       "      <td>8.387519</td>\n",
       "      <td>76578911.0</td>\n",
       "      <td>106.0</td>\n",
       "      <td>Released</td>\n",
       "      <td>Just When His World Is Back To Normal... He's ...</td>\n",
       "      <td>Father of the Bride Part II</td>\n",
       "      <td>False</td>\n",
       "      <td>5.7</td>\n",
       "      <td>173.0</td>\n",
       "    </tr>\n",
       "    <tr>\n",
       "      <th>...</th>\n",
       "      <td>...</td>\n",
       "      <td>...</td>\n",
       "      <td>...</td>\n",
       "      <td>...</td>\n",
       "      <td>...</td>\n",
       "      <td>...</td>\n",
       "      <td>...</td>\n",
       "      <td>...</td>\n",
       "      <td>...</td>\n",
       "      <td>...</td>\n",
       "      <td>...</td>\n",
       "      <td>...</td>\n",
       "      <td>...</td>\n",
       "      <td>...</td>\n",
       "      <td>...</td>\n",
       "      <td>...</td>\n",
       "    </tr>\n",
       "    <tr>\n",
       "      <th>45462</th>\n",
       "      <td>False</td>\n",
       "      <td>0.0</td>\n",
       "      <td>439050.0</td>\n",
       "      <td>6209470.0</td>\n",
       "      <td>fa</td>\n",
       "      <td>رگ خواب</td>\n",
       "      <td>Rising and falling between a man and woman.</td>\n",
       "      <td>0.072051</td>\n",
       "      <td>0.0</td>\n",
       "      <td>90.0</td>\n",
       "      <td>Released</td>\n",
       "      <td>Rising and falling between a man and woman</td>\n",
       "      <td>Subdue</td>\n",
       "      <td>False</td>\n",
       "      <td>4.0</td>\n",
       "      <td>1.0</td>\n",
       "    </tr>\n",
       "    <tr>\n",
       "      <th>45463</th>\n",
       "      <td>False</td>\n",
       "      <td>0.0</td>\n",
       "      <td>111109.0</td>\n",
       "      <td>2028550.0</td>\n",
       "      <td>tl</td>\n",
       "      <td>Siglo ng Pagluluwal</td>\n",
       "      <td>An artist struggles to finish his work while a...</td>\n",
       "      <td>0.178241</td>\n",
       "      <td>0.0</td>\n",
       "      <td>360.0</td>\n",
       "      <td>Released</td>\n",
       "      <td>NaN</td>\n",
       "      <td>Century of Birthing</td>\n",
       "      <td>False</td>\n",
       "      <td>9.0</td>\n",
       "      <td>3.0</td>\n",
       "    </tr>\n",
       "    <tr>\n",
       "      <th>45464</th>\n",
       "      <td>False</td>\n",
       "      <td>0.0</td>\n",
       "      <td>67758.0</td>\n",
       "      <td>303758.0</td>\n",
       "      <td>en</td>\n",
       "      <td>Betrayal</td>\n",
       "      <td>When one of her hits goes wrong, a professiona...</td>\n",
       "      <td>0.903007</td>\n",
       "      <td>0.0</td>\n",
       "      <td>90.0</td>\n",
       "      <td>Released</td>\n",
       "      <td>A deadly game of wits.</td>\n",
       "      <td>Betrayal</td>\n",
       "      <td>False</td>\n",
       "      <td>3.8</td>\n",
       "      <td>6.0</td>\n",
       "    </tr>\n",
       "    <tr>\n",
       "      <th>45465</th>\n",
       "      <td>False</td>\n",
       "      <td>0.0</td>\n",
       "      <td>227506.0</td>\n",
       "      <td>8536.0</td>\n",
       "      <td>en</td>\n",
       "      <td>Satana likuyushchiy</td>\n",
       "      <td>In a small town live two brothers, one a minis...</td>\n",
       "      <td>0.003503</td>\n",
       "      <td>0.0</td>\n",
       "      <td>87.0</td>\n",
       "      <td>Released</td>\n",
       "      <td>NaN</td>\n",
       "      <td>Satan Triumphant</td>\n",
       "      <td>False</td>\n",
       "      <td>0.0</td>\n",
       "      <td>0.0</td>\n",
       "    </tr>\n",
       "    <tr>\n",
       "      <th>45466</th>\n",
       "      <td>False</td>\n",
       "      <td>0.0</td>\n",
       "      <td>461257.0</td>\n",
       "      <td>6980792.0</td>\n",
       "      <td>en</td>\n",
       "      <td>Queerama</td>\n",
       "      <td>50 years after decriminalisation of homosexual...</td>\n",
       "      <td>0.163015</td>\n",
       "      <td>0.0</td>\n",
       "      <td>75.0</td>\n",
       "      <td>Released</td>\n",
       "      <td>NaN</td>\n",
       "      <td>Queerama</td>\n",
       "      <td>False</td>\n",
       "      <td>0.0</td>\n",
       "      <td>0.0</td>\n",
       "    </tr>\n",
       "  </tbody>\n",
       "</table>\n",
       "<p>45466 rows × 16 columns</p>\n",
       "</div>"
      ],
      "text/plain": [
       "       adult      budget        id    imdb_id original_language  \\\n",
       "ID                                                                \n",
       "1      False  30000000.0     862.0   114709.0                en   \n",
       "2      False  65000000.0    8844.0   113497.0                en   \n",
       "3      False         0.0   15602.0   113228.0                en   \n",
       "4      False  16000000.0   31357.0   114885.0                en   \n",
       "5      False         0.0   11862.0   113041.0                en   \n",
       "...      ...         ...       ...        ...               ...   \n",
       "45462  False         0.0  439050.0  6209470.0                fa   \n",
       "45463  False         0.0  111109.0  2028550.0                tl   \n",
       "45464  False         0.0   67758.0   303758.0                en   \n",
       "45465  False         0.0  227506.0     8536.0                en   \n",
       "45466  False         0.0  461257.0  6980792.0                en   \n",
       "\n",
       "                    original_title  \\\n",
       "ID                                   \n",
       "1                        Toy Story   \n",
       "2                          Jumanji   \n",
       "3                 Grumpier Old Men   \n",
       "4                Waiting to Exhale   \n",
       "5      Father of the Bride Part II   \n",
       "...                            ...   \n",
       "45462                      رگ خواب   \n",
       "45463          Siglo ng Pagluluwal   \n",
       "45464                     Betrayal   \n",
       "45465          Satana likuyushchiy   \n",
       "45466                     Queerama   \n",
       "\n",
       "                                                overview  popularity  \\\n",
       "ID                                                                     \n",
       "1      Led by Woody, Andy's toys live happily in his ...   21.946943   \n",
       "2      When siblings Judy and Peter discover an encha...   17.015539   \n",
       "3      A family wedding reignites the ancient feud be...   11.712900   \n",
       "4      Cheated on, mistreated and stepped on, the wom...    3.859495   \n",
       "5      Just when George Banks has recovered from his ...    8.387519   \n",
       "...                                                  ...         ...   \n",
       "45462        Rising and falling between a man and woman.    0.072051   \n",
       "45463  An artist struggles to finish his work while a...    0.178241   \n",
       "45464  When one of her hits goes wrong, a professiona...    0.903007   \n",
       "45465  In a small town live two brothers, one a minis...    0.003503   \n",
       "45466  50 years after decriminalisation of homosexual...    0.163015   \n",
       "\n",
       "           revenue  runtime    status  \\\n",
       "ID                                      \n",
       "1      373554033.0     81.0  Released   \n",
       "2      262797249.0    104.0  Released   \n",
       "3              0.0    101.0  Released   \n",
       "4       81452156.0    127.0  Released   \n",
       "5       76578911.0    106.0  Released   \n",
       "...            ...      ...       ...   \n",
       "45462          0.0     90.0  Released   \n",
       "45463          0.0    360.0  Released   \n",
       "45464          0.0     90.0  Released   \n",
       "45465          0.0     87.0  Released   \n",
       "45466          0.0     75.0  Released   \n",
       "\n",
       "                                                 tagline  \\\n",
       "ID                                                         \n",
       "1                                                    NaN   \n",
       "2              Roll the dice and unleash the excitement!   \n",
       "3      Still Yelling. Still Fighting. Still Ready for...   \n",
       "4      Friends are the people who let you be yourself...   \n",
       "5      Just When His World Is Back To Normal... He's ...   \n",
       "...                                                  ...   \n",
       "45462         Rising and falling between a man and woman   \n",
       "45463                                                NaN   \n",
       "45464                             A deadly game of wits.   \n",
       "45465                                                NaN   \n",
       "45466                                                NaN   \n",
       "\n",
       "                             title  video  vote_average  vote_count  \n",
       "ID                                                                   \n",
       "1                        Toy Story  False           7.7      5415.0  \n",
       "2                          Jumanji  False           6.9      2413.0  \n",
       "3                 Grumpier Old Men  False           6.5        92.0  \n",
       "4                Waiting to Exhale  False           6.1        34.0  \n",
       "5      Father of the Bride Part II  False           5.7       173.0  \n",
       "...                            ...    ...           ...         ...  \n",
       "45462                       Subdue  False           4.0         1.0  \n",
       "45463          Century of Birthing  False           9.0         3.0  \n",
       "45464                     Betrayal  False           3.8         6.0  \n",
       "45465             Satan Triumphant  False           0.0         0.0  \n",
       "45466                     Queerama  False           0.0         0.0  \n",
       "\n",
       "[45466 rows x 16 columns]"
      ]
     },
     "execution_count": 21,
     "metadata": {},
     "output_type": "execute_result"
    }
   ],
   "source": [
    "df"
   ]
  },
  {
   "cell_type": "code",
   "execution_count": 22,
   "metadata": {},
   "outputs": [],
   "source": [
    "# we need diff analysis to make analysis process faster during EDA process we will seperate \n",
    "# our entier dataframe into two part 1) df_num 2) df_cat \n",
    "# df_num = int,float \n",
    "# df_cat = object"
   ]
  },
  {
   "cell_type": "code",
   "execution_count": 23,
   "metadata": {},
   "outputs": [],
   "source": [
    "df_num=df.select_dtypes(['int64','float64'])"
   ]
  },
  {
   "cell_type": "code",
   "execution_count": 24,
   "metadata": {},
   "outputs": [
    {
     "data": {
      "text/plain": [
       "Index(['budget', 'id', 'imdb_id', 'popularity', 'revenue', 'runtime',\n",
       "       'vote_average', 'vote_count'],\n",
       "      dtype='object')"
      ]
     },
     "execution_count": 24,
     "metadata": {},
     "output_type": "execute_result"
    }
   ],
   "source": [
    "df_num.columns"
   ]
  },
  {
   "cell_type": "code",
   "execution_count": 25,
   "metadata": {},
   "outputs": [],
   "source": [
    "df_cat=df.select_dtypes(['object'])"
   ]
  },
  {
   "cell_type": "code",
   "execution_count": 26,
   "metadata": {},
   "outputs": [
    {
     "data": {
      "text/plain": [
       "Index(['adult', 'original_language', 'original_title', 'overview', 'status',\n",
       "       'tagline', 'title', 'video'],\n",
       "      dtype='object')"
      ]
     },
     "execution_count": 26,
     "metadata": {},
     "output_type": "execute_result"
    }
   ],
   "source": [
    "df_cat.columns"
   ]
  },
  {
   "cell_type": "code",
   "execution_count": 27,
   "metadata": {},
   "outputs": [
    {
     "data": {
      "image/png": "[encoded data removed]",
      "text/plain": [
       "<Figure size 648x648 with 1 Axes>"
      ]
     },
     "metadata": {
      "needs_background": "light"
     },
     "output_type": "display_data"
    },
    {
     "data": {
      "image/png": "[encoded data removed]",
      "text/plain": [
       "<Figure size 648x648 with 1 Axes>"
      ]
     },
     "metadata": {
      "needs_background": "light"
     },
     "output_type": "display_data"
    },
    {
     "data": {
      "image/png": "[encoded data removed]",
      "text/plain": [
       "<Figure size 648x648 with 1 Axes>"
      ]
     },
     "metadata": {
      "needs_background": "light"
     },
     "output_type": "display_data"
    },
    {
     "data": {
      "image/png": "[encoded data removed]",
      "text/plain": [
       "<Figure size 648x648 with 1 Axes>"
      ]
     },
     "metadata": {
      "needs_background": "light"
     },
     "output_type": "display_data"
    },
    {
     "data": {
      "image/png": "[encoded data removed]",
      "text/plain": [
       "<Figure size 648x648 with 1 Axes>"
      ]
     },
     "metadata": {
      "needs_background": "light"
     },
     "output_type": "display_data"
    },
    {
     "data": {
      "image/png": "[encoded data removed]",
      "text/plain": [
       "<Figure size 648x648 with 1 Axes>"
      ]
     },
     "metadata": {
      "needs_background": "light"
     },
     "output_type": "display_data"
    },
    {
     "data": {
      "image/png": "[encoded data removed]",
      "text/plain": [
       "<Figure size 648x648 with 1 Axes>"
      ]
     },
     "metadata": {
      "needs_background": "light"
     },
     "output_type": "display_data"
    },
    {
     "data": {
      "image/png": "[encoded data removed]",
      "text/plain": [
       "<Figure size 648x648 with 1 Axes>"
      ]
     },
     "metadata": {
      "needs_background": "light"
     },
     "output_type": "display_data"
    }
   ],
   "source": [
    "# univariate normal distribution data analysis \n",
    "for i in df_num:\n",
    "    plt.figure(figsize=(9,9))\n",
    "    plt.hist(df[i],bins=10)\n",
    "    plt.title(\"{} df_num distribution\".format(i))\n",
    "    plt.axvline(df[i].mean(),color=\"red\")\n",
    "    plt.axvline(df[i].median(),color=\"yellow\")\n",
    "    plt.ylabel(\"Frequency\")\n",
    "    plt.xlabel(i)\n",
    "    plt.show()"
   ]
  },
  {
   "cell_type": "markdown",
   "metadata": {},
   "source": [
    "# Outlier Analysis on numeric values"
   ]
  },
  {
   "cell_type": "code",
   "execution_count": 28,
   "metadata": {},
   "outputs": [
    {
     "data": {
      "image/png": "[encoded data removed]",
      "text/plain": [
       "<Figure size 504x504 with 1 Axes>"
      ]
     },
     "metadata": {
      "needs_background": "light"
     },
     "output_type": "display_data"
    },
    {
     "data": {
      "image/png": "[encoded data removed]",
      "text/plain": [
       "<Figure size 504x504 with 1 Axes>"
      ]
     },
     "metadata": {
      "needs_background": "light"
     },
     "output_type": "display_data"
    },
    {
     "data": {
      "image/png": "[encoded data removed]",
      "text/plain": [
       "<Figure size 504x504 with 1 Axes>"
      ]
     },
     "metadata": {
      "needs_background": "light"
     },
     "output_type": "display_data"
    },
    {
     "data": {
      "image/png": "[encoded data removed]",
      "text/plain": [
       "<Figure size 504x504 with 1 Axes>"
      ]
     },
     "metadata": {
      "needs_background": "light"
     },
     "output_type": "display_data"
    },
    {
     "data": {
      "image/png": "[encoded data removed]",
      "text/plain": [
       "<Figure size 504x504 with 1 Axes>"
      ]
     },
     "metadata": {
      "needs_background": "light"
     },
     "output_type": "display_data"
    },
    {
     "data": {
      "image/png": "[encoded data removed]",
      "text/plain": [
       "<Figure size 504x504 with 1 Axes>"
      ]
     },
     "metadata": {
      "needs_background": "light"
     },
     "output_type": "display_data"
    },
    {
     "data": {
      "image/png": "[encoded data removed]",
      "text/plain": [
       "<Figure size 504x504 with 1 Axes>"
      ]
     },
     "metadata": {
      "needs_background": "light"
     },
     "output_type": "display_data"
    },
    {
     "data": {
      "image/png": "[encoded data removed]",
      "text/plain": [
       "<Figure size 504x504 with 1 Axes>"
      ]
     },
     "metadata": {
      "needs_background": "light"
     },
     "output_type": "display_data"
    }
   ],
   "source": [
    "for i in df_num:\n",
    "    plt.figure(figsize=(7,7))\n",
    "    sns.boxplot(data=df_num,x=i,whis=3)\n",
    "    # upper whisker = q3+1.5*IQR\n",
    "    # lower whisker = q1 - 1.5*IQR \n",
    "    # boxplot will calculate upper whisker and lower whisker by it's own and the nit will plot the box\n",
    "    plt.show()"
   ]
  },
  {
   "cell_type": "markdown",
   "metadata": {},
   "source": [
    "# Outlier Treatments"
   ]
  },
  {
   "cell_type": "code",
   "execution_count": 29,
   "metadata": {},
   "outputs": [
    {
     "data": {
      "text/plain": [
       "(45466, 8)"
      ]
     },
     "execution_count": 29,
     "metadata": {},
     "output_type": "execute_result"
    }
   ],
   "source": [
    "df_num.shape"
   ]
  },
  {
   "cell_type": "code",
   "execution_count": 30,
   "metadata": {},
   "outputs": [
    {
     "name": "stdout",
     "output_type": "stream",
     "text": [
      "Quantile1 for imdb_id is =>  83000.25\n",
      "Quantile3 for imdb_id is =>  1535611.0\n",
      "IQR for imdb_id column is =>  1452610.75\n",
      "upper whisker with 3 penalty is =>  5893443.25\n"
     ]
    }
   ],
   "source": [
    "# imdb_id Column Outlier Treatment \n",
    "q1=np.quantile(df_num[\"imdb_id\"],0.25)\n",
    "q3=np.quantile(df_num[\"imdb_id\"],0.75)\n",
    "iqr=q3-q1\n",
    "print(\"Quantile1 for imdb_id is => \",q1)\n",
    "print(\"Quantile3 for imdb_id is => \",q3)\n",
    "print(\"IQR for imdb_id column is => \",iqr)\n",
    "#as we know we have higher extream values so no need to calculate lower whisker will only go for upper whisker \n",
    "up_whs=q3+3*iqr\n",
    "print(\"upper whisker with 3 penalty is => \",up_whs)\n",
    "# accept all those records which come below given whisker values\n",
    "df_num=df_num[df_num[\"imdb_id\"]<up_whs]"
   ]
  },
  {
   "cell_type": "code",
   "execution_count": 31,
   "metadata": {},
   "outputs": [
    {
     "data": {
      "text/plain": [
       "(45162, 8)"
      ]
     },
     "execution_count": 31,
     "metadata": {},
     "output_type": "execute_result"
    }
   ],
   "source": [
    "df_num.shape"
   ]
  },
  {
   "cell_type": "code",
   "execution_count": 32,
   "metadata": {},
   "outputs": [
    {
     "name": "stdout",
     "output_type": "stream",
     "text": [
      "Quantile1 for popularity is =>  0.38673824999999995\n",
      "Quantile3 for popularity is =>  3.7052837500000004\n",
      "IQR for popularity column is =>  3.3185455000000004\n",
      "upper whisker with 3 penalty is =>  13.66092025\n"
     ]
    }
   ],
   "source": [
    "# popularity' Column Outlier Treatment \n",
    "q1=np.quantile(df_num[\"popularity\"],0.25)\n",
    "q3=np.quantile(df_num[\"popularity\"],0.75)\n",
    "iqr=q3-q1\n",
    "print(\"Quantile1 for popularity is => \",q1)\n",
    "print(\"Quantile3 for popularity is => \",q3)\n",
    "print(\"IQR for popularity column is => \",iqr)\n",
    "#as we know we have higher extream values so no need to calculate lower whisker will only go for upper whisker \n",
    "up_whs=q3+3*iqr\n",
    "print(\"upper whisker with 3 penalty is => \",up_whs)\n",
    "# accept all those records which come below given whisker values\n",
    "df_num=df_num[df_num[\"popularity\"]<up_whs]"
   ]
  },
  {
   "cell_type": "code",
   "execution_count": 33,
   "metadata": {},
   "outputs": [
    {
     "data": {
      "text/plain": [
       "(44124, 8)"
      ]
     },
     "execution_count": 33,
     "metadata": {},
     "output_type": "execute_result"
    }
   ],
   "source": [
    "df_num.shape"
   ]
  },
  {
   "cell_type": "code",
   "execution_count": 34,
   "metadata": {},
   "outputs": [
    {
     "name": "stdout",
     "output_type": "stream",
     "text": [
      "Quantile1 for runtime is =>  85.0\n",
      "Quantile3 for runtime is =>  106.0\n",
      "IQR for runtime column is =>  21.0\n",
      "upper whisker with 3 penalty is =>  169.0\n"
     ]
    }
   ],
   "source": [
    "# runtime Column Outlier Treatment \n",
    "q1=np.quantile(df_num[\"runtime\"],0.25)\n",
    "q3=np.quantile(df_num[\"runtime\"],0.75)\n",
    "iqr=q3-q1\n",
    "print(\"Quantile1 for runtime is => \",q1)\n",
    "print(\"Quantile3 for runtime is => \",q3)\n",
    "print(\"IQR for runtime column is => \",iqr)\n",
    "#as we know we have higher extream values so no need to calculate lower whisker will only go for upper whisker \n",
    "up_whs=q3+3*iqr\n",
    "print(\"upper whisker with 3 penalty is => \",up_whs)\n",
    "# accept all those records which come below given whisker values\n",
    "df_num=df_num[df_num[\"runtime\"]<up_whs]"
   ]
  },
  {
   "cell_type": "code",
   "execution_count": 35,
   "metadata": {},
   "outputs": [
    {
     "data": {
      "text/plain": [
       "(43328, 8)"
      ]
     },
     "execution_count": 35,
     "metadata": {},
     "output_type": "execute_result"
    }
   ],
   "source": [
    "df_num.shape"
   ]
  },
  {
   "cell_type": "code",
   "execution_count": 36,
   "metadata": {},
   "outputs": [
    {
     "name": "stdout",
     "output_type": "stream",
     "text": [
      "Quantile1 for vote_count is =>  3.0\n",
      "Quantile3 for vote_count is =>  31.0\n",
      "IQR for vote_count column is =>  28.0\n",
      "upper whisker with 3 penalty is =>  115.0\n"
     ]
    }
   ],
   "source": [
    "# vote_count Column Outlier Treatment \n",
    "q1=np.quantile(df_num[\"vote_count\"],0.25)\n",
    "q3=np.quantile(df_num[\"vote_count\"],0.75)\n",
    "iqr=q3-q1\n",
    "print(\"Quantile1 for vote_count is => \",q1)\n",
    "print(\"Quantile3 for vote_count is => \",q3)\n",
    "print(\"IQR for vote_count column is => \",iqr)\n",
    "#as we know we have higher extream values so no need to calculate lower whisker will only go for upper whisker \n",
    "up_whs=q3+3*iqr\n",
    "print(\"upper whisker with 3 penalty is => \",up_whs)\n",
    "# accept all those records which come below given whisker values\n",
    "df_num=df_num[df_num[\"vote_count\"]<up_whs]"
   ]
  },
  {
   "cell_type": "code",
   "execution_count": 37,
   "metadata": {},
   "outputs": [
    {
     "data": {
      "text/plain": [
       "(38757, 8)"
      ]
     },
     "execution_count": 37,
     "metadata": {},
     "output_type": "execute_result"
    }
   ],
   "source": [
    "df_num.shape"
   ]
  },
  {
   "cell_type": "code",
   "execution_count": 38,
   "metadata": {},
   "outputs": [
    {
     "data": {
      "image/png": "[encoded data removed]",
      "text/plain": [
       "<Figure size 504x504 with 1 Axes>"
      ]
     },
     "metadata": {
      "needs_background": "light"
     },
     "output_type": "display_data"
    },
    {
     "data": {
      "image/png": "[encoded data removed]",
      "text/plain": [
       "<Figure size 504x504 with 1 Axes>"
      ]
     },
     "metadata": {
      "needs_background": "light"
     },
     "output_type": "display_data"
    },
    {
     "data": {
      "image/png": "[encoded data removed]",
      "text/plain": [
       "<Figure size 504x504 with 1 Axes>"
      ]
     },
     "metadata": {
      "needs_background": "light"
     },
     "output_type": "display_data"
    },
    {
     "data": {
      "image/png": "[encoded data removed]",
      "text/plain": [
       "<Figure size 504x504 with 1 Axes>"
      ]
     },
     "metadata": {
      "needs_background": "light"
     },
     "output_type": "display_data"
    },
    {
     "data": {
      "image/png": "[encoded data removed]",
      "text/plain": [
       "<Figure size 504x504 with 1 Axes>"
      ]
     },
     "metadata": {
      "needs_background": "light"
     },
     "output_type": "display_data"
    },
    {
     "data": {
      "image/png": "[encoded data removed]",
      "text/plain": [
       "<Figure size 504x504 with 1 Axes>"
      ]
     },
     "metadata": {
      "needs_background": "light"
     },
     "output_type": "display_data"
    },
    {
     "data": {
      "image/png": "[encoded data removed]",
      "text/plain": [
       "<Figure size 504x504 with 1 Axes>"
      ]
     },
     "metadata": {
      "needs_background": "light"
     },
     "output_type": "display_data"
    },
    {
     "data": {
      "image/png": "[encoded data removed]",
      "text/plain": [
       "<Figure size 504x504 with 1 Axes>"
      ]
     },
     "metadata": {
      "needs_background": "light"
     },
     "output_type": "display_data"
    }
   ],
   "source": [
    "for i in df_num:\n",
    "    plt.figure(figsize=(7,7))\n",
    "    sns.boxplot(data=df_num,x=i,whis=3)\n",
    "    # upper whisker = q3+1.5*IQR\n",
    "    # lower whisker = q1 - 1.5*IQR \n",
    "    # boxplot will calculate upper whisker and lower whisker by it's own and the nit will plot the box\n",
    "    plt.show()"
   ]
  },
  {
   "cell_type": "markdown",
   "metadata": {},
   "source": [
    "# Skewness Treatment"
   ]
  },
  {
   "cell_type": "code",
   "execution_count": 39,
   "metadata": {},
   "outputs": [],
   "source": [
    "from scipy.stats import skew"
   ]
  },
  {
   "cell_type": "code",
   "execution_count": 40,
   "metadata": {},
   "outputs": [
    {
     "name": "stdout",
     "output_type": "stream",
     "text": [
      "budget 10.33474510760406\n",
      "id nan\n",
      "imdb_id 1.6842619413734923\n",
      "popularity 2.209847764264594\n",
      "revenue 30.408182481218017\n",
      "runtime -1.33785861630835\n",
      "vote_average -1.4064006167061822\n",
      "vote_count 2.2184390765451796\n"
     ]
    }
   ],
   "source": [
    "# Skew = 3 * (Mean – Median) / Standard Deviation.\n",
    "for i in df_num:\n",
    "    print(i,skew(df_num[i]))\n",
    "\n",
    "#data skewness > -1 and < 1 that means data is normally distributed "
   ]
  },
  {
   "cell_type": "code",
   "execution_count": 41,
   "metadata": {},
   "outputs": [
    {
     "name": "stdout",
     "output_type": "stream",
     "text": [
      "budget 10.33474510760406\n"
     ]
    },
    {
     "data": {
      "image/png": "[encoded data removed]",
      "text/plain": [
       "<Figure size 432x288 with 1 Axes>"
      ]
     },
     "metadata": {
      "needs_background": "light"
     },
     "output_type": "display_data"
    },
    {
     "name": "stdout",
     "output_type": "stream",
     "text": [
      "id nan\n"
     ]
    },
    {
     "data": {
      "image/png": "[encoded data removed]",
      "text/plain": [
       "<Figure size 432x288 with 1 Axes>"
      ]
     },
     "metadata": {
      "needs_background": "light"
     },
     "output_type": "display_data"
    },
    {
     "name": "stdout",
     "output_type": "stream",
     "text": [
      "imdb_id 1.6842619413734923\n"
     ]
    },
    {
     "data": {
      "image/png": "[encoded data removed]",
      "text/plain": [
       "<Figure size 432x288 with 1 Axes>"
      ]
     },
     "metadata": {
      "needs_background": "light"
     },
     "output_type": "display_data"
    },
    {
     "name": "stdout",
     "output_type": "stream",
     "text": [
      "popularity 2.209847764264594\n"
     ]
    },
    {
     "data": {
      "image/png": "[encoded data removed]",
      "text/plain": [
       "<Figure size 432x288 with 1 Axes>"
      ]
     },
     "metadata": {
      "needs_background": "light"
     },
     "output_type": "display_data"
    },
    {
     "name": "stdout",
     "output_type": "stream",
     "text": [
      "revenue 30.408182481218017\n"
     ]
    },
    {
     "data": {
      "image/png": "[encoded data removed]",
      "text/plain": [
       "<Figure size 432x288 with 1 Axes>"
      ]
     },
     "metadata": {
      "needs_background": "light"
     },
     "output_type": "display_data"
    },
    {
     "name": "stdout",
     "output_type": "stream",
     "text": [
      "runtime -1.33785861630835\n"
     ]
    },
    {
     "data": {
      "image/png": "[encoded data removed]",
      "text/plain": [
       "<Figure size 432x288 with 1 Axes>"
      ]
     },
     "metadata": {
      "needs_background": "light"
     },
     "output_type": "display_data"
    },
    {
     "name": "stdout",
     "output_type": "stream",
     "text": [
      "vote_average -1.4064006167061822\n"
     ]
    },
    {
     "data": {
      "image/png": "[encoded data removed]",
      "text/plain": [
       "<Figure size 432x288 with 1 Axes>"
      ]
     },
     "metadata": {
      "needs_background": "light"
     },
     "output_type": "display_data"
    },
    {
     "name": "stdout",
     "output_type": "stream",
     "text": [
      "vote_count 2.2184390765451796\n"
     ]
    },
    {
     "data": {
      "image/png": "[encoded data removed]",
      "text/plain": [
       "<Figure size 432x288 with 1 Axes>"
      ]
     },
     "metadata": {
      "needs_background": "light"
     },
     "output_type": "display_data"
    }
   ],
   "source": [
    "for col in df_num:\n",
    "    print(col,skew(df_num[col]))\n",
    "    plt.figure()\n",
    "    sns.distplot(df_num[col])\n",
    "    plt.axvline(df_num[col].mean(),color=\"red\")\n",
    "    plt.axvline(df_num[col].median(),color=\"yellow\")\n",
    "    plt.show()"
   ]
  },
  {
   "cell_type": "markdown",
   "metadata": {},
   "source": [
    "# skewness reducing using squarroot"
   ]
  },
  {
   "cell_type": "code",
   "execution_count": 42,
   "metadata": {},
   "outputs": [],
   "source": [
    "# the columns which skewness values is >=1 and <= -1 those columns skewness we will reduce \n",
    "df_num_sqrt=df_num.copy()\n",
    "for col in df_num_sqrt:\n",
    "    if skew(df_num_sqrt[col]) >=1 or skew(df_num_sqrt[col])<=-1:\n",
    "        df_num_sqrt[col]=np.sqrt(df_num_sqrt[col])"
   ]
  },
  {
   "cell_type": "code",
   "execution_count": 43,
   "metadata": {},
   "outputs": [
    {
     "data": {
      "text/html": [
       "<div>\n",
       "<style scoped>\n",
       "    .dataframe tbody tr th:only-of-type {\n",
       "        vertical-align: middle;\n",
       "    }\n",
       "\n",
       "    .dataframe tbody tr th {\n",
       "        vertical-align: top;\n",
       "    }\n",
       "\n",
       "    .dataframe thead th {\n",
       "        text-align: right;\n",
       "    }\n",
       "</style>\n",
       "<table border=\"1\" class=\"dataframe\">\n",
       "  <thead>\n",
       "    <tr style=\"text-align: right;\">\n",
       "      <th></th>\n",
       "      <th>budget</th>\n",
       "      <th>id</th>\n",
       "      <th>imdb_id</th>\n",
       "      <th>popularity</th>\n",
       "      <th>revenue</th>\n",
       "      <th>runtime</th>\n",
       "      <th>vote_average</th>\n",
       "      <th>vote_count</th>\n",
       "    </tr>\n",
       "    <tr>\n",
       "      <th>ID</th>\n",
       "      <th></th>\n",
       "      <th></th>\n",
       "      <th></th>\n",
       "      <th></th>\n",
       "      <th></th>\n",
       "      <th></th>\n",
       "      <th></th>\n",
       "      <th></th>\n",
       "    </tr>\n",
       "  </thead>\n",
       "  <tbody>\n",
       "    <tr>\n",
       "      <th>3</th>\n",
       "      <td>0.000000</td>\n",
       "      <td>15602.0</td>\n",
       "      <td>336.493685</td>\n",
       "      <td>3.422411</td>\n",
       "      <td>0.000000</td>\n",
       "      <td>10.049876</td>\n",
       "      <td>2.549510</td>\n",
       "      <td>9.591663</td>\n",
       "    </tr>\n",
       "    <tr>\n",
       "      <th>4</th>\n",
       "      <td>4000.000000</td>\n",
       "      <td>31357.0</td>\n",
       "      <td>338.946898</td>\n",
       "      <td>1.964560</td>\n",
       "      <td>9025.084820</td>\n",
       "      <td>11.269428</td>\n",
       "      <td>2.469818</td>\n",
       "      <td>5.830952</td>\n",
       "    </tr>\n",
       "    <tr>\n",
       "      <th>8</th>\n",
       "      <td>0.000000</td>\n",
       "      <td>45325.0</td>\n",
       "      <td>335.114906</td>\n",
       "      <td>1.600363</td>\n",
       "      <td>0.000000</td>\n",
       "      <td>9.848858</td>\n",
       "      <td>2.323790</td>\n",
       "      <td>6.708204</td>\n",
       "    </tr>\n",
       "    <tr>\n",
       "      <th>26</th>\n",
       "      <td>0.000000</td>\n",
       "      <td>16420.0</td>\n",
       "      <td>337.723259</td>\n",
       "      <td>1.358639</td>\n",
       "      <td>0.000000</td>\n",
       "      <td>11.090537</td>\n",
       "      <td>2.645751</td>\n",
       "      <td>5.744563</td>\n",
       "    </tr>\n",
       "    <tr>\n",
       "      <th>27</th>\n",
       "      <td>3464.101615</td>\n",
       "      <td>9263.0</td>\n",
       "      <td>337.655150</td>\n",
       "      <td>2.946409</td>\n",
       "      <td>5234.500931</td>\n",
       "      <td>10.000000</td>\n",
       "      <td>2.569047</td>\n",
       "      <td>9.539392</td>\n",
       "    </tr>\n",
       "    <tr>\n",
       "      <th>...</th>\n",
       "      <td>...</td>\n",
       "      <td>...</td>\n",
       "      <td>...</td>\n",
       "      <td>...</td>\n",
       "      <td>...</td>\n",
       "      <td>...</td>\n",
       "      <td>...</td>\n",
       "      <td>...</td>\n",
       "    </tr>\n",
       "    <tr>\n",
       "      <th>45459</th>\n",
       "      <td>0.000000</td>\n",
       "      <td>289923.0</td>\n",
       "      <td>502.957255</td>\n",
       "      <td>0.621651</td>\n",
       "      <td>0.000000</td>\n",
       "      <td>5.477226</td>\n",
       "      <td>2.645751</td>\n",
       "      <td>1.000000</td>\n",
       "    </tr>\n",
       "    <tr>\n",
       "      <th>45460</th>\n",
       "      <td>0.000000</td>\n",
       "      <td>222848.0</td>\n",
       "      <td>335.578605</td>\n",
       "      <td>0.813362</td>\n",
       "      <td>0.000000</td>\n",
       "      <td>9.219544</td>\n",
       "      <td>1.870829</td>\n",
       "      <td>1.000000</td>\n",
       "    </tr>\n",
       "    <tr>\n",
       "      <th>45461</th>\n",
       "      <td>0.000000</td>\n",
       "      <td>30840.0</td>\n",
       "      <td>320.619712</td>\n",
       "      <td>2.384062</td>\n",
       "      <td>0.000000</td>\n",
       "      <td>10.198039</td>\n",
       "      <td>2.387467</td>\n",
       "      <td>5.099020</td>\n",
       "    </tr>\n",
       "    <tr>\n",
       "      <th>45464</th>\n",
       "      <td>0.000000</td>\n",
       "      <td>67758.0</td>\n",
       "      <td>551.142450</td>\n",
       "      <td>0.950267</td>\n",
       "      <td>0.000000</td>\n",
       "      <td>9.486833</td>\n",
       "      <td>1.949359</td>\n",
       "      <td>2.449490</td>\n",
       "    </tr>\n",
       "    <tr>\n",
       "      <th>45465</th>\n",
       "      <td>0.000000</td>\n",
       "      <td>227506.0</td>\n",
       "      <td>92.390476</td>\n",
       "      <td>0.059186</td>\n",
       "      <td>0.000000</td>\n",
       "      <td>9.327379</td>\n",
       "      <td>0.000000</td>\n",
       "      <td>0.000000</td>\n",
       "    </tr>\n",
       "  </tbody>\n",
       "</table>\n",
       "<p>38757 rows × 8 columns</p>\n",
       "</div>"
      ],
      "text/plain": [
       "            budget        id     imdb_id  popularity      revenue    runtime  \\\n",
       "ID                                                                             \n",
       "3         0.000000   15602.0  336.493685    3.422411     0.000000  10.049876   \n",
       "4      4000.000000   31357.0  338.946898    1.964560  9025.084820  11.269428   \n",
       "8         0.000000   45325.0  335.114906    1.600363     0.000000   9.848858   \n",
       "26        0.000000   16420.0  337.723259    1.358639     0.000000  11.090537   \n",
       "27     3464.101615    9263.0  337.655150    2.946409  5234.500931  10.000000   \n",
       "...            ...       ...         ...         ...          ...        ...   \n",
       "45459     0.000000  289923.0  502.957255    0.621651     0.000000   5.477226   \n",
       "45460     0.000000  222848.0  335.578605    0.813362     0.000000   9.219544   \n",
       "45461     0.000000   30840.0  320.619712    2.384062     0.000000  10.198039   \n",
       "45464     0.000000   67758.0  551.142450    0.950267     0.000000   9.486833   \n",
       "45465     0.000000  227506.0   92.390476    0.059186     0.000000   9.327379   \n",
       "\n",
       "       vote_average  vote_count  \n",
       "ID                               \n",
       "3          2.549510    9.591663  \n",
       "4          2.469818    5.830952  \n",
       "8          2.323790    6.708204  \n",
       "26         2.645751    5.744563  \n",
       "27         2.569047    9.539392  \n",
       "...             ...         ...  \n",
       "45459      2.645751    1.000000  \n",
       "45460      1.870829    1.000000  \n",
       "45461      2.387467    5.099020  \n",
       "45464      1.949359    2.449490  \n",
       "45465      0.000000    0.000000  \n",
       "\n",
       "[38757 rows x 8 columns]"
      ]
     },
     "execution_count": 43,
     "metadata": {},
     "output_type": "execute_result"
    }
   ],
   "source": [
    "df_num_sqrt"
   ]
  },
  {
   "cell_type": "code",
   "execution_count": 44,
   "metadata": {},
   "outputs": [
    {
     "name": "stdout",
     "output_type": "stream",
     "text": [
      "budget 10.33474510760406\n",
      "id nan\n",
      "imdb_id 1.6842619413734923\n",
      "popularity 2.209847764264594\n",
      "revenue 30.408182481218017\n",
      "runtime -1.33785861630835\n",
      "vote_average -1.4064006167061822\n",
      "vote_count 2.2184390765451796\n"
     ]
    }
   ],
   "source": [
    "# Skew = 3 * (Mean – Median) / Standard Deviation.\n",
    "for i in df_num:\n",
    "    print(i,skew(df_num[i]))\n",
    "\n",
    "#data skewness > -1 and < 1 that means data is normally distributed "
   ]
  },
  {
   "cell_type": "markdown",
   "metadata": {},
   "source": [
    "# skewness reducing using minmaxscale"
   ]
  },
  {
   "cell_type": "code",
   "execution_count": 45,
   "metadata": {},
   "outputs": [],
   "source": [
    "df_num_minmaxscale=df_num.copy()"
   ]
  },
  {
   "cell_type": "code",
   "execution_count": 46,
   "metadata": {},
   "outputs": [
    {
     "data": {
      "text/html": [
       "<div>\n",
       "<style scoped>\n",
       "    .dataframe tbody tr th:only-of-type {\n",
       "        vertical-align: middle;\n",
       "    }\n",
       "\n",
       "    .dataframe tbody tr th {\n",
       "        vertical-align: top;\n",
       "    }\n",
       "\n",
       "    .dataframe thead th {\n",
       "        text-align: right;\n",
       "    }\n",
       "</style>\n",
       "<table border=\"1\" class=\"dataframe\">\n",
       "  <thead>\n",
       "    <tr style=\"text-align: right;\">\n",
       "      <th></th>\n",
       "      <th>budget</th>\n",
       "      <th>id</th>\n",
       "      <th>imdb_id</th>\n",
       "      <th>popularity</th>\n",
       "      <th>revenue</th>\n",
       "      <th>runtime</th>\n",
       "      <th>vote_average</th>\n",
       "      <th>vote_count</th>\n",
       "    </tr>\n",
       "    <tr>\n",
       "      <th>ID</th>\n",
       "      <th></th>\n",
       "      <th></th>\n",
       "      <th></th>\n",
       "      <th></th>\n",
       "      <th></th>\n",
       "      <th></th>\n",
       "      <th></th>\n",
       "      <th></th>\n",
       "    </tr>\n",
       "  </thead>\n",
       "  <tbody>\n",
       "    <tr>\n",
       "      <th>3</th>\n",
       "      <td>0.0</td>\n",
       "      <td>15602.0</td>\n",
       "      <td>113228.0</td>\n",
       "      <td>11.712900</td>\n",
       "      <td>0.0</td>\n",
       "      <td>101.0</td>\n",
       "      <td>6.5</td>\n",
       "      <td>92.0</td>\n",
       "    </tr>\n",
       "    <tr>\n",
       "      <th>4</th>\n",
       "      <td>16000000.0</td>\n",
       "      <td>31357.0</td>\n",
       "      <td>114885.0</td>\n",
       "      <td>3.859495</td>\n",
       "      <td>81452156.0</td>\n",
       "      <td>127.0</td>\n",
       "      <td>6.1</td>\n",
       "      <td>34.0</td>\n",
       "    </tr>\n",
       "    <tr>\n",
       "      <th>8</th>\n",
       "      <td>0.0</td>\n",
       "      <td>45325.0</td>\n",
       "      <td>112302.0</td>\n",
       "      <td>2.561161</td>\n",
       "      <td>0.0</td>\n",
       "      <td>97.0</td>\n",
       "      <td>5.4</td>\n",
       "      <td>45.0</td>\n",
       "    </tr>\n",
       "    <tr>\n",
       "      <th>26</th>\n",
       "      <td>0.0</td>\n",
       "      <td>16420.0</td>\n",
       "      <td>114057.0</td>\n",
       "      <td>1.845899</td>\n",
       "      <td>0.0</td>\n",
       "      <td>123.0</td>\n",
       "      <td>7.0</td>\n",
       "      <td>33.0</td>\n",
       "    </tr>\n",
       "    <tr>\n",
       "      <th>27</th>\n",
       "      <td>12000000.0</td>\n",
       "      <td>9263.0</td>\n",
       "      <td>114011.0</td>\n",
       "      <td>8.681325</td>\n",
       "      <td>27400000.0</td>\n",
       "      <td>100.0</td>\n",
       "      <td>6.6</td>\n",
       "      <td>91.0</td>\n",
       "    </tr>\n",
       "    <tr>\n",
       "      <th>...</th>\n",
       "      <td>...</td>\n",
       "      <td>...</td>\n",
       "      <td>...</td>\n",
       "      <td>...</td>\n",
       "      <td>...</td>\n",
       "      <td>...</td>\n",
       "      <td>...</td>\n",
       "      <td>...</td>\n",
       "    </tr>\n",
       "    <tr>\n",
       "      <th>45459</th>\n",
       "      <td>0.0</td>\n",
       "      <td>289923.0</td>\n",
       "      <td>252966.0</td>\n",
       "      <td>0.386450</td>\n",
       "      <td>0.0</td>\n",
       "      <td>30.0</td>\n",
       "      <td>7.0</td>\n",
       "      <td>1.0</td>\n",
       "    </tr>\n",
       "    <tr>\n",
       "      <th>45460</th>\n",
       "      <td>0.0</td>\n",
       "      <td>222848.0</td>\n",
       "      <td>112613.0</td>\n",
       "      <td>0.661558</td>\n",
       "      <td>0.0</td>\n",
       "      <td>85.0</td>\n",
       "      <td>3.5</td>\n",
       "      <td>1.0</td>\n",
       "    </tr>\n",
       "    <tr>\n",
       "      <th>45461</th>\n",
       "      <td>0.0</td>\n",
       "      <td>30840.0</td>\n",
       "      <td>102797.0</td>\n",
       "      <td>5.683753</td>\n",
       "      <td>0.0</td>\n",
       "      <td>104.0</td>\n",
       "      <td>5.7</td>\n",
       "      <td>26.0</td>\n",
       "    </tr>\n",
       "    <tr>\n",
       "      <th>45464</th>\n",
       "      <td>0.0</td>\n",
       "      <td>67758.0</td>\n",
       "      <td>303758.0</td>\n",
       "      <td>0.903007</td>\n",
       "      <td>0.0</td>\n",
       "      <td>90.0</td>\n",
       "      <td>3.8</td>\n",
       "      <td>6.0</td>\n",
       "    </tr>\n",
       "    <tr>\n",
       "      <th>45465</th>\n",
       "      <td>0.0</td>\n",
       "      <td>227506.0</td>\n",
       "      <td>8536.0</td>\n",
       "      <td>0.003503</td>\n",
       "      <td>0.0</td>\n",
       "      <td>87.0</td>\n",
       "      <td>0.0</td>\n",
       "      <td>0.0</td>\n",
       "    </tr>\n",
       "  </tbody>\n",
       "</table>\n",
       "<p>38757 rows × 8 columns</p>\n",
       "</div>"
      ],
      "text/plain": [
       "           budget        id   imdb_id  popularity     revenue  runtime  \\\n",
       "ID                                                                       \n",
       "3             0.0   15602.0  113228.0   11.712900         0.0    101.0   \n",
       "4      16000000.0   31357.0  114885.0    3.859495  81452156.0    127.0   \n",
       "8             0.0   45325.0  112302.0    2.561161         0.0     97.0   \n",
       "26            0.0   16420.0  114057.0    1.845899         0.0    123.0   \n",
       "27     12000000.0    9263.0  114011.0    8.681325  27400000.0    100.0   \n",
       "...           ...       ...       ...         ...         ...      ...   \n",
       "45459         0.0  289923.0  252966.0    0.386450         0.0     30.0   \n",
       "45460         0.0  222848.0  112613.0    0.661558         0.0     85.0   \n",
       "45461         0.0   30840.0  102797.0    5.683753         0.0    104.0   \n",
       "45464         0.0   67758.0  303758.0    0.903007         0.0     90.0   \n",
       "45465         0.0  227506.0    8536.0    0.003503         0.0     87.0   \n",
       "\n",
       "       vote_average  vote_count  \n",
       "ID                               \n",
       "3               6.5        92.0  \n",
       "4               6.1        34.0  \n",
       "8               5.4        45.0  \n",
       "26              7.0        33.0  \n",
       "27              6.6        91.0  \n",
       "...             ...         ...  \n",
       "45459           7.0         1.0  \n",
       "45460           3.5         1.0  \n",
       "45461           5.7        26.0  \n",
       "45464           3.8         6.0  \n",
       "45465           0.0         0.0  \n",
       "\n",
       "[38757 rows x 8 columns]"
      ]
     },
     "execution_count": 46,
     "metadata": {},
     "output_type": "execute_result"
    }
   ],
   "source": [
    "df_num_minmaxscale"
   ]
  },
  {
   "cell_type": "code",
   "execution_count": 47,
   "metadata": {},
   "outputs": [],
   "source": [
    "from sklearn.preprocessing  import MinMaxScaler\n",
    "scaler=MinMaxScaler()\n",
    "\n",
    "# it always return series but i need dataframe \n",
    "# house_num_minmaxscale =scaler.fit_transform(house_num_minmaxscale)\n",
    "# dataframe \n",
    "df_num_minmaxscale = pd.DataFrame(scaler.fit_transform(df_num_minmaxscale.values),\n",
    "                                     columns=df_num_minmaxscale.columns,\n",
    "                                     index=df_num_minmaxscale.index)"
   ]
  },
  {
   "cell_type": "code",
   "execution_count": 48,
   "metadata": {},
   "outputs": [
    {
     "name": "stdout",
     "output_type": "stream",
     "text": [
      "budget 10.334745107604064\n",
      "id nan\n",
      "imdb_id 1.6842619413734916\n",
      "popularity 2.209847764264594\n",
      "revenue 30.408182481218024\n",
      "runtime -1.337858616308349\n",
      "vote_average -1.4064006167061824\n",
      "vote_count 2.218439076545179\n"
     ]
    }
   ],
   "source": [
    "for i in df_num_minmaxscale:\n",
    "    print(i,skew(df_num_minmaxscale[i]))"
   ]
  },
  {
   "cell_type": "markdown",
   "metadata": {},
   "source": [
    "# skewness reducing using standard scaler"
   ]
  },
  {
   "cell_type": "code",
   "execution_count": 49,
   "metadata": {},
   "outputs": [],
   "source": [
    "# 1) if we want to apply standered scaler than first remove outliers \n",
    "# if there is high outliers or low outliers we will not get standered or standered normal distribution data\n",
    "# Standard scaler \n",
    "# newx=(x-mean)/sd\n",
    "df_num_standered_scale=df_num.copy()\n",
    "from sklearn.preprocessing import StandardScaler\n",
    "scaler=StandardScaler()\n",
    "df_num_standered_scale = pd.DataFrame(scaler.fit_transform(df_num_standered_scale.values),\n",
    "                                     columns=df_num_standered_scale.columns,\n",
    "                                     index=df_num_standered_scale.index)"
   ]
  },
  {
   "cell_type": "code",
   "execution_count": 50,
   "metadata": {},
   "outputs": [
    {
     "name": "stdout",
     "output_type": "stream",
     "text": [
      "budget 10.334745107604064\n",
      "id nan\n",
      "imdb_id 1.684261941373492\n",
      "popularity 2.2098477642645937\n",
      "revenue 30.408182481218006\n",
      "runtime -1.33785861630835\n",
      "vote_average -1.4064006167061818\n",
      "vote_count 2.2184390765451787\n"
     ]
    }
   ],
   "source": [
    "for i in df_num_standered_scale:\n",
    "    print(i,skew(df_num_standered_scale[i]))"
   ]
  },
  {
   "cell_type": "markdown",
   "metadata": {},
   "source": [
    "# categorical data analysis"
   ]
  },
  {
   "cell_type": "code",
   "execution_count": 51,
   "metadata": {},
   "outputs": [
    {
     "data": {
      "text/html": [
       "<div>\n",
       "<style scoped>\n",
       "    .dataframe tbody tr th:only-of-type {\n",
       "        vertical-align: middle;\n",
       "    }\n",
       "\n",
       "    .dataframe tbody tr th {\n",
       "        vertical-align: top;\n",
       "    }\n",
       "\n",
       "    .dataframe thead th {\n",
       "        text-align: right;\n",
       "    }\n",
       "</style>\n",
       "<table border=\"1\" class=\"dataframe\">\n",
       "  <thead>\n",
       "    <tr style=\"text-align: right;\">\n",
       "      <th></th>\n",
       "      <th>adult</th>\n",
       "      <th>original_language</th>\n",
       "      <th>original_title</th>\n",
       "      <th>overview</th>\n",
       "      <th>status</th>\n",
       "      <th>tagline</th>\n",
       "      <th>title</th>\n",
       "      <th>video</th>\n",
       "    </tr>\n",
       "    <tr>\n",
       "      <th>ID</th>\n",
       "      <th></th>\n",
       "      <th></th>\n",
       "      <th></th>\n",
       "      <th></th>\n",
       "      <th></th>\n",
       "      <th></th>\n",
       "      <th></th>\n",
       "      <th></th>\n",
       "    </tr>\n",
       "  </thead>\n",
       "  <tbody>\n",
       "    <tr>\n",
       "      <th>1</th>\n",
       "      <td>False</td>\n",
       "      <td>en</td>\n",
       "      <td>Toy Story</td>\n",
       "      <td>Led by Woody, Andy's toys live happily in his ...</td>\n",
       "      <td>Released</td>\n",
       "      <td>NaN</td>\n",
       "      <td>Toy Story</td>\n",
       "      <td>False</td>\n",
       "    </tr>\n",
       "    <tr>\n",
       "      <th>2</th>\n",
       "      <td>False</td>\n",
       "      <td>en</td>\n",
       "      <td>Jumanji</td>\n",
       "      <td>When siblings Judy and Peter discover an encha...</td>\n",
       "      <td>Released</td>\n",
       "      <td>Roll the dice and unleash the excitement!</td>\n",
       "      <td>Jumanji</td>\n",
       "      <td>False</td>\n",
       "    </tr>\n",
       "    <tr>\n",
       "      <th>3</th>\n",
       "      <td>False</td>\n",
       "      <td>en</td>\n",
       "      <td>Grumpier Old Men</td>\n",
       "      <td>A family wedding reignites the ancient feud be...</td>\n",
       "      <td>Released</td>\n",
       "      <td>Still Yelling. Still Fighting. Still Ready for...</td>\n",
       "      <td>Grumpier Old Men</td>\n",
       "      <td>False</td>\n",
       "    </tr>\n",
       "    <tr>\n",
       "      <th>4</th>\n",
       "      <td>False</td>\n",
       "      <td>en</td>\n",
       "      <td>Waiting to Exhale</td>\n",
       "      <td>Cheated on, mistreated and stepped on, the wom...</td>\n",
       "      <td>Released</td>\n",
       "      <td>Friends are the people who let you be yourself...</td>\n",
       "      <td>Waiting to Exhale</td>\n",
       "      <td>False</td>\n",
       "    </tr>\n",
       "    <tr>\n",
       "      <th>5</th>\n",
       "      <td>False</td>\n",
       "      <td>en</td>\n",
       "      <td>Father of the Bride Part II</td>\n",
       "      <td>Just when George Banks has recovered from his ...</td>\n",
       "      <td>Released</td>\n",
       "      <td>Just When His World Is Back To Normal... He's ...</td>\n",
       "      <td>Father of the Bride Part II</td>\n",
       "      <td>False</td>\n",
       "    </tr>\n",
       "    <tr>\n",
       "      <th>...</th>\n",
       "      <td>...</td>\n",
       "      <td>...</td>\n",
       "      <td>...</td>\n",
       "      <td>...</td>\n",
       "      <td>...</td>\n",
       "      <td>...</td>\n",
       "      <td>...</td>\n",
       "      <td>...</td>\n",
       "    </tr>\n",
       "    <tr>\n",
       "      <th>45462</th>\n",
       "      <td>False</td>\n",
       "      <td>fa</td>\n",
       "      <td>رگ خواب</td>\n",
       "      <td>Rising and falling between a man and woman.</td>\n",
       "      <td>Released</td>\n",
       "      <td>Rising and falling between a man and woman</td>\n",
       "      <td>Subdue</td>\n",
       "      <td>False</td>\n",
       "    </tr>\n",
       "    <tr>\n",
       "      <th>45463</th>\n",
       "      <td>False</td>\n",
       "      <td>tl</td>\n",
       "      <td>Siglo ng Pagluluwal</td>\n",
       "      <td>An artist struggles to finish his work while a...</td>\n",
       "      <td>Released</td>\n",
       "      <td>NaN</td>\n",
       "      <td>Century of Birthing</td>\n",
       "      <td>False</td>\n",
       "    </tr>\n",
       "    <tr>\n",
       "      <th>45464</th>\n",
       "      <td>False</td>\n",
       "      <td>en</td>\n",
       "      <td>Betrayal</td>\n",
       "      <td>When one of her hits goes wrong, a professiona...</td>\n",
       "      <td>Released</td>\n",
       "      <td>A deadly game of wits.</td>\n",
       "      <td>Betrayal</td>\n",
       "      <td>False</td>\n",
       "    </tr>\n",
       "    <tr>\n",
       "      <th>45465</th>\n",
       "      <td>False</td>\n",
       "      <td>en</td>\n",
       "      <td>Satana likuyushchiy</td>\n",
       "      <td>In a small town live two brothers, one a minis...</td>\n",
       "      <td>Released</td>\n",
       "      <td>NaN</td>\n",
       "      <td>Satan Triumphant</td>\n",
       "      <td>False</td>\n",
       "    </tr>\n",
       "    <tr>\n",
       "      <th>45466</th>\n",
       "      <td>False</td>\n",
       "      <td>en</td>\n",
       "      <td>Queerama</td>\n",
       "      <td>50 years after decriminalisation of homosexual...</td>\n",
       "      <td>Released</td>\n",
       "      <td>NaN</td>\n",
       "      <td>Queerama</td>\n",
       "      <td>False</td>\n",
       "    </tr>\n",
       "  </tbody>\n",
       "</table>\n",
       "<p>45466 rows × 8 columns</p>\n",
       "</div>"
      ],
      "text/plain": [
       "       adult original_language               original_title  \\\n",
       "ID                                                            \n",
       "1      False                en                    Toy Story   \n",
       "2      False                en                      Jumanji   \n",
       "3      False                en             Grumpier Old Men   \n",
       "4      False                en            Waiting to Exhale   \n",
       "5      False                en  Father of the Bride Part II   \n",
       "...      ...               ...                          ...   \n",
       "45462  False                fa                      رگ خواب   \n",
       "45463  False                tl          Siglo ng Pagluluwal   \n",
       "45464  False                en                     Betrayal   \n",
       "45465  False                en          Satana likuyushchiy   \n",
       "45466  False                en                     Queerama   \n",
       "\n",
       "                                                overview    status  \\\n",
       "ID                                                                   \n",
       "1      Led by Woody, Andy's toys live happily in his ...  Released   \n",
       "2      When siblings Judy and Peter discover an encha...  Released   \n",
       "3      A family wedding reignites the ancient feud be...  Released   \n",
       "4      Cheated on, mistreated and stepped on, the wom...  Released   \n",
       "5      Just when George Banks has recovered from his ...  Released   \n",
       "...                                                  ...       ...   \n",
       "45462        Rising and falling between a man and woman.  Released   \n",
       "45463  An artist struggles to finish his work while a...  Released   \n",
       "45464  When one of her hits goes wrong, a professiona...  Released   \n",
       "45465  In a small town live two brothers, one a minis...  Released   \n",
       "45466  50 years after decriminalisation of homosexual...  Released   \n",
       "\n",
       "                                                 tagline  \\\n",
       "ID                                                         \n",
       "1                                                    NaN   \n",
       "2              Roll the dice and unleash the excitement!   \n",
       "3      Still Yelling. Still Fighting. Still Ready for...   \n",
       "4      Friends are the people who let you be yourself...   \n",
       "5      Just When His World Is Back To Normal... He's ...   \n",
       "...                                                  ...   \n",
       "45462         Rising and falling between a man and woman   \n",
       "45463                                                NaN   \n",
       "45464                             A deadly game of wits.   \n",
       "45465                                                NaN   \n",
       "45466                                                NaN   \n",
       "\n",
       "                             title  video  \n",
       "ID                                         \n",
       "1                        Toy Story  False  \n",
       "2                          Jumanji  False  \n",
       "3                 Grumpier Old Men  False  \n",
       "4                Waiting to Exhale  False  \n",
       "5      Father of the Bride Part II  False  \n",
       "...                            ...    ...  \n",
       "45462                       Subdue  False  \n",
       "45463          Century of Birthing  False  \n",
       "45464                     Betrayal  False  \n",
       "45465             Satan Triumphant  False  \n",
       "45466                     Queerama  False  \n",
       "\n",
       "[45466 rows x 8 columns]"
      ]
     },
     "execution_count": 51,
     "metadata": {},
     "output_type": "execute_result"
    }
   ],
   "source": [
    "df_cat"
   ]
  },
  {
   "cell_type": "code",
   "execution_count": 52,
   "metadata": {
    "scrolled": true
   },
   "outputs": [
    {
     "data": {
      "text/plain": [
       "adult                    0\n",
       "original_language       11\n",
       "original_title           0\n",
       "overview               954\n",
       "status                  87\n",
       "tagline              25054\n",
       "title                    6\n",
       "video                    6\n",
       "dtype: int64"
      ]
     },
     "execution_count": 52,
     "metadata": {},
     "output_type": "execute_result"
    }
   ],
   "source": [
    "df_cat.isnull().sum()"
   ]
  },
  {
   "cell_type": "code",
   "execution_count": 53,
   "metadata": {},
   "outputs": [],
   "source": [
    "#we can delete records where original_language ,overview,status,tagline,title and video\n",
    "#is having null values as the number of such records is to low s compared to whole data\n",
    "df_cat.dropna(inplace=True)"
   ]
  },
  {
   "cell_type": "code",
   "execution_count": 54,
   "metadata": {},
   "outputs": [
    {
     "data": {
      "text/plain": [
       "adult                0\n",
       "original_language    0\n",
       "original_title       0\n",
       "overview             0\n",
       "status               0\n",
       "tagline              0\n",
       "title                0\n",
       "video                0\n",
       "dtype: int64"
      ]
     },
     "execution_count": 54,
     "metadata": {},
     "output_type": "execute_result"
    }
   ],
   "source": [
    "df_cat.isnull().sum()"
   ]
  },
  {
   "cell_type": "code",
   "execution_count": 55,
   "metadata": {},
   "outputs": [
    {
     "name": "stdout",
     "output_type": "stream",
     "text": [
      "<class 'pandas.core.frame.DataFrame'>\n",
      "Int64Index: 20390 entries, 2 to 45464\n",
      "Data columns (total 8 columns):\n",
      " #   Column             Non-Null Count  Dtype \n",
      "---  ------             --------------  ----- \n",
      " 0   adult              20390 non-null  object\n",
      " 1   original_language  20390 non-null  object\n",
      " 2   original_title     20390 non-null  object\n",
      " 3   overview           20390 non-null  object\n",
      " 4   status             20390 non-null  object\n",
      " 5   tagline            20390 non-null  object\n",
      " 6   title              20390 non-null  object\n",
      " 7   video              20390 non-null  object\n",
      "dtypes: object(8)\n",
      "memory usage: 1.4+ MB\n"
     ]
    }
   ],
   "source": [
    "df_cat.info()"
   ]
  },
  {
   "cell_type": "markdown",
   "metadata": {},
   "source": [
    "# Label Encoding categorical data"
   ]
  },
  {
   "cell_type": "code",
   "execution_count": 56,
   "metadata": {},
   "outputs": [],
   "source": [
    "from sklearn.preprocessing import LabelEncoder "
   ]
  },
  {
   "cell_type": "code",
   "execution_count": 57,
   "metadata": {},
   "outputs": [],
   "source": [
    "le=LabelEncoder()\n",
    "for col in df_cat:\n",
    "    df_cat[col]=le.fit_transform(df_cat[col])"
   ]
  },
  {
   "cell_type": "code",
   "execution_count": 58,
   "metadata": {},
   "outputs": [
    {
     "name": "stdout",
     "output_type": "stream",
     "text": [
      "<class 'pandas.core.frame.DataFrame'>\n",
      "Int64Index: 20390 entries, 2 to 45464\n",
      "Data columns (total 8 columns):\n",
      " #   Column             Non-Null Count  Dtype\n",
      "---  ------             --------------  -----\n",
      " 0   adult              20390 non-null  int32\n",
      " 1   original_language  20390 non-null  int32\n",
      " 2   original_title     20390 non-null  int32\n",
      " 3   overview           20390 non-null  int32\n",
      " 4   status             20390 non-null  int32\n",
      " 5   tagline            20390 non-null  int32\n",
      " 6   title              20390 non-null  int32\n",
      " 7   video              20390 non-null  int32\n",
      "dtypes: int32(8)\n",
      "memory usage: 796.5 KB\n"
     ]
    }
   ],
   "source": [
    "df_cat.info()"
   ]
  },
  {
   "cell_type": "code",
   "execution_count": 59,
   "metadata": {},
   "outputs": [
    {
     "data": {
      "text/plain": [
       "(20390, 8)"
      ]
     },
     "execution_count": 59,
     "metadata": {},
     "output_type": "execute_result"
    }
   ],
   "source": [
    "df_cat.shape"
   ]
  },
  {
   "cell_type": "code",
   "execution_count": 60,
   "metadata": {},
   "outputs": [
    {
     "data": {
      "text/html": [
       "<div>\n",
       "<style scoped>\n",
       "    .dataframe tbody tr th:only-of-type {\n",
       "        vertical-align: middle;\n",
       "    }\n",
       "\n",
       "    .dataframe tbody tr th {\n",
       "        vertical-align: top;\n",
       "    }\n",
       "\n",
       "    .dataframe thead th {\n",
       "        text-align: right;\n",
       "    }\n",
       "</style>\n",
       "<table border=\"1\" class=\"dataframe\">\n",
       "  <thead>\n",
       "    <tr style=\"text-align: right;\">\n",
       "      <th></th>\n",
       "      <th>adult</th>\n",
       "      <th>original_language</th>\n",
       "      <th>original_title</th>\n",
       "      <th>overview</th>\n",
       "      <th>status</th>\n",
       "      <th>tagline</th>\n",
       "      <th>title</th>\n",
       "      <th>video</th>\n",
       "    </tr>\n",
       "    <tr>\n",
       "      <th>ID</th>\n",
       "      <th></th>\n",
       "      <th></th>\n",
       "      <th></th>\n",
       "      <th></th>\n",
       "      <th></th>\n",
       "      <th></th>\n",
       "      <th></th>\n",
       "      <th></th>\n",
       "    </tr>\n",
       "  </thead>\n",
       "  <tbody>\n",
       "    <tr>\n",
       "      <th>2</th>\n",
       "      <td>0</td>\n",
       "      <td>13</td>\n",
       "      <td>7710</td>\n",
       "      <td>19712</td>\n",
       "      <td>3</td>\n",
       "      <td>11950</td>\n",
       "      <td>7828</td>\n",
       "      <td>0</td>\n",
       "    </tr>\n",
       "    <tr>\n",
       "      <th>3</th>\n",
       "      <td>0</td>\n",
       "      <td>13</td>\n",
       "      <td>6103</td>\n",
       "      <td>1401</td>\n",
       "      <td>3</td>\n",
       "      <td>13385</td>\n",
       "      <td>6252</td>\n",
       "      <td>0</td>\n",
       "    </tr>\n",
       "    <tr>\n",
       "      <th>4</th>\n",
       "      <td>0</td>\n",
       "      <td>13</td>\n",
       "      <td>18179</td>\n",
       "      <td>7588</td>\n",
       "      <td>3</td>\n",
       "      <td>5627</td>\n",
       "      <td>18612</td>\n",
       "      <td>0</td>\n",
       "    </tr>\n",
       "    <tr>\n",
       "      <th>5</th>\n",
       "      <td>0</td>\n",
       "      <td>13</td>\n",
       "      <td>5123</td>\n",
       "      <td>12268</td>\n",
       "      <td>3</td>\n",
       "      <td>8972</td>\n",
       "      <td>5234</td>\n",
       "      <td>0</td>\n",
       "    </tr>\n",
       "    <tr>\n",
       "      <th>6</th>\n",
       "      <td>0</td>\n",
       "      <td>13</td>\n",
       "      <td>6411</td>\n",
       "      <td>13601</td>\n",
       "      <td>3</td>\n",
       "      <td>587</td>\n",
       "      <td>6565</td>\n",
       "      <td>0</td>\n",
       "    </tr>\n",
       "    <tr>\n",
       "      <th>...</th>\n",
       "      <td>...</td>\n",
       "      <td>...</td>\n",
       "      <td>...</td>\n",
       "      <td>...</td>\n",
       "      <td>...</td>\n",
       "      <td>...</td>\n",
       "      <td>...</td>\n",
       "      <td>...</td>\n",
       "    </tr>\n",
       "    <tr>\n",
       "      <th>45455</th>\n",
       "      <td>0</td>\n",
       "      <td>13</td>\n",
       "      <td>15903</td>\n",
       "      <td>16181</td>\n",
       "      <td>3</td>\n",
       "      <td>18661</td>\n",
       "      <td>16176</td>\n",
       "      <td>0</td>\n",
       "    </tr>\n",
       "    <tr>\n",
       "      <th>45457</th>\n",
       "      <td>0</td>\n",
       "      <td>13</td>\n",
       "      <td>6807</td>\n",
       "      <td>6243</td>\n",
       "      <td>3</td>\n",
       "      <td>10060</td>\n",
       "      <td>6970</td>\n",
       "      <td>0</td>\n",
       "    </tr>\n",
       "    <tr>\n",
       "      <th>45459</th>\n",
       "      <td>0</td>\n",
       "      <td>13</td>\n",
       "      <td>14254</td>\n",
       "      <td>1488</td>\n",
       "      <td>3</td>\n",
       "      <td>4216</td>\n",
       "      <td>14316</td>\n",
       "      <td>0</td>\n",
       "    </tr>\n",
       "    <tr>\n",
       "      <th>45462</th>\n",
       "      <td>0</td>\n",
       "      <td>17</td>\n",
       "      <td>19030</td>\n",
       "      <td>14555</td>\n",
       "      <td>3</td>\n",
       "      <td>11914</td>\n",
       "      <td>13307</td>\n",
       "      <td>0</td>\n",
       "    </tr>\n",
       "    <tr>\n",
       "      <th>45464</th>\n",
       "      <td>0</td>\n",
       "      <td>13</td>\n",
       "      <td>1905</td>\n",
       "      <td>19672</td>\n",
       "      <td>3</td>\n",
       "      <td>1051</td>\n",
       "      <td>2008</td>\n",
       "      <td>0</td>\n",
       "    </tr>\n",
       "  </tbody>\n",
       "</table>\n",
       "<p>20390 rows × 8 columns</p>\n",
       "</div>"
      ],
      "text/plain": [
       "       adult  original_language  original_title  overview  status  tagline  \\\n",
       "ID                                                                           \n",
       "2          0                 13            7710     19712       3    11950   \n",
       "3          0                 13            6103      1401       3    13385   \n",
       "4          0                 13           18179      7588       3     5627   \n",
       "5          0                 13            5123     12268       3     8972   \n",
       "6          0                 13            6411     13601       3      587   \n",
       "...      ...                ...             ...       ...     ...      ...   \n",
       "45455      0                 13           15903     16181       3    18661   \n",
       "45457      0                 13            6807      6243       3    10060   \n",
       "45459      0                 13           14254      1488       3     4216   \n",
       "45462      0                 17           19030     14555       3    11914   \n",
       "45464      0                 13            1905     19672       3     1051   \n",
       "\n",
       "       title  video  \n",
       "ID                   \n",
       "2       7828      0  \n",
       "3       6252      0  \n",
       "4      18612      0  \n",
       "5       5234      0  \n",
       "6       6565      0  \n",
       "...      ...    ...  \n",
       "45455  16176      0  \n",
       "45457   6970      0  \n",
       "45459  14316      0  \n",
       "45462  13307      0  \n",
       "45464   2008      0  \n",
       "\n",
       "[20390 rows x 8 columns]"
      ]
     },
     "execution_count": 60,
     "metadata": {},
     "output_type": "execute_result"
    }
   ],
   "source": [
    "df_cat"
   ]
  },
  {
   "cell_type": "code",
   "execution_count": 61,
   "metadata": {},
   "outputs": [],
   "source": [
    "#merge the df_cat and df_num to all together\n",
    "df_new=pd.merge(df_num,df_cat,on=\"ID\")"
   ]
  },
  {
   "cell_type": "code",
   "execution_count": 62,
   "metadata": {},
   "outputs": [
    {
     "data": {
      "text/html": [
       "<div>\n",
       "<style scoped>\n",
       "    .dataframe tbody tr th:only-of-type {\n",
       "        vertical-align: middle;\n",
       "    }\n",
       "\n",
       "    .dataframe tbody tr th {\n",
       "        vertical-align: top;\n",
       "    }\n",
       "\n",
       "    .dataframe thead th {\n",
       "        text-align: right;\n",
       "    }\n",
       "</style>\n",
       "<table border=\"1\" class=\"dataframe\">\n",
       "  <thead>\n",
       "    <tr style=\"text-align: right;\">\n",
       "      <th></th>\n",
       "      <th>budget</th>\n",
       "      <th>id</th>\n",
       "      <th>imdb_id</th>\n",
       "      <th>popularity</th>\n",
       "      <th>revenue</th>\n",
       "      <th>runtime</th>\n",
       "      <th>vote_average</th>\n",
       "      <th>vote_count</th>\n",
       "      <th>adult</th>\n",
       "      <th>original_language</th>\n",
       "      <th>original_title</th>\n",
       "      <th>overview</th>\n",
       "      <th>status</th>\n",
       "      <th>tagline</th>\n",
       "      <th>title</th>\n",
       "      <th>video</th>\n",
       "    </tr>\n",
       "    <tr>\n",
       "      <th>ID</th>\n",
       "      <th></th>\n",
       "      <th></th>\n",
       "      <th></th>\n",
       "      <th></th>\n",
       "      <th></th>\n",
       "      <th></th>\n",
       "      <th></th>\n",
       "      <th></th>\n",
       "      <th></th>\n",
       "      <th></th>\n",
       "      <th></th>\n",
       "      <th></th>\n",
       "      <th></th>\n",
       "      <th></th>\n",
       "      <th></th>\n",
       "      <th></th>\n",
       "    </tr>\n",
       "  </thead>\n",
       "  <tbody>\n",
       "    <tr>\n",
       "      <th>3</th>\n",
       "      <td>0.0</td>\n",
       "      <td>15602.0</td>\n",
       "      <td>113228.0</td>\n",
       "      <td>11.712900</td>\n",
       "      <td>0.0</td>\n",
       "      <td>101.0</td>\n",
       "      <td>6.5</td>\n",
       "      <td>92.0</td>\n",
       "      <td>0</td>\n",
       "      <td>13</td>\n",
       "      <td>6103</td>\n",
       "      <td>1401</td>\n",
       "      <td>3</td>\n",
       "      <td>13385</td>\n",
       "      <td>6252</td>\n",
       "      <td>0</td>\n",
       "    </tr>\n",
       "    <tr>\n",
       "      <th>4</th>\n",
       "      <td>16000000.0</td>\n",
       "      <td>31357.0</td>\n",
       "      <td>114885.0</td>\n",
       "      <td>3.859495</td>\n",
       "      <td>81452156.0</td>\n",
       "      <td>127.0</td>\n",
       "      <td>6.1</td>\n",
       "      <td>34.0</td>\n",
       "      <td>0</td>\n",
       "      <td>13</td>\n",
       "      <td>18179</td>\n",
       "      <td>7588</td>\n",
       "      <td>3</td>\n",
       "      <td>5627</td>\n",
       "      <td>18612</td>\n",
       "      <td>0</td>\n",
       "    </tr>\n",
       "    <tr>\n",
       "      <th>8</th>\n",
       "      <td>0.0</td>\n",
       "      <td>45325.0</td>\n",
       "      <td>112302.0</td>\n",
       "      <td>2.561161</td>\n",
       "      <td>0.0</td>\n",
       "      <td>97.0</td>\n",
       "      <td>5.4</td>\n",
       "      <td>45.0</td>\n",
       "      <td>0</td>\n",
       "      <td>13</td>\n",
       "      <td>17451</td>\n",
       "      <td>2513</td>\n",
       "      <td>3</td>\n",
       "      <td>14387</td>\n",
       "      <td>17907</td>\n",
       "      <td>0</td>\n",
       "    </tr>\n",
       "    <tr>\n",
       "      <th>26</th>\n",
       "      <td>0.0</td>\n",
       "      <td>16420.0</td>\n",
       "      <td>114057.0</td>\n",
       "      <td>1.845899</td>\n",
       "      <td>0.0</td>\n",
       "      <td>123.0</td>\n",
       "      <td>7.0</td>\n",
       "      <td>33.0</td>\n",
       "      <td>0</td>\n",
       "      <td>13</td>\n",
       "      <td>10591</td>\n",
       "      <td>16522</td>\n",
       "      <td>3</td>\n",
       "      <td>4527</td>\n",
       "      <td>10510</td>\n",
       "      <td>0</td>\n",
       "    </tr>\n",
       "    <tr>\n",
       "      <th>27</th>\n",
       "      <td>12000000.0</td>\n",
       "      <td>9263.0</td>\n",
       "      <td>114011.0</td>\n",
       "      <td>8.681325</td>\n",
       "      <td>27400000.0</td>\n",
       "      <td>100.0</td>\n",
       "      <td>6.6</td>\n",
       "      <td>91.0</td>\n",
       "      <td>0</td>\n",
       "      <td>13</td>\n",
       "      <td>10308</td>\n",
       "      <td>18945</td>\n",
       "      <td>3</td>\n",
       "      <td>7946</td>\n",
       "      <td>10238</td>\n",
       "      <td>0</td>\n",
       "    </tr>\n",
       "    <tr>\n",
       "      <th>...</th>\n",
       "      <td>...</td>\n",
       "      <td>...</td>\n",
       "      <td>...</td>\n",
       "      <td>...</td>\n",
       "      <td>...</td>\n",
       "      <td>...</td>\n",
       "      <td>...</td>\n",
       "      <td>...</td>\n",
       "      <td>...</td>\n",
       "      <td>...</td>\n",
       "      <td>...</td>\n",
       "      <td>...</td>\n",
       "      <td>...</td>\n",
       "      <td>...</td>\n",
       "      <td>...</td>\n",
       "      <td>...</td>\n",
       "    </tr>\n",
       "    <tr>\n",
       "      <th>45450</th>\n",
       "      <td>0.0</td>\n",
       "      <td>14885.0</td>\n",
       "      <td>457437.0</td>\n",
       "      <td>2.568495</td>\n",
       "      <td>0.0</td>\n",
       "      <td>67.0</td>\n",
       "      <td>5.4</td>\n",
       "      <td>7.0</td>\n",
       "      <td>0</td>\n",
       "      <td>13</td>\n",
       "      <td>11099</td>\n",
       "      <td>11662</td>\n",
       "      <td>3</td>\n",
       "      <td>3590</td>\n",
       "      <td>11029</td>\n",
       "      <td>0</td>\n",
       "    </tr>\n",
       "    <tr>\n",
       "      <th>45455</th>\n",
       "      <td>0.0</td>\n",
       "      <td>420346.0</td>\n",
       "      <td>4130180.0</td>\n",
       "      <td>0.139936</td>\n",
       "      <td>0.0</td>\n",
       "      <td>79.0</td>\n",
       "      <td>4.0</td>\n",
       "      <td>2.0</td>\n",
       "      <td>0</td>\n",
       "      <td>13</td>\n",
       "      <td>15903</td>\n",
       "      <td>16181</td>\n",
       "      <td>3</td>\n",
       "      <td>18661</td>\n",
       "      <td>16176</td>\n",
       "      <td>0</td>\n",
       "    </tr>\n",
       "    <tr>\n",
       "      <th>45457</th>\n",
       "      <td>0.0</td>\n",
       "      <td>84419.0</td>\n",
       "      <td>38621.0</td>\n",
       "      <td>0.222814</td>\n",
       "      <td>0.0</td>\n",
       "      <td>65.0</td>\n",
       "      <td>6.3</td>\n",
       "      <td>8.0</td>\n",
       "      <td>0</td>\n",
       "      <td>13</td>\n",
       "      <td>6807</td>\n",
       "      <td>6243</td>\n",
       "      <td>3</td>\n",
       "      <td>10060</td>\n",
       "      <td>6970</td>\n",
       "      <td>0</td>\n",
       "    </tr>\n",
       "    <tr>\n",
       "      <th>45459</th>\n",
       "      <td>0.0</td>\n",
       "      <td>289923.0</td>\n",
       "      <td>252966.0</td>\n",
       "      <td>0.386450</td>\n",
       "      <td>0.0</td>\n",
       "      <td>30.0</td>\n",
       "      <td>7.0</td>\n",
       "      <td>1.0</td>\n",
       "      <td>0</td>\n",
       "      <td>13</td>\n",
       "      <td>14254</td>\n",
       "      <td>1488</td>\n",
       "      <td>3</td>\n",
       "      <td>4216</td>\n",
       "      <td>14316</td>\n",
       "      <td>0</td>\n",
       "    </tr>\n",
       "    <tr>\n",
       "      <th>45464</th>\n",
       "      <td>0.0</td>\n",
       "      <td>67758.0</td>\n",
       "      <td>303758.0</td>\n",
       "      <td>0.903007</td>\n",
       "      <td>0.0</td>\n",
       "      <td>90.0</td>\n",
       "      <td>3.8</td>\n",
       "      <td>6.0</td>\n",
       "      <td>0</td>\n",
       "      <td>13</td>\n",
       "      <td>1905</td>\n",
       "      <td>19672</td>\n",
       "      <td>3</td>\n",
       "      <td>1051</td>\n",
       "      <td>2008</td>\n",
       "      <td>0</td>\n",
       "    </tr>\n",
       "  </tbody>\n",
       "</table>\n",
       "<p>15219 rows × 16 columns</p>\n",
       "</div>"
      ],
      "text/plain": [
       "           budget        id    imdb_id  popularity     revenue  runtime  \\\n",
       "ID                                                                        \n",
       "3             0.0   15602.0   113228.0   11.712900         0.0    101.0   \n",
       "4      16000000.0   31357.0   114885.0    3.859495  81452156.0    127.0   \n",
       "8             0.0   45325.0   112302.0    2.561161         0.0     97.0   \n",
       "26            0.0   16420.0   114057.0    1.845899         0.0    123.0   \n",
       "27     12000000.0    9263.0   114011.0    8.681325  27400000.0    100.0   \n",
       "...           ...       ...        ...         ...         ...      ...   \n",
       "45450         0.0   14885.0   457437.0    2.568495         0.0     67.0   \n",
       "45455         0.0  420346.0  4130180.0    0.139936         0.0     79.0   \n",
       "45457         0.0   84419.0    38621.0    0.222814         0.0     65.0   \n",
       "45459         0.0  289923.0   252966.0    0.386450         0.0     30.0   \n",
       "45464         0.0   67758.0   303758.0    0.903007         0.0     90.0   \n",
       "\n",
       "       vote_average  vote_count  adult  original_language  original_title  \\\n",
       "ID                                                                          \n",
       "3               6.5        92.0      0                 13            6103   \n",
       "4               6.1        34.0      0                 13           18179   \n",
       "8               5.4        45.0      0                 13           17451   \n",
       "26              7.0        33.0      0                 13           10591   \n",
       "27              6.6        91.0      0                 13           10308   \n",
       "...             ...         ...    ...                ...             ...   \n",
       "45450           5.4         7.0      0                 13           11099   \n",
       "45455           4.0         2.0      0                 13           15903   \n",
       "45457           6.3         8.0      0                 13            6807   \n",
       "45459           7.0         1.0      0                 13           14254   \n",
       "45464           3.8         6.0      0                 13            1905   \n",
       "\n",
       "       overview  status  tagline  title  video  \n",
       "ID                                              \n",
       "3          1401       3    13385   6252      0  \n",
       "4          7588       3     5627  18612      0  \n",
       "8          2513       3    14387  17907      0  \n",
       "26        16522       3     4527  10510      0  \n",
       "27        18945       3     7946  10238      0  \n",
       "...         ...     ...      ...    ...    ...  \n",
       "45450     11662       3     3590  11029      0  \n",
       "45455     16181       3    18661  16176      0  \n",
       "45457      6243       3    10060   6970      0  \n",
       "45459      1488       3     4216  14316      0  \n",
       "45464     19672       3     1051   2008      0  \n",
       "\n",
       "[15219 rows x 16 columns]"
      ]
     },
     "execution_count": 62,
     "metadata": {},
     "output_type": "execute_result"
    }
   ],
   "source": [
    "df_new"
   ]
  },
  {
   "cell_type": "code",
   "execution_count": 63,
   "metadata": {},
   "outputs": [
    {
     "name": "stdout",
     "output_type": "stream",
     "text": [
      "<class 'pandas.core.frame.DataFrame'>\n",
      "Int64Index: 15219 entries, 3 to 45464\n",
      "Data columns (total 16 columns):\n",
      " #   Column             Non-Null Count  Dtype  \n",
      "---  ------             --------------  -----  \n",
      " 0   budget             15219 non-null  float64\n",
      " 1   id                 15219 non-null  float64\n",
      " 2   imdb_id            15219 non-null  float64\n",
      " 3   popularity         15219 non-null  float64\n",
      " 4   revenue            15219 non-null  float64\n",
      " 5   runtime            15219 non-null  float64\n",
      " 6   vote_average       15219 non-null  float64\n",
      " 7   vote_count         15219 non-null  float64\n",
      " 8   adult              15219 non-null  int32  \n",
      " 9   original_language  15219 non-null  int32  \n",
      " 10  original_title     15219 non-null  int32  \n",
      " 11  overview           15219 non-null  int32  \n",
      " 12  status             15219 non-null  int32  \n",
      " 13  tagline            15219 non-null  int32  \n",
      " 14  title              15219 non-null  int32  \n",
      " 15  video              15219 non-null  int32  \n",
      "dtypes: float64(8), int32(8)\n",
      "memory usage: 1.5 MB\n"
     ]
    }
   ],
   "source": [
    "df_new.info()"
   ]
  },
  {
   "cell_type": "markdown",
   "metadata": {},
   "source": [
    "# LinearRegression "
   ]
  },
  {
   "cell_type": "code",
   "execution_count": 64,
   "metadata": {},
   "outputs": [],
   "source": [
    "# import required modules \n",
    "from sklearn.linear_model import LinearRegression \n",
    "from sklearn.model_selection import train_test_split"
   ]
  },
  {
   "cell_type": "code",
   "execution_count": 65,
   "metadata": {},
   "outputs": [],
   "source": [
    "x=df_new.drop(\"budget\",axis=1)\n",
    "y=df_new[\"budget\"]"
   ]
  },
  {
   "cell_type": "code",
   "execution_count": 66,
   "metadata": {},
   "outputs": [],
   "source": [
    "#test Train model\n",
    "x_train,x_test,y_train,y_test = train_test_split(x,y,test_size=0.3,random_state=1)"
   ]
  },
  {
   "cell_type": "code",
   "execution_count": 67,
   "metadata": {},
   "outputs": [
    {
     "data": {
      "text/plain": [
       "LinearRegression()"
      ]
     },
     "execution_count": 67,
     "metadata": {},
     "output_type": "execute_result"
    }
   ],
   "source": [
    "# Model Training \n",
    "lr=LinearRegression() # object will be created\n",
    "# llearning model on given data \n",
    "# use theta0+theta1x to calculate bestfit prediction line \n",
    "lr.fit(x_train,y_train)"
   ]
  },
  {
   "cell_type": "code",
   "execution_count": 68,
   "metadata": {},
   "outputs": [],
   "source": [
    "# now model is trained and ready to predict \n",
    "# but before we use it for prediction let's check it's accuracy \n",
    "y_pred=lr.predict(x_test)"
   ]
  },
  {
   "cell_type": "code",
   "execution_count": 69,
   "metadata": {},
   "outputs": [
    {
     "data": {
      "text/plain": [
       "array([  497311.78354818,  1047156.75875475, -1330384.6322232 , ...,\n",
       "        -369041.18270253,   248269.44356263,  1575156.31419896])"
      ]
     },
     "execution_count": 69,
     "metadata": {},
     "output_type": "execute_result"
    }
   ],
   "source": [
    "y_test # x_test original   y\n",
    "y_pred # prediction x_test yhat \n",
    "\n",
    "# MSE = sum((y-yhat)**2)/n "
   ]
  },
  {
   "cell_type": "code",
   "execution_count": 70,
   "metadata": {},
   "outputs": [
    {
     "data": {
      "text/plain": [
       "ID\n",
       "20738    1200000.0\n",
       "23079          0.0\n",
       "22322          0.0\n",
       "7840           0.0\n",
       "5095           0.0\n",
       "           ...    \n",
       "8158           0.0\n",
       "39132          0.0\n",
       "37677          0.0\n",
       "18662          0.0\n",
       "31254          0.0\n",
       "Name: budget, Length: 4566, dtype: float64"
      ]
     },
     "execution_count": 70,
     "metadata": {},
     "output_type": "execute_result"
    }
   ],
   "source": [
    "y_test"
   ]
  },
  {
   "cell_type": "code",
   "execution_count": 71,
   "metadata": {},
   "outputs": [],
   "source": [
    "from sklearn.metrics import mean_squared_error \n",
    "from sklearn.metrics import r2_score"
   ]
  },
  {
   "cell_type": "code",
   "execution_count": 72,
   "metadata": {},
   "outputs": [
    {
     "name": "stdout",
     "output_type": "stream",
     "text": [
      " accuracy MSE is 28334303870480.97 \n",
      " accuracy R2 score is 0.1171553545480728 \n"
     ]
    }
   ],
   "source": [
    "mse=mean_squared_error(y_test,y_pred)\n",
    "r2score=r2_score(y_test,y_pred)\n",
    "print(\" accuracy MSE is {} \".format(mse))\n",
    "print(\" accuracy R2 score is {} \".format(r2score))"
   ]
  },
  {
   "cell_type": "code",
   "execution_count": 73,
   "metadata": {},
   "outputs": [],
   "source": [
    "#we perfrom the LinearRegression on df_new \n",
    "#now we can see the r2 score is df_new is 0.11 is very low "
   ]
  },
  {
   "cell_type": "markdown",
   "metadata": {},
   "source": [
    "# Logistic regression"
   ]
  },
  {
   "cell_type": "code",
   "execution_count": 74,
   "metadata": {},
   "outputs": [],
   "source": [
    "from sklearn.linear_model import LogisticRegression "
   ]
  },
  {
   "cell_type": "code",
   "execution_count": 75,
   "metadata": {},
   "outputs": [
    {
     "name": "stdout",
     "output_type": "stream",
     "text": [
      "Accuracy 0.7678493210687691\n"
     ]
    }
   ],
   "source": [
    "lr=LogisticRegression()\n",
    "lr.fit(x_train,y_train)\n",
    "lr_score=lr.score(x_test,y_test) # it will return Accuracy  \n",
    "print(\"Accuracy\",lr_score)"
   ]
  },
  {
   "cell_type": "code",
   "execution_count": 76,
   "metadata": {},
   "outputs": [],
   "source": [
    "# i want to check confusion metrix of training model \n",
    "# actual vs predicted\n",
    "y_pred=lr.predict(x_test)"
   ]
  },
  {
   "cell_type": "code",
   "execution_count": 77,
   "metadata": {},
   "outputs": [],
   "source": [
    "from sklearn.metrics import accuracy_score"
   ]
  },
  {
   "cell_type": "code",
   "execution_count": 78,
   "metadata": {},
   "outputs": [
    {
     "name": "stdout",
     "output_type": "stream",
     "text": [
      "Accuracy 0.7678493210687691\n"
     ]
    }
   ],
   "source": [
    "print(\"Accuracy\",accuracy_score(y_test,y_pred))"
   ]
  },
  {
   "cell_type": "code",
   "execution_count": 79,
   "metadata": {},
   "outputs": [],
   "source": [
    "#from sklearn.metrics import classification_report, confusion_matrix"
   ]
  },
  {
   "cell_type": "code",
   "execution_count": 80,
   "metadata": {},
   "outputs": [],
   "source": [
    "#tn,fp,fn,tp=confusion_matrix(y_test,y_pred).ravel().          #it shows the error"
   ]
  },
  {
   "cell_type": "code",
   "execution_count": 81,
   "metadata": {},
   "outputs": [
    {
     "name": "stdout",
     "output_type": "stream",
     "text": [
      "Training r2 score =>  0.18157137672547474\n",
      "Testing r2 score =?  0.1171553545480728\n"
     ]
    }
   ],
   "source": [
    "lr=LinearRegression() # this is multiple linear regression soo features of df we using for training \n",
    "lr.fit(x_train,y_train)\n",
    "print(\"Training r2 score => \",lr.score(x_train,y_train))\n",
    "print(\"Testing r2 score =? \",lr.score(x_test,y_test))"
   ]
  },
  {
   "cell_type": "markdown",
   "metadata": {},
   "source": [
    "# Regularization"
   ]
  },
  {
   "cell_type": "code",
   "execution_count": 82,
   "metadata": {},
   "outputs": [],
   "source": [
    "from sklearn.linear_model import Lasso\n",
    "from sklearn.linear_model import Ridge "
   ]
  },
  {
   "cell_type": "markdown",
   "metadata": {},
   "source": [
    "# Ridge "
   ]
  },
  {
   "cell_type": "code",
   "execution_count": 83,
   "metadata": {},
   "outputs": [
    {
     "name": "stdout",
     "output_type": "stream",
     "text": [
      "Rdige Score r2 score with 10 panelty\n",
      "panelty 1 rscore training 0.181571339070846 rscore testing 0.11715704554963402\n",
      "panelty 2 rscore training 0.18157126486505581 rscore testing 0.11715826700801213\n",
      "panelty 3 rscore training 0.18157117961557756 rscore testing 0.11715922039517879\n",
      "panelty 4 rscore training 0.1815710918472635 rscore testing 0.11716000212716937\n",
      "panelty 5 rscore training 0.18157100477871557 rscore testing 0.11716066490215193\n",
      "panelty 6 rscore training 0.1815709197145754 rscore testing 0.11716124041763765\n",
      "panelty 7 rscore training 0.1815708371899577 rscore testing 0.11716174915681321\n",
      "panelty 8 rscore training 0.18157075740269846 rscore testing 0.11716220510711017\n",
      "panelty 9 rscore training 0.18157068039225632 rscore testing 0.11716261824390417\n"
     ]
    }
   ],
   "source": [
    "# Ridge = l2 \n",
    "# theta0+theta1x1+(e**2)\n",
    "print(\"Rdige Score r2 score with 10 panelty\")\n",
    "for i in range(1,10):\n",
    "    r=Ridge(i)\n",
    "    r.fit(x_train,y_train)\n",
    "    print(\"panelty {} rscore training {} rscore testing {}\".format(i,r.score(x_train,y_train),r.score(x_test,y_test)))"
   ]
  },
  {
   "cell_type": "code",
   "execution_count": 84,
   "metadata": {},
   "outputs": [],
   "source": [
    "# we perfrom the ridge but the score is aslo very low"
   ]
  },
  {
   "cell_type": "code",
   "execution_count": 85,
   "metadata": {},
   "outputs": [
    {
     "data": {
      "text/plain": [
       "array([-1.13612982e+00, -1.46620704e-02,  1.68593411e+05,  2.61567942e-01,\n",
       "        1.70499587e+04, -2.64541193e+05,  4.08684190e+04,  8.46142948e+04,\n",
       "        8.24918953e+03, -9.74844422e+00,  9.60027169e+00,  9.31358468e+04,\n",
       "        8.95581313e+00,  8.54530920e+00,  1.72407055e+05])"
      ]
     },
     "execution_count": 85,
     "metadata": {},
     "output_type": "execute_result"
    }
   ],
   "source": [
    "r.coef_ # coef /slop is minimized"
   ]
  },
  {
   "cell_type": "code",
   "execution_count": 86,
   "metadata": {},
   "outputs": [],
   "source": [
    "coef=pd.Series(r.coef_,x_train.columns.sort_values())"
   ]
  },
  {
   "cell_type": "code",
   "execution_count": 87,
   "metadata": {},
   "outputs": [
    {
     "data": {
      "image/png": "[encoded data removed]",
      "text/plain": [
       "<Figure size 432x288 with 1 Axes>"
      ]
     },
     "metadata": {
      "needs_background": "light"
     },
     "output_type": "display_data"
    }
   ],
   "source": [
    "coef.plot(kind=\"bar\",title=\"model coefficent\")\n",
    "plt.show()"
   ]
  },
  {
   "cell_type": "markdown",
   "metadata": {},
   "source": [
    "# Lasso"
   ]
  },
  {
   "cell_type": "code",
   "execution_count": 88,
   "metadata": {},
   "outputs": [
    {
     "name": "stdout",
     "output_type": "stream",
     "text": [
      "Lasso Score r2 score with 1000 panelty\n",
      "panelty 1 rscore training 0.18157137663990042 rscore testing 0.11716261824390417\n",
      "panelty 11 rscore training 0.18157136637097138 rscore testing 0.11716261824390417\n",
      "panelty 21 rscore training 0.18157133898716094 rscore testing 0.11716261824390417\n",
      "panelty 31 rscore training 0.18157129448846898 rscore testing 0.11716261824390417\n",
      "panelty 41 rscore training 0.18157123287489552 rscore testing 0.11716261824390417\n",
      "panelty 51 rscore training 0.18157115414644032 rscore testing 0.11716261824390417\n",
      "panelty 61 rscore training 0.1815710583031035 rscore testing 0.11716261824390417\n",
      "panelty 71 rscore training 0.18157094534488538 rscore testing 0.11716261824390417\n",
      "panelty 81 rscore training 0.18157081527178554 rscore testing 0.11716261824390417\n",
      "panelty 91 rscore training 0.1815706680838044 rscore testing 0.11716261824390417\n",
      "panelty 101 rscore training 0.18157050378094153 rscore testing 0.11716261824390417\n",
      "panelty 111 rscore training 0.1815704336664581 rscore testing 0.11716261824390417\n",
      "panelty 121 rscore training 0.1815703905780378 rscore testing 0.11716261824390417\n",
      "panelty 131 rscore training 0.18157034377509862 rscore testing 0.11716261824390417\n",
      "panelty 141 rscore training 0.1815702932576403 rscore testing 0.11716261824390417\n",
      "panelty 151 rscore training 0.18157023902566294 rscore testing 0.11716261824390417\n",
      "panelty 161 rscore training 0.18157018107916678 rscore testing 0.11716261824390417\n",
      "panelty 171 rscore training 0.1815701194181515 rscore testing 0.11716261824390417\n",
      "panelty 181 rscore training 0.18157005404261728 rscore testing 0.11716261824390417\n",
      "panelty 191 rscore training 0.18156998495256405 rscore testing 0.11716261824390417\n",
      "panelty 201 rscore training 0.18156991214799167 rscore testing 0.11716261824390417\n",
      "panelty 211 rscore training 0.1815698356289005 rscore testing 0.11716261824390417\n",
      "panelty 221 rscore training 0.1815697553952904 rscore testing 0.11716261824390417\n",
      "panelty 231 rscore training 0.1815696714471613 rscore testing 0.11716261824390417\n",
      "panelty 241 rscore training 0.18156958378451304 rscore testing 0.11716261824390417\n",
      "panelty 251 rscore training 0.18156949240734588 rscore testing 0.11716261824390417\n",
      "panelty 261 rscore training 0.1815693973156597 rscore testing 0.11716261824390417\n",
      "panelty 271 rscore training 0.18156929850945458 rscore testing 0.11716261824390417\n",
      "panelty 281 rscore training 0.18156919598873067 rscore testing 0.11716261824390417\n",
      "panelty 291 rscore training 0.1815690897534874 rscore testing 0.11716261824390417\n",
      "panelty 301 rscore training 0.18156897980372533 rscore testing 0.11716261824390417\n",
      "panelty 311 rscore training 0.18156886613944379 rscore testing 0.11716261824390417\n",
      "panelty 321 rscore training 0.18156874876064388 rscore testing 0.11716261824390417\n",
      "panelty 331 rscore training 0.18156862766732484 rscore testing 0.11716261824390417\n",
      "panelty 341 rscore training 0.18156850285948678 rscore testing 0.11716261824390417\n",
      "panelty 351 rscore training 0.1815683743371298 rscore testing 0.11716261824390417\n",
      "panelty 361 rscore training 0.18156824210025369 rscore testing 0.11716261824390417\n",
      "panelty 371 rscore training 0.18156810614885877 rscore testing 0.11716261824390417\n",
      "panelty 381 rscore training 0.18156796648294482 rscore testing 0.11716261824390417\n",
      "panelty 391 rscore training 0.18156782310251174 rscore testing 0.11716261824390417\n",
      "panelty 401 rscore training 0.1815676760075594 rscore testing 0.11716261824390417\n",
      "panelty 411 rscore training 0.1815675251980884 rscore testing 0.11716261824390417\n",
      "panelty 421 rscore training 0.1815674004651665 rscore testing 0.11716261824390417\n",
      "panelty 431 rscore training 0.18156737691015945 rscore testing 0.11716261824390417\n",
      "panelty 441 rscore training 0.18156735280221792 rscore testing 0.11716261824390417\n",
      "panelty 451 rscore training 0.1815673281413418 rscore testing 0.11716261824390417\n",
      "panelty 461 rscore training 0.18156730292753154 rscore testing 0.11716261824390417\n",
      "panelty 471 rscore training 0.18156727716078658 rscore testing 0.11716261824390417\n",
      "panelty 481 rscore training 0.18156725084110747 rscore testing 0.11716261824390417\n",
      "panelty 491 rscore training 0.18156722396849367 rscore testing 0.11716261824390417\n",
      "panelty 501 rscore training 0.1815671965429455 rscore testing 0.11716261824390417\n",
      "panelty 511 rscore training 0.18156716856446287 rscore testing 0.11716261824390417\n",
      "panelty 521 rscore training 0.18156714003304597 rscore testing 0.11716261824390417\n",
      "panelty 531 rscore training 0.18156711094869427 rscore testing 0.11716261824390417\n",
      "panelty 541 rscore training 0.18156708131140842 rscore testing 0.11716261824390417\n",
      "panelty 551 rscore training 0.1815670511211881 rscore testing 0.11716261824390417\n",
      "panelty 561 rscore training 0.1815670203780334 rscore testing 0.11716261824390417\n",
      "panelty 571 rscore training 0.18156698908194424 rscore testing 0.11716261824390417\n",
      "panelty 581 rscore training 0.1815669572329205 rscore testing 0.11716261824390417\n",
      "panelty 591 rscore training 0.1815669248309626 rscore testing 0.11716261824390417\n",
      "panelty 601 rscore training 0.18156689187606978 rscore testing 0.11716261824390417\n",
      "panelty 611 rscore training 0.18156685836824293 rscore testing 0.11716261824390417\n",
      "panelty 621 rscore training 0.1815668243074815 rscore testing 0.11716261824390417\n",
      "panelty 631 rscore training 0.1815667896937856 rscore testing 0.11716261824390417\n",
      "panelty 641 rscore training 0.18156675452715532 rscore testing 0.11716261824390417\n",
      "panelty 651 rscore training 0.18156671880759057 rscore testing 0.11716261824390417\n",
      "panelty 661 rscore training 0.18156668253509134 rscore testing 0.11716261824390417\n",
      "panelty 671 rscore training 0.18156664570965786 rscore testing 0.11716261824390417\n",
      "panelty 681 rscore training 0.18156660833128968 rscore testing 0.11716261824390417\n",
      "panelty 691 rscore training 0.18156657039998736 rscore testing 0.11716261824390417\n",
      "panelty 701 rscore training 0.18156653191575034 rscore testing 0.11716261824390417\n",
      "panelty 711 rscore training 0.18156649287857907 rscore testing 0.11716261824390417\n",
      "panelty 721 rscore training 0.1815664532884732 rscore testing 0.11716261824390417\n",
      "panelty 731 rscore training 0.18156641314543287 rscore testing 0.11716261824390417\n",
      "panelty 741 rscore training 0.18156637244945828 rscore testing 0.11716261824390417\n",
      "panelty 751 rscore training 0.1815663312005491 rscore testing 0.11716261824390417\n",
      "panelty 761 rscore training 0.18156628939870556 rscore testing 0.11716261824390417\n",
      "panelty 771 rscore training 0.18156624704392754 rscore testing 0.11716261824390417\n",
      "panelty 781 rscore training 0.18156620413621516 rscore testing 0.11716261824390417\n",
      "panelty 791 rscore training 0.1815661606755683 rscore testing 0.11716261824390417\n",
      "panelty 801 rscore training 0.18156611666198696 rscore testing 0.11716261824390417\n",
      "panelty 811 rscore training 0.18156607209547115 rscore testing 0.11716261824390417\n",
      "panelty 821 rscore training 0.1815660269760211 rscore testing 0.11716261824390417\n",
      "panelty 831 rscore training 0.18156598130363644 rscore testing 0.11716261824390417\n",
      "panelty 841 rscore training 0.1815659350783172 rscore testing 0.11716261824390417\n",
      "panelty 851 rscore training 0.18156588830006382 rscore testing 0.11716261824390417\n",
      "panelty 861 rscore training 0.18156584096887585 rscore testing 0.11716261824390417\n",
      "panelty 871 rscore training 0.18156579308475362 rscore testing 0.11716261824390417\n",
      "panelty 881 rscore training 0.1815657446476967 rscore testing 0.11716261824390417\n",
      "panelty 891 rscore training 0.18156569565770542 rscore testing 0.11716261824390417\n",
      "panelty 901 rscore training 0.18156564611477977 rscore testing 0.11716261824390417\n",
      "panelty 911 rscore training 0.18156559601891964 rscore testing 0.11716261824390417\n",
      "panelty 921 rscore training 0.18156554537012515 rscore testing 0.11716261824390417\n",
      "panelty 931 rscore training 0.18156550393054283 rscore testing 0.11716261824390417\n",
      "panelty 941 rscore training 0.18156550358311618 rscore testing 0.11716261824390417\n",
      "panelty 951 rscore training 0.18156550323197784 rscore testing 0.11716261824390417\n",
      "panelty 961 rscore training 0.18156550287712747 rscore testing 0.11716261824390417\n",
      "panelty 971 rscore training 0.1815655025185655 rscore testing 0.11716261824390417\n",
      "panelty 981 rscore training 0.18156550215629164 rscore testing 0.11716261824390417\n",
      "panelty 991 rscore training 0.18156550179030595 rscore testing 0.11716261824390417\n"
     ]
    }
   ],
   "source": [
    "print(\"Lasso Score r2 score with 1000 panelty\")\n",
    "for i in range(1,1000,10):\n",
    "    l=Lasso(i)\n",
    "    l.fit(x_train,y_train)\n",
    "    print(\"panelty {} rscore training {} rscore testing {}\".format(i,l.score(x_train,y_train),r.score(x_test,y_test)))"
   ]
  },
  {
   "cell_type": "code",
   "execution_count": 89,
   "metadata": {},
   "outputs": [],
   "source": [
    "# we perfrom the lasso but the score is aslo very low"
   ]
  },
  {
   "cell_type": "code",
   "execution_count": 90,
   "metadata": {},
   "outputs": [
    {
     "data": {
      "text/plain": [
       "array([-1.13821528e+00, -1.48212638e-02,  1.68261032e+05,  2.61574578e-01,\n",
       "        1.70205237e+04, -2.64227842e+05,  4.08756142e+04,  0.00000000e+00,\n",
       "        8.20055928e+03, -9.65267149e+00,  9.62101058e+00,  0.00000000e+00,\n",
       "        8.96900354e+00,  8.49199321e+00,  0.00000000e+00])"
      ]
     },
     "execution_count": 90,
     "metadata": {},
     "output_type": "execute_result"
    }
   ],
   "source": [
    "l.coef_ # coef /slop is minimized"
   ]
  },
  {
   "cell_type": "code",
   "execution_count": 91,
   "metadata": {},
   "outputs": [],
   "source": [
    "coef=pd.Series(l.coef_,x_train.columns.sort_values())"
   ]
  },
  {
   "cell_type": "code",
   "execution_count": 92,
   "metadata": {},
   "outputs": [
    {
     "data": {
      "image/png": "[encoded data removed]",
      "text/plain": [
       "<Figure size 432x288 with 1 Axes>"
      ]
     },
     "metadata": {
      "needs_background": "light"
     },
     "output_type": "display_data"
    }
   ],
   "source": [
    "coef.plot(kind=\"bar\",title=\"model coefficent\")\n",
    "plt.show()"
   ]
  },
  {
   "cell_type": "markdown",
   "metadata": {},
   "source": [
    "# Simple linear Support vector"
   ]
  },
  {
   "cell_type": "code",
   "execution_count": 93,
   "metadata": {},
   "outputs": [],
   "source": [
    "from sklearn.svm import LinearSVC \n",
    "from sklearn.metrics import classification_report "
   ]
  },
  {
   "cell_type": "code",
   "execution_count": 94,
   "metadata": {},
   "outputs": [],
   "source": [
    "lsv=LinearSVC(random_state=1) # becasue the line will be created randomly "
   ]
  },
  {
   "cell_type": "code",
   "execution_count": 95,
   "metadata": {},
   "outputs": [
    {
     "data": {
      "text/plain": [
       "LinearSVC(random_state=1)"
      ]
     },
     "execution_count": 95,
     "metadata": {},
     "output_type": "execute_result"
    }
   ],
   "source": [
    "lsv.fit(x_train,y_train)"
   ]
  },
  {
   "cell_type": "code",
   "execution_count": 96,
   "metadata": {},
   "outputs": [],
   "source": [
    "y_pred=lsv.predict(x_test)"
   ]
  },
  {
   "cell_type": "code",
   "execution_count": 97,
   "metadata": {},
   "outputs": [
    {
     "name": "stdout",
     "output_type": "stream",
     "text": [
      "              precision    recall  f1-score   support\n",
      "\n",
      "         0.0       0.90      0.04      0.07      3718\n",
      "         1.0       0.00      0.00      0.00         3\n",
      "         2.0       0.00      0.00      0.00         3\n",
      "         3.0       0.00      0.00      0.00         2\n",
      "         6.0       0.00      0.00      0.00         1\n",
      "        11.0       0.00      0.00      0.00         1\n",
      "        12.0       0.00      0.00      0.00         2\n",
      "        15.0       0.00      0.00      0.00         1\n",
      "        30.0       0.00      0.00      0.00         2\n",
      "        32.0       0.00      0.00      0.00         1\n",
      "        68.0       0.00      0.00      0.00         0\n",
      "        75.0       0.00      0.00      0.00         2\n",
      "        95.0       0.00      0.00      0.00         1\n",
      "        98.0       0.00      0.00      0.00         1\n",
      "       108.0       0.00      0.00      0.00         1\n",
      "       112.0       0.00      0.00      0.00         1\n",
      "       118.0       0.00      0.00      0.00         0\n",
      "       177.0       0.00      0.00      0.00         1\n",
      "       200.0       0.00      0.00      0.00         1\n",
      "       210.0       0.00      0.00      0.00         1\n",
      "       250.0       0.00      0.00      0.00         2\n",
      "       340.0       0.00      0.00      0.00         1\n",
      "       344.0       0.00      0.00      0.00         1\n",
      "       400.0       0.00      0.00      0.00         1\n",
      "       500.0       0.00      0.00      0.00         1\n",
      "       550.0       0.00      0.00      0.00         1\n",
      "       560.0       0.00      0.00      0.00         0\n",
      "       600.0       0.00      0.00      0.00         3\n",
      "       650.0       0.00      0.00      0.00         1\n",
      "       700.0       0.00      0.00      0.00         1\n",
      "       750.0       0.00      0.00      0.00         1\n",
      "      5000.0       0.00      0.00      0.00         2\n",
      "      6000.0       0.00      0.00      0.00         1\n",
      "      8000.0       0.00      0.00      0.00         1\n",
      "      9000.0       0.00      0.00      0.00         1\n",
      "     10000.0       0.00      0.00      0.00         2\n",
      "     11000.0       0.00      0.00      0.00         1\n",
      "     11178.0       0.00      0.00      0.00         1\n",
      "     11180.0       0.00      0.00      0.00         1\n",
      "     12000.0       0.00      0.00      0.00         1\n",
      "     14000.0       0.00      0.00      0.00         1\n",
      "     15000.0       0.00      0.00      0.00         1\n",
      "     17000.0       0.00      0.00      0.00         1\n",
      "     19000.0       0.00      0.00      0.00         1\n",
      "     23430.0       0.00      0.00      0.00         1\n",
      "     24000.0       0.00      0.00      0.00         1\n",
      "     24500.0       0.00      0.00      0.00         1\n",
      "     25000.0       0.00      0.00      0.00         3\n",
      "     27000.0       0.00      0.00      0.00         2\n",
      "     28000.0       0.00      0.00      0.00         1\n",
      "     30000.0       0.00      0.00      0.00         2\n",
      "     31192.0       0.00      0.00      0.00         1\n",
      "     33000.0       0.00      0.00      0.00         1\n",
      "     35000.0       0.00      0.00      0.00         2\n",
      "     40000.0       0.00      0.00      0.00         1\n",
      "     46000.0       0.00      0.00      0.00         1\n",
      "     48740.0       0.00      0.00      0.00         1\n",
      "     50000.0       0.00      0.00      0.00         4\n",
      "     53000.0       0.00      0.00      0.00         1\n",
      "     56000.0       0.00      0.00      0.00         1\n",
      "     60000.0       0.00      0.00      0.00         2\n",
      "     62000.0       0.00      0.00      0.00         2\n",
      "     63500.0       0.00      0.00      0.00         1\n",
      "     64000.0       0.00      0.00      0.00         1\n",
      "     64200.0       0.00      0.00      0.00         1\n",
      "     65000.0       0.00      0.00      0.00         2\n",
      "     66000.0       0.00      0.00      0.00         1\n",
      "     70000.0       0.00      0.00      0.00         2\n",
      "     75000.0       0.00      0.00      0.00         2\n",
      "     88000.0       0.00      0.00      0.00         1\n",
      "     90000.0       0.00      0.00      0.00         2\n",
      "    100000.0       0.00      0.00      0.00         5\n",
      "    106000.0       0.00      0.00      0.00         1\n",
      "    120000.0       0.00      0.00      0.00         3\n",
      "    125000.0       0.00      0.00      0.00         1\n",
      "    130000.0       0.00      0.00      0.00         1\n",
      "    134000.0       0.00      0.00      0.00         1\n",
      "    135000.0       0.00      0.00      0.00         1\n",
      "    140000.0       0.00      0.00      0.00         2\n",
      "    145786.0       0.00      0.00      0.00         1\n",
      "    146000.0       0.00      0.00      0.00         1\n",
      "    150000.0       0.00      0.00      0.00         3\n",
      "    152000.0       0.00      0.00      0.00         1\n",
      "    156660.0       0.00      0.00      0.00         1\n",
      "    170000.0       0.00      0.00      0.00         1\n",
      "    180000.0       0.00      0.00      0.00         2\n",
      "    185000.0       0.00      0.00      0.00         1\n",
      "    187000.0       0.00      0.00      0.00         1\n",
      "    191000.0       0.00      0.00      0.00         1\n",
      "    200000.0       0.00      0.00      0.00         7\n",
      "    220093.0       0.00      0.00      0.00         1\n",
      "    225000.0       0.00      0.00      0.00         1\n",
      "    230000.0       0.00      0.00      0.00         1\n",
      "    245000.0       0.00      0.00      0.00         1\n",
      "    250000.0       0.00      0.00      0.00        14\n",
      "    275000.0       0.00      0.00      0.00         1\n",
      "    300000.0       0.00      0.00      0.00         8\n",
      "    325927.0       0.00      0.00      0.00         1\n",
      "    350000.0       0.00      0.00      0.00         3\n",
      "    364000.0       0.00      0.00      0.00         1\n",
      "    365000.0       0.00      0.00      0.00         1\n",
      "    370000.0       0.00      0.00      0.00         1\n",
      "    375000.0       0.00      0.00      0.00         1\n",
      "    375581.0       0.00      0.00      0.00         1\n",
      "    400000.0       0.00      0.00      0.00         6\n",
      "    450000.0       0.00      0.00      0.00         2\n",
      "    500000.0       0.00      0.00      0.00        23\n",
      "    517000.0       0.00      0.00      0.00         1\n",
      "    520000.0       0.00      0.00      0.00         1\n",
      "    525000.0       0.00      0.00      0.00         1\n",
      "    558000.0       0.00      0.00      0.00         1\n",
      "    600000.0       0.00      0.00      0.00         4\n",
      "    609000.0       0.00      0.00      0.00         1\n",
      "    640000.0       0.00      0.00      0.00         1\n",
      "    658000.0       0.00      0.00      0.00         1\n",
      "    689665.0       0.00      0.00      0.00         1\n",
      "    700000.0       0.00      0.00      0.00         8\n",
      "    717000.0       0.00      0.00      0.00         1\n",
      "    747000.0       0.00      0.00      0.00         1\n",
      "    750000.0       0.00      0.00      0.00         5\n",
      "    760000.0       0.00      0.00      0.00         1\n",
      "    780000.0       0.00      0.00      0.00         1\n",
      "    800000.0       0.00      0.00      0.00         2\n",
      "    813000.0       0.00      0.00      0.00         1\n",
      "    850000.0       0.00      0.00      0.00         4\n",
      "    886000.0       0.00      0.00      0.00         1\n",
      "    930000.0       0.00      0.00      0.00         1\n",
      "    950000.0       0.00      0.00      0.00         1\n",
      "    970000.0       0.00      0.00      0.00         1\n",
      "    978000.0       0.00      0.00      0.00         0\n",
      "   1000000.0       0.00      0.00      0.00        39\n",
      "   1143000.0       0.00      0.00      0.00         0\n",
      "   1200000.0       0.00      0.00      0.00         7\n",
      "   1243000.0       0.00      0.00      0.00         1\n",
      "   1250000.0       0.00      0.00      0.00         3\n",
      "   1300000.0       0.00      0.00      0.00         2\n",
      "   1340000.0       0.00      0.00      0.00         1\n",
      "   1400000.0       0.00      0.00      0.00         3\n",
      "   1455000.0       0.00      0.00      0.00         1\n",
      "   1500000.0       0.00      0.00      0.00        20\n",
      "   1556288.0       0.00      0.00      0.00         1\n",
      "   1558000.0       0.00      0.00      0.00         1\n",
      "   1580000.0       0.00      0.00      0.00         1\n",
      "   1600000.0       0.00      0.00      0.00         1\n",
      "   1700000.0       0.00      0.00      0.00         2\n",
      "   1750000.0       0.00      0.00      0.00         1\n",
      "   1800000.0       0.00      0.00      0.00         1\n",
      "   1850000.0       0.00      0.00      0.00         1\n",
      "   1884000.0       0.00      0.00      0.00         1\n",
      "   1900000.0       0.00      0.00      0.00         1\n",
      "   1949120.0       0.00      0.00      0.00         1\n",
      "   2000000.0       0.00      0.00      0.00        34\n",
      "   2090000.0       0.00      0.00      0.00         1\n",
      "   2142000.0       0.00      0.00      0.00         1\n",
      "   2200000.0       0.00      0.00      0.00         2\n",
      "   2250000.0       0.00      0.00      0.00         0\n",
      "   2278264.0       0.00      0.00      0.00         1\n",
      "   2300000.0       0.00      0.00      0.00         3\n",
      "   2400000.0       0.00      0.00      0.00         2\n",
      "   2410000.0       0.00      0.00      0.00         1\n",
      "   2480421.0       0.00      0.00      0.00         1\n",
      "   2489400.0       0.00      0.00      0.00         1\n",
      "   2494400.0       0.00      0.00      0.00         1\n",
      "   2500000.0       0.00      0.00      0.00        14\n",
      "   2600000.0       0.00      0.00      0.00         4\n",
      "   2620000.0       0.00      0.00      0.00         1\n",
      "   2750000.0       0.00      0.00      0.00         1\n",
      "   2800000.0       0.00      0.00      0.00         3\n",
      "   2840000.0       0.00      0.00      0.00         1\n",
      "   2962051.0       0.00      0.00      0.00         1\n",
      "   2970000.0       0.00      0.00      0.00         1\n",
      "   3000000.0       0.00      0.00      0.00        29\n",
      "   3005000.0       0.00      0.00      0.00         1\n",
      "   3100000.0       0.00      0.00      0.00         2\n",
      "   3200000.0       0.00      0.00      0.00         3\n",
      "   3300000.0       0.00      0.00      0.00         1\n",
      "   3400000.0       0.00      0.00      0.00         4\n",
      "   3500000.0       0.00      0.00      0.00        10\n",
      "   3673315.0       0.00      0.00      0.00         1\n",
      "   3700000.0       0.00      0.00      0.00         1\n",
      "   3837625.0       0.00      0.00      0.00         1\n",
      "   3900000.0       0.00      0.00      0.00         1\n",
      "   3906840.0       0.00      0.00      0.00         1\n",
      "   4000000.0       0.00      0.00      0.00        17\n",
      "   4090000.0       0.00      0.00      0.00         1\n",
      "   4100000.0       0.00      0.00      0.00         1\n",
      "   4185000.0       0.00      0.00      0.00         1\n",
      "   4300000.0       0.00      0.00      0.00         2\n",
      "   4400000.0       0.00      0.00      0.00         1\n",
      "   4466000.0       0.00      0.00      0.00         1\n",
      "   4500000.0       0.00      0.00      0.00         3\n",
      "   4600000.0       0.00      0.00      0.00         1\n",
      "   4653000.0       0.00      0.00      0.00         1\n",
      "   4668069.0       0.00      0.00      0.00         1\n",
      "   4700000.0       0.00      0.00      0.00         2\n",
      "   4750000.0       0.00      0.00      0.00         1\n",
      "   5000000.0       0.00      0.00      0.00        40\n",
      "   5115000.0       0.00      0.00      0.00         1\n",
      "   5200000.0       0.00      0.00      0.00         2\n",
      "   5300000.0       0.00      0.00      0.00         1\n",
      "   5500000.0       0.00      0.00      0.00         1\n",
      "   5900000.0       0.00      0.00      0.00         1\n",
      "   6000000.0       0.00      0.00      0.00        25\n",
      "   6200000.0       0.00      0.00      0.00         1\n",
      "   6229577.0       0.00      0.00      0.00         1\n",
      "   6277106.0       0.00      0.00      0.00         1\n",
      "   6400000.0       0.00      0.00      0.00         1\n",
      "   6500000.0       0.00      0.00      0.00         2\n",
      "   6600000.0       0.00      0.00      0.00         1\n",
      "   6727000.0       0.00      0.00      0.00         0\n",
      "   6788000.0       0.00      0.00      0.00         1\n",
      "   6965576.0       0.00      0.00      0.00         1\n",
      "   7000000.0       0.00      0.00      0.00        11\n",
      "   7200000.0       0.00      0.00      0.00         2\n",
      "   7500000.0       0.00      0.00      0.00         6\n",
      "   8000000.0       0.00      0.00      0.00        20\n",
      "   8292000.0       0.00      0.00      0.00         1\n",
      "   8500000.0       0.00      0.00      0.00         7\n",
      "   9000000.0       0.00      0.00      0.00         8\n",
      "   9023199.0       0.00      0.00      0.00         1\n",
      "   9400000.0       0.00      0.00      0.00         1\n",
      "  10000000.0       0.00      0.00      0.00        20\n",
      "  10500000.0       0.00      0.00      0.00         1\n",
      "  11000000.0       0.00      0.00      0.00        10\n",
      "  11400000.0       0.00      0.00      0.00         1\n",
      "  11500000.0       0.00      0.00      0.00         1\n",
      "  12000000.0       0.00      0.00      0.00        17\n",
      "  12500000.0       0.00      0.00      0.00         3\n",
      "  13000000.0       0.00      0.00      0.00        13\n",
      "  13100000.0       0.00      0.00      0.00         1\n",
      "  13500000.0       0.00      0.00      0.00         1\n",
      "  13650000.0       0.00      0.00      0.00         1\n",
      "  14000000.0       0.00      0.00      0.00         8\n",
      "  14500000.0       0.00      0.00      0.00         1\n",
      "  15000000.0       0.00      0.00      0.00        18\n",
      "  16000000.0       0.00      0.00      0.00         6\n",
      "  16500000.0       0.00      0.00      0.00         1\n",
      "  16800000.0       0.00      0.00      0.00         1\n",
      "  17000000.0       0.00      0.00      0.00        11\n",
      "  17500000.0       0.00      0.00      0.00         1\n",
      "  18000000.0       0.00      0.00      0.00        11\n",
      "  19000000.0       0.00      0.00      0.00         3\n",
      "  19500000.0       0.00      0.00      0.00         1\n",
      "  20000000.0       0.00      0.00      0.00        15\n",
      "  21000000.0       0.00      0.00      0.00         1\n",
      "  22000000.0       0.00      0.00      0.00         4\n",
      "  23000000.0       0.00      0.00      0.00         4\n",
      "  24000000.0       0.00      0.00      0.00         5\n",
      "  25000000.0       0.00      0.00      0.00        14\n",
      "  25496629.0       0.00      0.00      0.00         1\n",
      "  26000000.0       0.00      0.00      0.00         3\n",
      "  27000000.0       0.00      0.00      0.00         2\n",
      "  28000000.0       0.00      0.00      0.00         1\n",
      "  30000000.0       0.00      0.00      0.00         6\n",
      "  32000000.0       0.00      0.00      0.00         2\n",
      "  33000000.0       0.00      0.00      0.00         1\n",
      "  35000000.0       0.00      0.00      0.00         7\n",
      "  36000000.0       0.00      0.00      0.00         1\n",
      "  38000000.0       0.00      0.00      0.00         2\n",
      "  40000000.0       0.00      0.00      0.00         3\n",
      "  42000000.0       0.00      0.00      0.00         1\n",
      "  45000000.0       0.00      0.00      0.00         5\n",
      "  48000000.0       0.00      0.00      0.00         1\n",
      "  49000000.0       0.00      0.00      0.00         1\n",
      "  50000000.0       0.00      0.00      0.00         3\n",
      "  55000000.0       0.00      0.00      0.00         1\n",
      "  60000000.0       0.00      0.00      0.00         3\n",
      "  60720000.0       0.00      0.00      0.00         1\n",
      "  64000000.0       0.00      0.00      0.00         1\n",
      "  65000000.0       0.00      0.00      0.00         2\n",
      "  82000000.0       0.00      0.00      0.00         1\n",
      "  90000000.0       0.00      0.00      0.00         1\n",
      "\n",
      "    accuracy                           0.03      4566\n",
      "   macro avg       0.00      0.00      0.00      4566\n",
      "weighted avg       0.73      0.03      0.06      4566\n",
      "\n"
     ]
    }
   ],
   "source": [
    "print(classification_report(y_test,y_pred))"
   ]
  },
  {
   "cell_type": "markdown",
   "metadata": {},
   "source": [
    "# Apply other kernels"
   ]
  },
  {
   "cell_type": "code",
   "execution_count": 98,
   "metadata": {},
   "outputs": [],
   "source": [
    "from sklearn.svm import SVC "
   ]
  },
  {
   "cell_type": "code",
   "execution_count": 99,
   "metadata": {},
   "outputs": [
    {
     "data": {
      "text/plain": [
       "'\\nsvc=SVC(random_state=1,kernel=\"poly\") # decision boundry will be polynomial\\nsvc.fit(x_train,y_train)\\ny_pred=svc.predict(x_test)\\nprint(classification_report(y_test,y_pred))\\n'"
      ]
     },
     "execution_count": 99,
     "metadata": {},
     "output_type": "execute_result"
    }
   ],
   "source": [
    "'''\n",
    "svc=SVC(random_state=1,kernel=\"poly\") # decision boundry will be polynomial\n",
    "svc.fit(x_train,y_train)\n",
    "y_pred=svc.predict(x_test)\n",
    "print(classification_report(y_test,y_pred))\n",
    "'''"
   ]
  },
  {
   "cell_type": "markdown",
   "metadata": {},
   "source": [
    "# Gridsearch SVC"
   ]
  },
  {
   "cell_type": "code",
   "execution_count": 100,
   "metadata": {},
   "outputs": [],
   "source": [
    "from sklearn.model_selection import GridSearchCV"
   ]
  },
  {
   "cell_type": "code",
   "execution_count": 101,
   "metadata": {},
   "outputs": [
    {
     "data": {
      "text/plain": [
       "'\\nC=[1.0,0.25,0.5,0.75] # margine \\nkernel=[\"linear\",\"rbf\",\"poly\"]\\ndecision_function_shape=[\"ovo\",\"ovr\"]\\n# ovr= one vs rest \\n# ovo = one vs one \\nsvmg=SVC(random_state=1)\\ngrid_svm=GridSearchCV(estimator=svmg,\\n                      cv=5,\\n                      param_grid=dict(kernel=kernel,C=C,\\n                                      decision_function_shape=decision_function_shape)\\n                      ,verbose = 5)\\ngrid_svm.fit(x_train,y_train)\\nprint(\"best score: \", grid_svm.best_score_)\\nprint(\"best param: \", grid_svm.best_params_)\\n#so it is also gives cross fold validation so my model will be trained with all possible \\n#patterns \\n'"
      ]
     },
     "execution_count": 101,
     "metadata": {},
     "output_type": "execute_result"
    }
   ],
   "source": [
    "'''\n",
    "C=[1.0,0.25,0.5,0.75] # margine \n",
    "kernel=[\"linear\",\"rbf\",\"poly\"]\n",
    "decision_function_shape=[\"ovo\",\"ovr\"]\n",
    "# ovr= one vs rest \n",
    "# ovo = one vs one \n",
    "svmg=SVC(random_state=1)\n",
    "grid_svm=GridSearchCV(estimator=svmg,\n",
    "                      cv=5,\n",
    "                      param_grid=dict(kernel=kernel,C=C,\n",
    "                                      decision_function_shape=decision_function_shape)\n",
    "                      ,verbose = 5)\n",
    "grid_svm.fit(x_train,y_train)\n",
    "print(\"best score: \", grid_svm.best_score_)\n",
    "print(\"best param: \", grid_svm.best_params_)\n",
    "#so it is also gives cross fold validation so my model will be trained with all possible \n",
    "#patterns \n",
    "'''"
   ]
  },
  {
   "cell_type": "markdown",
   "metadata": {},
   "source": [
    "# Advance Ensemble"
   ]
  },
  {
   "cell_type": "markdown",
   "metadata": {},
   "source": [
    "# (1) Bagging"
   ]
  },
  {
   "cell_type": "markdown",
   "metadata": {},
   "source": [
    "# (1) Bootstrapping Bagging with replacement"
   ]
  },
  {
   "cell_type": "code",
   "execution_count": 105,
   "metadata": {},
   "outputs": [],
   "source": [
    "from sklearn.ensemble import BaggingRegressor"
   ]
  },
  {
   "cell_type": "code",
   "execution_count": 106,
   "metadata": {},
   "outputs": [],
   "source": [
    "bg=BaggingRegressor(LogisticRegression(),\n",
    "                    n_estimators=10,\n",
    "                    max_samples=100,\n",
    "                    random_state=1)"
   ]
  },
  {
   "cell_type": "code",
   "execution_count": 107,
   "metadata": {},
   "outputs": [],
   "source": [
    "bg.fit(x_train,y_train)\n",
    "y_pred=bg.predict(x_test)"
   ]
  },
  {
   "cell_type": "code",
   "execution_count": 108,
   "metadata": {},
   "outputs": [
    {
     "name": "stdout",
     "output_type": "stream",
     "text": [
      " accuracy MSE is 32100997711857.395 \n",
      " accuracy R2 score is -0.00020787781213260637 \n"
     ]
    }
   ],
   "source": [
    "y_pred\n",
    "mse=mean_squared_error(y_test,y_pred)\n",
    "r2score=r2_score(y_test,y_pred)\n",
    "print(\" accuracy MSE is {} \".format(mse))\n",
    "print(\" accuracy R2 score is {} \".format(r2score))"
   ]
  },
  {
   "cell_type": "markdown",
   "metadata": {},
   "source": [
    "# (2) Pasting Bagging without replacement"
   ]
  },
  {
   "cell_type": "code",
   "execution_count": 110,
   "metadata": {},
   "outputs": [],
   "source": [
    "bg2=BaggingRegressor(LogisticRegression(),\n",
    "                      n_estimators=10,\n",
    "                      max_samples=100,\n",
    "                      random_state=1,\n",
    "                      bootstrap=False) # no replacement as bootstrap is false "
   ]
  },
  {
   "cell_type": "code",
   "execution_count": 111,
   "metadata": {},
   "outputs": [],
   "source": [
    "bg2.fit(x_train,y_train)\n",
    "y_pred=bg.predict(x_test)"
   ]
  },
  {
   "cell_type": "code",
   "execution_count": 112,
   "metadata": {},
   "outputs": [
    {
     "name": "stdout",
     "output_type": "stream",
     "text": [
      " accuracy MSE is 32100997711857.395 \n",
      " accuracy R2 score is -0.00020787781213260637 \n"
     ]
    }
   ],
   "source": [
    "y_pred\n",
    "mse=mean_squared_error(y_test,y_pred)\n",
    "r2score=r2_score(y_test,y_pred)\n",
    "print(\" accuracy MSE is {} \".format(mse))\n",
    "print(\" accuracy R2 score is {} \".format(r2score))"
   ]
  },
  {
   "cell_type": "markdown",
   "metadata": {},
   "source": [
    "# (2)Random Forest"
   ]
  },
  {
   "cell_type": "code",
   "execution_count": 102,
   "metadata": {},
   "outputs": [],
   "source": [
    "from sklearn.ensemble import RandomForestRegressor"
   ]
  },
  {
   "cell_type": "code",
   "execution_count": 103,
   "metadata": {},
   "outputs": [
    {
     "name": "stdout",
     "output_type": "stream",
     "text": [
      " accuracy MSE is 28072019581859.85 \n",
      " accuracy R2 score is 0.1253276491932418 \n"
     ]
    }
   ],
   "source": [
    "rf=RandomForestRegressor(n_estimators=10,\n",
    "                          max_features=5,\n",
    "                          random_state=1)\n",
    "rf.fit(x_train,y_train)\n",
    "y_pred=rf.predict(x_test)\n",
    "y_pred\n",
    "mse=mean_squared_error(y_test,y_pred)\n",
    "r2score=r2_score(y_test,y_pred)\n",
    "print(\" accuracy MSE is {} \".format(mse))\n",
    "print(\" accuracy R2 score is {} \".format(r2score))"
   ]
  },
  {
   "cell_type": "markdown",
   "metadata": {},
   "source": [
    "# boosting techniques"
   ]
  },
  {
   "cell_type": "markdown",
   "metadata": {},
   "source": [
    "# (1) adaboost"
   ]
  },
  {
   "cell_type": "code",
   "execution_count": 129,
   "metadata": {},
   "outputs": [],
   "source": [
    "# algorithm based ensemple ML \n",
    "from sklearn.ensemble import AdaBoostRegressor"
   ]
  },
  {
   "cell_type": "code",
   "execution_count": 130,
   "metadata": {},
   "outputs": [],
   "source": [
    "#from sklearn.metrics import classification_report"
   ]
  },
  {
   "cell_type": "code",
   "execution_count": 131,
   "metadata": {},
   "outputs": [
    {
     "name": "stdout",
     "output_type": "stream",
     "text": [
      " accuracy MSE is 79029094324489.36 \n",
      " accuracy R2 score is -1.4624008085117772 \n"
     ]
    }
   ],
   "source": [
    "ada=AdaBoostRegressor()\n",
    "ada.fit(x_train,y_train)\n",
    "y_pred=ada.predict(x_test)\n",
    "y_pred\n",
    "mse=mean_squared_error(y_test,y_pred)\n",
    "r2score=r2_score(y_test,y_pred)\n",
    "print(\" accuracy MSE is {} \".format(mse))\n",
    "print(\" accuracy R2 score is {} \".format(r2score))"
   ]
  },
  {
   "cell_type": "markdown",
   "metadata": {},
   "source": [
    "# (2) gradient boost"
   ]
  },
  {
   "cell_type": "code",
   "execution_count": 133,
   "metadata": {},
   "outputs": [],
   "source": [
    "from sklearn.ensemble import GradientBoostingRegressor"
   ]
  },
  {
   "cell_type": "code",
   "execution_count": 134,
   "metadata": {},
   "outputs": [],
   "source": [
    "#if i will not specify parameters then it will be greedy by nature so we decide to keep limited feature and max_depth\n",
    "gb = GradientBoostingRegressor(n_estimators=20,\n",
    "                                learning_rate = 0.5,\n",
    "                                max_features=5,\n",
    "                                max_depth = 2,\n",
    "                                random_state = 0)"
   ]
  },
  {
   "cell_type": "code",
   "execution_count": 135,
   "metadata": {},
   "outputs": [
    {
     "data": {
      "text/plain": [
       "GradientBoostingRegressor(learning_rate=0.5, max_depth=2, max_features=5,\n",
       "                          n_estimators=20, random_state=0)"
      ]
     },
     "execution_count": 135,
     "metadata": {},
     "output_type": "execute_result"
    }
   ],
   "source": [
    "gb.fit(x_train,y_train)"
   ]
  },
  {
   "cell_type": "code",
   "execution_count": 136,
   "metadata": {},
   "outputs": [
    {
     "name": "stdout",
     "output_type": "stream",
     "text": [
      " accuracy MSE is 23796901080381.53 \n",
      " accuracy R2 score is 0.25853245616344855 \n"
     ]
    }
   ],
   "source": [
    "y_pred = gb.predict(x_test)\n",
    "y_pred\n",
    "mse=mean_squared_error(y_test,y_pred)\n",
    "r2score=r2_score(y_test,y_pred)\n",
    "print(\" accuracy MSE is {} \".format(mse))\n",
    "print(\" accuracy R2 score is {} \".format(r2score))"
   ]
  },
  {
   "cell_type": "markdown",
   "metadata": {},
   "source": [
    "# Xgboost"
   ]
  },
  {
   "cell_type": "code",
   "execution_count": 137,
   "metadata": {},
   "outputs": [
    {
     "name": "stdout",
     "output_type": "stream",
     "text": [
      "Requirement already satisfied: xgboost in c:\\users\\swapn\\anaconda3\\lib\\site-packages (1.3.3)\n",
      "Requirement already satisfied: scipy in c:\\users\\swapn\\anaconda3\\lib\\site-packages (from xgboost) (1.5.0)\n",
      "Requirement already satisfied: numpy in c:\\users\\swapn\\anaconda3\\lib\\site-packages (from xgboost) (1.18.5)\n"
     ]
    }
   ],
   "source": [
    "! pip3 install xgboost"
   ]
  },
  {
   "cell_type": "code",
   "execution_count": 138,
   "metadata": {},
   "outputs": [
    {
     "name": "stdout",
     "output_type": "stream",
     "text": [
      " accuracy MSE is 23796901080381.53 \n",
      " accuracy R2 score is 0.25853245616344855 \n"
     ]
    }
   ],
   "source": [
    "# For better results we need to  tune the parameters\n",
    "from xgboost import XGBRegressor\n",
    "xgboost = XGBRegressor(learning_rate =0.05,\n",
    "                        n_estimators=500,\n",
    "                        max_depth=2,\n",
    "                        min_child_weight=1)\n",
    "xgboost.fit(x_train, y_train)\n",
    "y_pred = gb.predict(x_test)\n",
    "y_pred = gb.predict(x_test)\n",
    "y_pred\n",
    "mse=mean_squared_error(y_test,y_pred)\n",
    "r2score=r2_score(y_test,y_pred)\n",
    "print(\" accuracy MSE is {} \".format(mse))\n",
    "print(\" accuracy R2 score is {} \".format(r2score))"
   ]
  },
  {
   "cell_type": "markdown",
   "metadata": {},
   "source": [
    "# Chi2 Test"
   ]
  },
  {
   "cell_type": "code",
   "execution_count": 139,
   "metadata": {},
   "outputs": [],
   "source": [
    "from sklearn.feature_selection import chi2\n",
    "from sklearn.feature_selection import SelectKBest"
   ]
  },
  {
   "cell_type": "code",
   "execution_count": 140,
   "metadata": {},
   "outputs": [],
   "source": [
    "#chi2 will not allow null values feature if its plz give absolute or remove that feature \n",
    "chi=SelectKBest(score_func=chi2,k=9) # we told maximum 7 features & using chi2 test"
   ]
  },
  {
   "cell_type": "code",
   "execution_count": 141,
   "metadata": {},
   "outputs": [],
   "source": [
    "# will select best 7 features and create x_train_f df with those features \n",
    "x_train_f=chi.fit_transform(x_train,y_train)"
   ]
  },
  {
   "cell_type": "code",
   "execution_count": 142,
   "metadata": {},
   "outputs": [],
   "source": [
    "x_test_f=chi.transform(x_test)"
   ]
  },
  {
   "cell_type": "code",
   "execution_count": 143,
   "metadata": {},
   "outputs": [
    {
     "name": "stdout",
     "output_type": "stream",
     "text": [
      "['id', 'imdb_id', 'popularity', 'revenue', 'vote_count', 'original_title', 'overview', 'tagline', 'title']\n"
     ]
    }
   ],
   "source": [
    "# i want to known which columns it is considering for learning \n",
    "chi_featurs=chi.get_support()\n",
    "chi_features=x.loc[:,chi_featurs].columns.tolist()\n",
    "print(chi_features)"
   ]
  },
  {
   "cell_type": "code",
   "execution_count": 144,
   "metadata": {},
   "outputs": [
    {
     "name": "stdout",
     "output_type": "stream",
     "text": [
      "chi2 feature model accuracy r2 score=> 0.10261800739792803\n"
     ]
    }
   ],
   "source": [
    "lin_chi=LinearRegression()\n",
    "lin_chi.fit(x_train_f,y_train)\n",
    "print(\"chi2 feature model accuracy r2 score=>\",lin_chi.score(x_test_f,y_test))"
   ]
  },
  {
   "cell_type": "markdown",
   "metadata": {},
   "source": [
    "# Anova"
   ]
  },
  {
   "cell_type": "code",
   "execution_count": 145,
   "metadata": {},
   "outputs": [],
   "source": [
    "# create model with anova test \n",
    "from sklearn.feature_selection import f_regression # anova\n",
    "anova=SelectKBest(score_func=f_regression,k=12)"
   ]
  },
  {
   "cell_type": "code",
   "execution_count": 146,
   "metadata": {},
   "outputs": [
    {
     "name": "stdout",
     "output_type": "stream",
     "text": [
      "r2score with anova best k 12 features 0.11731098720471711\n"
     ]
    }
   ],
   "source": [
    "x_train_f=anova.fit_transform(x_train,y_train)\n",
    "x_test_f=anova.transform(x_test)\n",
    "lin_anova=LinearRegression()\n",
    "lin_anova.fit(x_train_f,y_train)\n",
    "print(\"r2score with anova best k 12 features\",lin_anova.score(x_test_f,y_test))"
   ]
  },
  {
   "cell_type": "code",
   "execution_count": 147,
   "metadata": {},
   "outputs": [
    {
     "name": "stdout",
     "output_type": "stream",
     "text": [
      "['id', 'imdb_id', 'popularity', 'revenue', 'runtime', 'vote_average', 'vote_count', 'original_language', 'overview', 'tagline', 'title', 'video']\n"
     ]
    }
   ],
   "source": [
    "#list of feature support by anova\n",
    "anova_support=anova.get_support()\n",
    "anova_feature = x.loc[:,anova_support].columns.tolist()\n",
    "print(anova_feature)"
   ]
  },
  {
   "cell_type": "markdown",
   "metadata": {},
   "source": [
    "# PCA"
   ]
  },
  {
   "cell_type": "code",
   "execution_count": 148,
   "metadata": {},
   "outputs": [],
   "source": [
    "from sklearn.decomposition import PCA"
   ]
  },
  {
   "cell_type": "code",
   "execution_count": 149,
   "metadata": {},
   "outputs": [
    {
     "data": {
      "text/plain": [
       "16"
      ]
     },
     "execution_count": 149,
     "metadata": {},
     "output_type": "execute_result"
    }
   ],
   "source": [
    "len(df_new.columns) # 15 dimension records we want to decrese 15 diemnsiion into 4 dimension features "
   ]
  },
  {
   "cell_type": "code",
   "execution_count": 150,
   "metadata": {},
   "outputs": [],
   "source": [
    "pc = PCA(n_components=4,random_state=1) # reduce 14 dimension into 4 dimension"
   ]
  },
  {
   "cell_type": "code",
   "execution_count": 151,
   "metadata": {},
   "outputs": [],
   "source": [
    "x = df_new.drop(\"budget\",axis=1) # total 14 columns \n",
    "y = df_new[\"budget\"]\n",
    "x_train,x_test,y_train,y_test = train_test_split(x,y,test_size=0.3,random_state=1)"
   ]
  },
  {
   "cell_type": "code",
   "execution_count": 152,
   "metadata": {},
   "outputs": [],
   "source": [
    "x_train_pc = pc.fit_transform(x_train,y_train)\n",
    "x_test_pc = pc.transform(x_test)"
   ]
  },
  {
   "cell_type": "code",
   "execution_count": 153,
   "metadata": {},
   "outputs": [
    {
     "data": {
      "text/plain": [
       "LinearRegression()"
      ]
     },
     "execution_count": 153,
     "metadata": {},
     "output_type": "execute_result"
    }
   ],
   "source": [
    "lin = LinearRegression()\n",
    "lin.fit(x_train_pc,y_train)"
   ]
  },
  {
   "cell_type": "code",
   "execution_count": 154,
   "metadata": {},
   "outputs": [
    {
     "data": {
      "text/plain": [
       "0.017288338081723253"
      ]
     },
     "execution_count": 154,
     "metadata": {},
     "output_type": "execute_result"
    }
   ],
   "source": [
    "lin.score(x_test_pc,y_test)"
   ]
  },
  {
   "cell_type": "code",
   "execution_count": 155,
   "metadata": {},
   "outputs": [],
   "source": [
    "#in the pca the lin score is 0.017 it is not good"
   ]
  },
  {
   "cell_type": "code",
   "execution_count": null,
   "metadata": {},
   "outputs": [],
   "source": []
  }
 ],
 "metadata": {
  "kernelspec": {
   "display_name": "Python 3",
   "language": "python",
   "name": "python3"
  },
  "language_info": {
   "codemirror_mode": {
    "name": "ipython",
    "version": 3
   },
   "file_extension": ".py",
   "mimetype": "text/x-python",
   "name": "python",
   "nbconvert_exporter": "python",
   "pygments_lexer": "ipython3",
   "version": "3.8.3"
  }
 },
 "nbformat": 4,
 "nbformat_minor": 4
}
